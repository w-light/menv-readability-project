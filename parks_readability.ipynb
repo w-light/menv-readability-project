{
 "cells": [
  {
   "cell_type": "markdown",
   "metadata": {},
   "source": [
    "## Readability analysis of Parks Canada BIA project descriptions\n",
    "  \n",
    "### Step 1: Preparing and cleaning project descriptions for analysis\n",
    "\n",
    "The project descriptions have been manually checked for unusual punctuation that would confuse the readability algorithms. Four of the original 50 select BIAs were removed because they consisted almost entirely of bullet points. The remaining project descriptions can be cleaned with the punctuation cleaning function of the Textatisic library."
   ]
  },
  {
   "cell_type": "code",
   "execution_count": 1,
   "metadata": {},
   "outputs": [
    {
     "data": {
      "text/html": [
       "<div>\n",
       "<style scoped>\n",
       "    .dataframe tbody tr th:only-of-type {\n",
       "        vertical-align: middle;\n",
       "    }\n",
       "\n",
       "    .dataframe tbody tr th {\n",
       "        vertical-align: top;\n",
       "    }\n",
       "\n",
       "    .dataframe thead th {\n",
       "        text-align: right;\n",
       "    }\n",
       "</style>\n",
       "<table border=\"1\" class=\"dataframe\">\n",
       "  <thead>\n",
       "    <tr style=\"text-align: right;\">\n",
       "      <th></th>\n",
       "      <th>BIA_no</th>\n",
       "      <th>title</th>\n",
       "      <th>description</th>\n",
       "      <th>field_unit</th>\n",
       "      <th>park</th>\n",
       "      <th>lat</th>\n",
       "      <th>lon</th>\n",
       "      <th>province</th>\n",
       "      <th>contact_internal</th>\n",
       "      <th>fuia_num</th>\n",
       "      <th>...</th>\n",
       "      <th>attach_ia</th>\n",
       "      <th>created</th>\n",
       "      <th>modified</th>\n",
       "      <th>created_by</th>\n",
       "      <th>modified_by</th>\n",
       "      <th>id</th>\n",
       "      <th>item_type</th>\n",
       "      <th>path</th>\n",
       "      <th>lang_check</th>\n",
       "      <th>wordcount</th>\n",
       "    </tr>\n",
       "  </thead>\n",
       "  <tbody>\n",
       "    <tr>\n",
       "      <th>0</th>\n",
       "      <td>87</td>\n",
       "      <td>Wildfire Risk Reduction at Fort Walsh National...</td>\n",
       "      <td>The purpose of this project is to reduce the r...</td>\n",
       "      <td>Saskatchewan South</td>\n",
       "      <td>Fort Walsh National Historic Site of Canada</td>\n",
       "      <td>49.573414</td>\n",
       "      <td>-109.882274</td>\n",
       "      <td>Saskatchewan</td>\n",
       "      <td>Sherri Clifford</td>\n",
       "      <td>SSFU-2020-035-FW</td>\n",
       "      <td>...</td>\n",
       "      <td>NaN</td>\n",
       "      <td>2020-12-07 12:13:59</td>\n",
       "      <td>2021-03-01 17:16:27</td>\n",
       "      <td>Krista Cairns</td>\n",
       "      <td>Krista Cairns</td>\n",
       "      <td>192</td>\n",
       "      <td>Item</td>\n",
       "      <td>sites/ImpactAssessment/Lists/DIA Tracking List</td>\n",
       "      <td>en</td>\n",
       "      <td>149</td>\n",
       "    </tr>\n",
       "    <tr>\n",
       "      <th>1</th>\n",
       "      <td>110</td>\n",
       "      <td>Shoreline Protection - Seawall Repairs</td>\n",
       "      <td>An armoured stone seawall, located around the ...</td>\n",
       "      <td>Southern New Brunswick</td>\n",
       "      <td>St. Andrews Blockhouse National Historic Site ...</td>\n",
       "      <td>45.07707</td>\n",
       "      <td>67.06198</td>\n",
       "      <td>New Brunswick</td>\n",
       "      <td>Shirley Butland</td>\n",
       "      <td>NBSouth-2020-EIA-4</td>\n",
       "      <td>...</td>\n",
       "      <td>NaN</td>\n",
       "      <td>2020-09-25 10:24:42</td>\n",
       "      <td>2021-02-24 15:02:33</td>\n",
       "      <td>Shirley Butland</td>\n",
       "      <td>Shirley Butland</td>\n",
       "      <td>169</td>\n",
       "      <td>Item</td>\n",
       "      <td>sites/ImpactAssessment/Lists/DIA Tracking List</td>\n",
       "      <td>en</td>\n",
       "      <td>139</td>\n",
       "    </tr>\n",
       "    <tr>\n",
       "      <th>2</th>\n",
       "      <td>197</td>\n",
       "      <td>Big Island Marsh DFO Fisheries Habitat Offset ...</td>\n",
       "      <td>A Fisheries Act Authorization is required from...</td>\n",
       "      <td>Waterways</td>\n",
       "      <td>Trent-Severn Waterway National Historic Site o...</td>\n",
       "      <td>44.106416</td>\n",
       "      <td>-77.231107</td>\n",
       "      <td>Ontario</td>\n",
       "      <td>Randy Power</td>\n",
       "      <td>TS-2019-05</td>\n",
       "      <td>...</td>\n",
       "      <td>NaN</td>\n",
       "      <td>2020-02-19 09:18:53</td>\n",
       "      <td>2021-07-27 11:54:55</td>\n",
       "      <td>Randal Power</td>\n",
       "      <td>Randal Power</td>\n",
       "      <td>82</td>\n",
       "      <td>Item</td>\n",
       "      <td>sites/ImpactAssessment/Lists/DIA Tracking List</td>\n",
       "      <td>en</td>\n",
       "      <td>155</td>\n",
       "    </tr>\n",
       "    <tr>\n",
       "      <th>3</th>\n",
       "      <td>111</td>\n",
       "      <td>Rabbit Creek Wildfire Reclamation</td>\n",
       "      <td>In May 2018 the Rabbit Creek Wildfire occurred...</td>\n",
       "      <td>Northern Prairies</td>\n",
       "      <td>Prince Albert National Park of Canada</td>\n",
       "      <td>53 35.00</td>\n",
       "      <td>106 15.00</td>\n",
       "      <td>Saskatchewan</td>\n",
       "      <td>Curtis Matwishyn</td>\n",
       "      <td>PANP-20-1308</td>\n",
       "      <td>...</td>\n",
       "      <td>NaN</td>\n",
       "      <td>2020-09-22 10:43:58</td>\n",
       "      <td>2021-03-10 12:47:19</td>\n",
       "      <td>Fiona Moreland</td>\n",
       "      <td>Fiona Moreland</td>\n",
       "      <td>168</td>\n",
       "      <td>Item</td>\n",
       "      <td>sites/ImpactAssessment/Lists/DIA Tracking List</td>\n",
       "      <td>en</td>\n",
       "      <td>381</td>\n",
       "    </tr>\n",
       "    <tr>\n",
       "      <th>4</th>\n",
       "      <td>149</td>\n",
       "      <td>Lake Superior National Marine Conservation Are...</td>\n",
       "      <td>This project will involve construction of the ...</td>\n",
       "      <td>Ontario North</td>\n",
       "      <td>Lake Superior National Marine Conservation Area</td>\n",
       "      <td>N 49.00912°</td>\n",
       "      <td>W 88.25804°</td>\n",
       "      <td>Ontario</td>\n",
       "      <td>Dan Weller; daniel.weller@canada.ca</td>\n",
       "      <td>LSM20_01</td>\n",
       "      <td>...</td>\n",
       "      <td>NaN</td>\n",
       "      <td>2020-06-23 16:58:16</td>\n",
       "      <td>2021-02-18 16:31:46</td>\n",
       "      <td>Daniel Weller</td>\n",
       "      <td>Daniel Weller</td>\n",
       "      <td>130</td>\n",
       "      <td>Item</td>\n",
       "      <td>sites/ImpactAssessment/Lists/DIA Tracking List</td>\n",
       "      <td>en</td>\n",
       "      <td>131</td>\n",
       "    </tr>\n",
       "  </tbody>\n",
       "</table>\n",
       "<p>5 rows × 30 columns</p>\n",
       "</div>"
      ],
      "text/plain": [
       "   BIA_no                                              title  \\\n",
       "0      87  Wildfire Risk Reduction at Fort Walsh National...   \n",
       "1     110             Shoreline Protection - Seawall Repairs   \n",
       "2     197  Big Island Marsh DFO Fisheries Habitat Offset ...   \n",
       "3     111                  Rabbit Creek Wildfire Reclamation   \n",
       "4     149  Lake Superior National Marine Conservation Are...   \n",
       "\n",
       "                                         description              field_unit  \\\n",
       "0  The purpose of this project is to reduce the r...      Saskatchewan South   \n",
       "1  An armoured stone seawall, located around the ...  Southern New Brunswick   \n",
       "2  A Fisheries Act Authorization is required from...               Waterways   \n",
       "3  In May 2018 the Rabbit Creek Wildfire occurred...       Northern Prairies   \n",
       "4  This project will involve construction of the ...           Ontario North   \n",
       "\n",
       "                                                park          lat  \\\n",
       "0        Fort Walsh National Historic Site of Canada    49.573414   \n",
       "1  St. Andrews Blockhouse National Historic Site ...     45.07707   \n",
       "2  Trent-Severn Waterway National Historic Site o...    44.106416   \n",
       "3              Prince Albert National Park of Canada     53 35.00   \n",
       "4    Lake Superior National Marine Conservation Area  N 49.00912°   \n",
       "\n",
       "           lon       province                     contact_internal  \\\n",
       "0  -109.882274   Saskatchewan                      Sherri Clifford   \n",
       "1     67.06198  New Brunswick                      Shirley Butland   \n",
       "2   -77.231107        Ontario                          Randy Power   \n",
       "3    106 15.00   Saskatchewan                     Curtis Matwishyn   \n",
       "4  W 88.25804°        Ontario  Dan Weller; daniel.weller@canada.ca   \n",
       "\n",
       "             fuia_num  ... attach_ia             created            modified  \\\n",
       "0    SSFU-2020-035-FW  ...       NaN 2020-12-07 12:13:59 2021-03-01 17:16:27   \n",
       "1  NBSouth-2020-EIA-4  ...       NaN 2020-09-25 10:24:42 2021-02-24 15:02:33   \n",
       "2          TS-2019-05  ...       NaN 2020-02-19 09:18:53 2021-07-27 11:54:55   \n",
       "3        PANP-20-1308  ...       NaN 2020-09-22 10:43:58 2021-03-10 12:47:19   \n",
       "4            LSM20_01  ...       NaN 2020-06-23 16:58:16 2021-02-18 16:31:46   \n",
       "\n",
       "        created_by      modified_by   id item_type  \\\n",
       "0    Krista Cairns    Krista Cairns  192      Item   \n",
       "1  Shirley Butland  Shirley Butland  169      Item   \n",
       "2     Randal Power     Randal Power   82      Item   \n",
       "3   Fiona Moreland   Fiona Moreland  168      Item   \n",
       "4    Daniel Weller    Daniel Weller  130      Item   \n",
       "\n",
       "                                             path lang_check wordcount  \n",
       "0  sites/ImpactAssessment/Lists/DIA Tracking List         en       149  \n",
       "1  sites/ImpactAssessment/Lists/DIA Tracking List         en       139  \n",
       "2  sites/ImpactAssessment/Lists/DIA Tracking List         en       155  \n",
       "3  sites/ImpactAssessment/Lists/DIA Tracking List         en       381  \n",
       "4  sites/ImpactAssessment/Lists/DIA Tracking List         en       131  \n",
       "\n",
       "[5 rows x 30 columns]"
      ]
     },
     "execution_count": 1,
     "metadata": {},
     "output_type": "execute_result"
    }
   ],
   "source": [
    "import pandas as pd\n",
    "\n",
    "parks = pd.read_excel(\"data/processed/BIA_50select_edited.xlsx\")\n",
    "\n",
    "parks.head()"
   ]
  },
  {
   "cell_type": "markdown",
   "metadata": {},
   "source": [
    "Reduce this table for convenience"
   ]
  },
  {
   "cell_type": "code",
   "execution_count": 2,
   "metadata": {},
   "outputs": [],
   "source": [
    "data = parks[['BIA_no', 'title', 'description', 'park']].copy()"
   ]
  },
  {
   "cell_type": "code",
   "execution_count": 3,
   "metadata": {},
   "outputs": [
    {
     "data": {
      "text/html": [
       "<div>\n",
       "<style scoped>\n",
       "    .dataframe tbody tr th:only-of-type {\n",
       "        vertical-align: middle;\n",
       "    }\n",
       "\n",
       "    .dataframe tbody tr th {\n",
       "        vertical-align: top;\n",
       "    }\n",
       "\n",
       "    .dataframe thead th {\n",
       "        text-align: right;\n",
       "    }\n",
       "</style>\n",
       "<table border=\"1\" class=\"dataframe\">\n",
       "  <thead>\n",
       "    <tr style=\"text-align: right;\">\n",
       "      <th></th>\n",
       "      <th>BIA_no</th>\n",
       "      <th>title</th>\n",
       "      <th>description</th>\n",
       "      <th>park</th>\n",
       "    </tr>\n",
       "  </thead>\n",
       "  <tbody>\n",
       "    <tr>\n",
       "      <th>0</th>\n",
       "      <td>87</td>\n",
       "      <td>Wildfire Risk Reduction at Fort Walsh National...</td>\n",
       "      <td>The purpose of this project is to reduce the r...</td>\n",
       "      <td>Fort Walsh National Historic Site of Canada</td>\n",
       "    </tr>\n",
       "    <tr>\n",
       "      <th>1</th>\n",
       "      <td>110</td>\n",
       "      <td>Shoreline Protection - Seawall Repairs</td>\n",
       "      <td>An armoured stone seawall, located around the ...</td>\n",
       "      <td>St. Andrews Blockhouse National Historic Site ...</td>\n",
       "    </tr>\n",
       "    <tr>\n",
       "      <th>2</th>\n",
       "      <td>197</td>\n",
       "      <td>Big Island Marsh DFO Fisheries Habitat Offset ...</td>\n",
       "      <td>A Fisheries Act Authorization is required from...</td>\n",
       "      <td>Trent-Severn Waterway National Historic Site o...</td>\n",
       "    </tr>\n",
       "    <tr>\n",
       "      <th>3</th>\n",
       "      <td>111</td>\n",
       "      <td>Rabbit Creek Wildfire Reclamation</td>\n",
       "      <td>In May 2018 the Rabbit Creek Wildfire occurred...</td>\n",
       "      <td>Prince Albert National Park of Canada</td>\n",
       "    </tr>\n",
       "    <tr>\n",
       "      <th>4</th>\n",
       "      <td>149</td>\n",
       "      <td>Lake Superior National Marine Conservation Are...</td>\n",
       "      <td>This project will involve construction of the ...</td>\n",
       "      <td>Lake Superior National Marine Conservation Area</td>\n",
       "    </tr>\n",
       "  </tbody>\n",
       "</table>\n",
       "</div>"
      ],
      "text/plain": [
       "   BIA_no                                              title  \\\n",
       "0      87  Wildfire Risk Reduction at Fort Walsh National...   \n",
       "1     110             Shoreline Protection - Seawall Repairs   \n",
       "2     197  Big Island Marsh DFO Fisheries Habitat Offset ...   \n",
       "3     111                  Rabbit Creek Wildfire Reclamation   \n",
       "4     149  Lake Superior National Marine Conservation Are...   \n",
       "\n",
       "                                         description  \\\n",
       "0  The purpose of this project is to reduce the r...   \n",
       "1  An armoured stone seawall, located around the ...   \n",
       "2  A Fisheries Act Authorization is required from...   \n",
       "3  In May 2018 the Rabbit Creek Wildfire occurred...   \n",
       "4  This project will involve construction of the ...   \n",
       "\n",
       "                                                park  \n",
       "0        Fort Walsh National Historic Site of Canada  \n",
       "1  St. Andrews Blockhouse National Historic Site ...  \n",
       "2  Trent-Severn Waterway National Historic Site o...  \n",
       "3              Prince Albert National Park of Canada  \n",
       "4    Lake Superior National Marine Conservation Area  "
      ]
     },
     "execution_count": 3,
     "metadata": {},
     "output_type": "execute_result"
    }
   ],
   "source": [
    "data.head()"
   ]
  },
  {
   "cell_type": "markdown",
   "metadata": {},
   "source": [
    "Import the Textatistic library and clean the descriptions."
   ]
  },
  {
   "cell_type": "code",
   "execution_count": 4,
   "metadata": {},
   "outputs": [],
   "source": [
    "import textatistic\n",
    "from textatistic import Textatistic"
   ]
  },
  {
   "cell_type": "markdown",
   "metadata": {},
   "source": [
    "Test the library with a single sample text."
   ]
  },
  {
   "cell_type": "code",
   "execution_count": 5,
   "metadata": {},
   "outputs": [
    {
     "data": {
      "text/plain": [
       "'A Fisheries Act Authorization is required from DFO in relation to impacts on fish habitat associated with dam construction projects at TSW Trenton Dam 1 and Glen Miller Dam 3. The Authorization includes provisions for offsetting measures.\\n\\nThe construction of the Big Island causeway in the 1950’s and decreased water flows between the island and the mainland have caused the channels to be filled in with silt, and cattails now cover the entire area from the island to the mainland. Parks Canada is proposing to expand on existing fish habitat enhancements at the Big Island Marsh by constructing a new channel and widening/deepening of 2 existing channels. Cattail marsh vegetation will be removed to a width of 10 m and depths up to 3+0 m, in order to ensure these areas stay open into the future. The Fisheries Offset Plan is expected to result in the enhancement of fish habitat at the Big Island Marsh.\\n'"
      ]
     },
     "execution_count": 5,
     "metadata": {},
     "output_type": "execute_result"
    }
   ],
   "source": [
    "sample = data.iloc[2][\"description\"]\n",
    "prepped_sample = textatistic.punct_clean(sample)\n",
    "prepped_sample"
   ]
  },
  {
   "cell_type": "code",
   "execution_count": 6,
   "metadata": {},
   "outputs": [
    {
     "data": {
      "text/plain": [
       "['A',\n",
       " 'Fisheries',\n",
       " 'Act',\n",
       " 'Authorization',\n",
       " 'is',\n",
       " 'required',\n",
       " 'from',\n",
       " 'DFO',\n",
       " 'in',\n",
       " 'relation',\n",
       " 'to',\n",
       " 'impacts',\n",
       " 'on',\n",
       " 'fish',\n",
       " 'habitat',\n",
       " 'associated',\n",
       " 'with',\n",
       " 'dam',\n",
       " 'construction',\n",
       " 'projects',\n",
       " 'at',\n",
       " 'TSW',\n",
       " 'Trenton',\n",
       " 'Dam',\n",
       " '1',\n",
       " 'and',\n",
       " 'Glen',\n",
       " 'Miller',\n",
       " 'Dam',\n",
       " '3',\n",
       " 'The',\n",
       " 'Authorization',\n",
       " 'includes',\n",
       " 'provisions',\n",
       " 'for',\n",
       " 'offsetting',\n",
       " 'measures',\n",
       " 'The',\n",
       " 'construction',\n",
       " 'of',\n",
       " 'the',\n",
       " 'Big',\n",
       " 'Island',\n",
       " 'causeway',\n",
       " 'in',\n",
       " 'the',\n",
       " '1950’s',\n",
       " 'and',\n",
       " 'decreased',\n",
       " 'water',\n",
       " 'flows',\n",
       " 'between',\n",
       " 'the',\n",
       " 'island',\n",
       " 'and',\n",
       " 'the',\n",
       " 'mainland',\n",
       " 'have',\n",
       " 'caused',\n",
       " 'the',\n",
       " 'channels',\n",
       " 'to',\n",
       " 'be',\n",
       " 'filled',\n",
       " 'in',\n",
       " 'with',\n",
       " 'silt',\n",
       " 'and',\n",
       " 'cattails',\n",
       " 'now',\n",
       " 'cover',\n",
       " 'the',\n",
       " 'entire',\n",
       " 'area',\n",
       " 'from',\n",
       " 'the',\n",
       " 'island',\n",
       " 'to',\n",
       " 'the',\n",
       " 'mainland',\n",
       " 'Parks',\n",
       " 'Canada',\n",
       " 'is',\n",
       " 'proposing',\n",
       " 'to',\n",
       " 'expand',\n",
       " 'on',\n",
       " 'existing',\n",
       " 'fish',\n",
       " 'habitat',\n",
       " 'enhancements',\n",
       " 'at',\n",
       " 'the',\n",
       " 'Big',\n",
       " 'Island',\n",
       " 'Marsh',\n",
       " 'by',\n",
       " 'constructing',\n",
       " 'a',\n",
       " 'new',\n",
       " 'channel',\n",
       " 'and',\n",
       " 'wideningdeepening',\n",
       " 'of',\n",
       " '2',\n",
       " 'existing',\n",
       " 'channels',\n",
       " 'Cattail',\n",
       " 'marsh',\n",
       " 'vegetation',\n",
       " 'will',\n",
       " 'be',\n",
       " 'removed',\n",
       " 'to',\n",
       " 'a',\n",
       " 'width',\n",
       " 'of',\n",
       " '10',\n",
       " 'm',\n",
       " 'and',\n",
       " 'depths',\n",
       " 'up',\n",
       " 'to',\n",
       " '30',\n",
       " 'm',\n",
       " 'in',\n",
       " 'order',\n",
       " 'to',\n",
       " 'ensure',\n",
       " 'these',\n",
       " 'areas',\n",
       " 'stay',\n",
       " 'open',\n",
       " 'into',\n",
       " 'the',\n",
       " 'future',\n",
       " 'The',\n",
       " 'Fisheries',\n",
       " 'Offset',\n",
       " 'Plan',\n",
       " 'is',\n",
       " 'expected',\n",
       " 'to',\n",
       " 'result',\n",
       " 'in',\n",
       " 'the',\n",
       " 'enhancement',\n",
       " 'of',\n",
       " 'fish',\n",
       " 'habitat',\n",
       " 'at',\n",
       " 'the',\n",
       " 'Big',\n",
       " 'Island',\n",
       " 'Marsh']"
      ]
     },
     "execution_count": 6,
     "metadata": {},
     "output_type": "execute_result"
    }
   ],
   "source": [
    "textatistic.word_array(prepped_sample, prepped=True)"
   ]
  },
  {
   "cell_type": "code",
   "execution_count": 7,
   "metadata": {},
   "outputs": [],
   "source": [
    "results = Textatistic(prepped_sample)"
   ]
  },
  {
   "cell_type": "code",
   "execution_count": 8,
   "metadata": {},
   "outputs": [
    {
     "data": {
      "text/plain": [
       "57.80771505376346"
      ]
     },
     "execution_count": 8,
     "metadata": {},
     "output_type": "execute_result"
    }
   ],
   "source": [
    "results.flesch_score"
   ]
  },
  {
   "cell_type": "code",
   "execution_count": 9,
   "metadata": {},
   "outputs": [
    {
     "data": {
      "text/plain": [
       "10.622607526881719"
      ]
     },
     "execution_count": 9,
     "metadata": {},
     "output_type": "execute_result"
    }
   ],
   "source": [
    "results.dalechall_score"
   ]
  },
  {
   "cell_type": "markdown",
   "metadata": {},
   "source": [
    "Now, loop through the whole table. Send the readability scores to the table."
   ]
  },
  {
   "cell_type": "code",
   "execution_count": 10,
   "metadata": {},
   "outputs": [],
   "source": [
    "#clean the project description text and create a new column with the clean text\n",
    "data[\"descr_clean\"] = data[\"description\"].apply(textatistic.punct_clean)"
   ]
  },
  {
   "cell_type": "markdown",
   "metadata": {},
   "source": [
    "### Step 2: Calculate the Flesch reading ease, Flesch-Kincaid grade level, Fog, and Dale-Chall scores\n",
    "\n",
    "Calculate each score and send it to the table in a new column."
   ]
  },
  {
   "cell_type": "code",
   "execution_count": 11,
   "metadata": {},
   "outputs": [],
   "source": [
    "data[\"flesch_re\"] = data[\"descr_clean\"].apply(textatistic.flesch_score)"
   ]
  },
  {
   "cell_type": "code",
   "execution_count": 12,
   "metadata": {},
   "outputs": [],
   "source": [
    "data[\"flesch_kin\"] = data[\"descr_clean\"].apply(textatistic.fleschkincaid_score)\n",
    "data[\"dalechall\"] = data[\"descr_clean\"].apply(textatistic.dalechall_score)\n",
    "data[\"fog\"] = data[\"descr_clean\"].apply(textatistic.gunningfog_score)\n"
   ]
  },
  {
   "cell_type": "code",
   "execution_count": 13,
   "metadata": {},
   "outputs": [
    {
     "data": {
      "text/html": [
       "<div>\n",
       "<style scoped>\n",
       "    .dataframe tbody tr th:only-of-type {\n",
       "        vertical-align: middle;\n",
       "    }\n",
       "\n",
       "    .dataframe tbody tr th {\n",
       "        vertical-align: top;\n",
       "    }\n",
       "\n",
       "    .dataframe thead th {\n",
       "        text-align: right;\n",
       "    }\n",
       "</style>\n",
       "<table border=\"1\" class=\"dataframe\">\n",
       "  <thead>\n",
       "    <tr style=\"text-align: right;\">\n",
       "      <th></th>\n",
       "      <th>BIA_no</th>\n",
       "      <th>title</th>\n",
       "      <th>description</th>\n",
       "      <th>park</th>\n",
       "      <th>descr_clean</th>\n",
       "      <th>flesch_re</th>\n",
       "      <th>flesch_kin</th>\n",
       "      <th>dalechall</th>\n",
       "      <th>fog</th>\n",
       "    </tr>\n",
       "  </thead>\n",
       "  <tbody>\n",
       "    <tr>\n",
       "      <th>0</th>\n",
       "      <td>87</td>\n",
       "      <td>Wildfire Risk Reduction at Fort Walsh National...</td>\n",
       "      <td>The purpose of this project is to reduce the r...</td>\n",
       "      <td>Fort Walsh National Historic Site of Canada</td>\n",
       "      <td>The purpose of this project is to reduce the r...</td>\n",
       "      <td>68.266242</td>\n",
       "      <td>9.025523</td>\n",
       "      <td>9.461063</td>\n",
       "      <td>10.930393</td>\n",
       "    </tr>\n",
       "    <tr>\n",
       "      <th>1</th>\n",
       "      <td>110</td>\n",
       "      <td>Shoreline Protection - Seawall Repairs</td>\n",
       "      <td>An armoured stone seawall, located around the ...</td>\n",
       "      <td>St. Andrews Blockhouse National Historic Site ...</td>\n",
       "      <td>An armoured stone seawall, located around the ...</td>\n",
       "      <td>53.794565</td>\n",
       "      <td>10.653644</td>\n",
       "      <td>10.564184</td>\n",
       "      <td>12.233540</td>\n",
       "    </tr>\n",
       "    <tr>\n",
       "      <th>2</th>\n",
       "      <td>197</td>\n",
       "      <td>Big Island Marsh DFO Fisheries Habitat Offset ...</td>\n",
       "      <td>A Fisheries Act Authorization is required from...</td>\n",
       "      <td>Trent-Severn Waterway National Historic Site o...</td>\n",
       "      <td>A Fisheries Act Authorization is required from...</td>\n",
       "      <td>57.807715</td>\n",
       "      <td>11.614032</td>\n",
       "      <td>10.622608</td>\n",
       "      <td>14.204301</td>\n",
       "    </tr>\n",
       "    <tr>\n",
       "      <th>3</th>\n",
       "      <td>111</td>\n",
       "      <td>Rabbit Creek Wildfire Reclamation</td>\n",
       "      <td>In May 2018 the Rabbit Creek Wildfire occurred...</td>\n",
       "      <td>Prince Albert National Park of Canada</td>\n",
       "      <td>In May 2018 the Rabbit Creek Wildfire occurred...</td>\n",
       "      <td>71.855802</td>\n",
       "      <td>8.702299</td>\n",
       "      <td>8.991844</td>\n",
       "      <td>11.045989</td>\n",
       "    </tr>\n",
       "    <tr>\n",
       "      <th>4</th>\n",
       "      <td>149</td>\n",
       "      <td>Lake Superior National Marine Conservation Are...</td>\n",
       "      <td>This project will involve construction of the ...</td>\n",
       "      <td>Lake Superior National Marine Conservation Area</td>\n",
       "      <td>This project will involve construction of the ...</td>\n",
       "      <td>43.157519</td>\n",
       "      <td>11.959850</td>\n",
       "      <td>12.058374</td>\n",
       "      <td>16.321805</td>\n",
       "    </tr>\n",
       "  </tbody>\n",
       "</table>\n",
       "</div>"
      ],
      "text/plain": [
       "   BIA_no                                              title  \\\n",
       "0      87  Wildfire Risk Reduction at Fort Walsh National...   \n",
       "1     110             Shoreline Protection - Seawall Repairs   \n",
       "2     197  Big Island Marsh DFO Fisheries Habitat Offset ...   \n",
       "3     111                  Rabbit Creek Wildfire Reclamation   \n",
       "4     149  Lake Superior National Marine Conservation Are...   \n",
       "\n",
       "                                         description  \\\n",
       "0  The purpose of this project is to reduce the r...   \n",
       "1  An armoured stone seawall, located around the ...   \n",
       "2  A Fisheries Act Authorization is required from...   \n",
       "3  In May 2018 the Rabbit Creek Wildfire occurred...   \n",
       "4  This project will involve construction of the ...   \n",
       "\n",
       "                                                park  \\\n",
       "0        Fort Walsh National Historic Site of Canada   \n",
       "1  St. Andrews Blockhouse National Historic Site ...   \n",
       "2  Trent-Severn Waterway National Historic Site o...   \n",
       "3              Prince Albert National Park of Canada   \n",
       "4    Lake Superior National Marine Conservation Area   \n",
       "\n",
       "                                         descr_clean  flesch_re  flesch_kin  \\\n",
       "0  The purpose of this project is to reduce the r...  68.266242    9.025523   \n",
       "1  An armoured stone seawall, located around the ...  53.794565   10.653644   \n",
       "2  A Fisheries Act Authorization is required from...  57.807715   11.614032   \n",
       "3  In May 2018 the Rabbit Creek Wildfire occurred...  71.855802    8.702299   \n",
       "4  This project will involve construction of the ...  43.157519   11.959850   \n",
       "\n",
       "   dalechall        fog  \n",
       "0   9.461063  10.930393  \n",
       "1  10.564184  12.233540  \n",
       "2  10.622608  14.204301  \n",
       "3   8.991844  11.045989  \n",
       "4  12.058374  16.321805  "
      ]
     },
     "execution_count": 13,
     "metadata": {},
     "output_type": "execute_result"
    }
   ],
   "source": [
    "data.head()"
   ]
  },
  {
   "cell_type": "markdown",
   "metadata": {},
   "source": [
    "### Step 3: Analyse the results\n",
    "\n",
    "Start with basic descriptive statistics.\n",
    "\n",
    "### Flesch reading ease\n",
    "\n",
    "In Flesch reading ease, a score between 60 and 70 is considered \"plain English,\" according to R. Flesch."
   ]
  },
  {
   "cell_type": "code",
   "execution_count": 14,
   "metadata": {},
   "outputs": [
    {
     "data": {
      "text/plain": [
       "count    46.000000\n",
       "mean     55.969102\n",
       "std      11.705788\n",
       "min      20.721667\n",
       "25%      50.617665\n",
       "50%      56.048854\n",
       "75%      62.865047\n",
       "max      83.055682\n",
       "Name: flesch_re, dtype: float64"
      ]
     },
     "execution_count": 14,
     "metadata": {},
     "output_type": "execute_result"
    }
   ],
   "source": [
    "data[\"flesch_re\"].describe()"
   ]
  },
  {
   "cell_type": "markdown",
   "metadata": {},
   "source": [
    "The scores indicate an average reading level that is fairly difficult, requiring high school education.\n",
    "\n",
    "The lowest score is very difficult.\n",
    "The highest score is easy to read."
   ]
  },
  {
   "cell_type": "code",
   "execution_count": 15,
   "metadata": {},
   "outputs": [
    {
     "data": {
      "text/html": [
       "<div>\n",
       "<style scoped>\n",
       "    .dataframe tbody tr th:only-of-type {\n",
       "        vertical-align: middle;\n",
       "    }\n",
       "\n",
       "    .dataframe tbody tr th {\n",
       "        vertical-align: top;\n",
       "    }\n",
       "\n",
       "    .dataframe thead th {\n",
       "        text-align: right;\n",
       "    }\n",
       "</style>\n",
       "<table border=\"1\" class=\"dataframe\">\n",
       "  <thead>\n",
       "    <tr style=\"text-align: right;\">\n",
       "      <th></th>\n",
       "      <th>BIA_no</th>\n",
       "      <th>title</th>\n",
       "      <th>description</th>\n",
       "      <th>park</th>\n",
       "      <th>descr_clean</th>\n",
       "      <th>flesch_re</th>\n",
       "      <th>flesch_kin</th>\n",
       "      <th>dalechall</th>\n",
       "      <th>fog</th>\n",
       "    </tr>\n",
       "  </thead>\n",
       "  <tbody>\n",
       "    <tr>\n",
       "      <th>27</th>\n",
       "      <td>115</td>\n",
       "      <td>Junior Commissariat Officers' Quarters - Recap...</td>\n",
       "      <td>The recapitalization of the Junior Commissaria...</td>\n",
       "      <td>Niagara National Historic Sites</td>\n",
       "      <td>The recapitalization of the Junior Commissaria...</td>\n",
       "      <td>20.721667</td>\n",
       "      <td>18.65</td>\n",
       "      <td>11.921633</td>\n",
       "      <td>22.533333</td>\n",
       "    </tr>\n",
       "  </tbody>\n",
       "</table>\n",
       "</div>"
      ],
      "text/plain": [
       "    BIA_no                                              title  \\\n",
       "27     115  Junior Commissariat Officers' Quarters - Recap...   \n",
       "\n",
       "                                          description  \\\n",
       "27  The recapitalization of the Junior Commissaria...   \n",
       "\n",
       "                               park  \\\n",
       "27  Niagara National Historic Sites   \n",
       "\n",
       "                                          descr_clean  flesch_re  flesch_kin  \\\n",
       "27  The recapitalization of the Junior Commissaria...  20.721667       18.65   \n",
       "\n",
       "    dalechall        fog  \n",
       "27  11.921633  22.533333  "
      ]
     },
     "execution_count": 15,
     "metadata": {},
     "output_type": "execute_result"
    }
   ],
   "source": [
    "# What is the text with the minimum score of ~20 on Flesch reading ease?\n",
    "data[data.flesch_re == data.flesch_re.min()]"
   ]
  },
  {
   "cell_type": "code",
   "execution_count": 16,
   "metadata": {},
   "outputs": [
    {
     "data": {
      "text/plain": [
       "'The recapitalization of the Junior Commissariat Officers’ Quarters, a federally Recognized Heritage Building, is part of a series of Federal Infrastructure Initiative projects initiated in 2015 at Butler’s Barracks National Historic Site.  The Junior Commissariat Officers’ Quarters is structurally unsound in certain areas, and renovations to the structure will be substantial including the replacement of the roofing system, stabilization and repointing of the chimneys, reconstruction of some of the walls, improvements to drainage around the exterior of the building, and installation and upgrading of utilities.  This project will allow Parks Canada to explore future uses for this important heritage building. '"
      ]
     },
     "execution_count": 16,
     "metadata": {},
     "output_type": "execute_result"
    }
   ],
   "source": [
    "data.iloc[27][\"description\"]"
   ]
  },
  {
   "cell_type": "code",
   "execution_count": 17,
   "metadata": {},
   "outputs": [
    {
     "data": {
      "text/html": [
       "<div>\n",
       "<style scoped>\n",
       "    .dataframe tbody tr th:only-of-type {\n",
       "        vertical-align: middle;\n",
       "    }\n",
       "\n",
       "    .dataframe tbody tr th {\n",
       "        vertical-align: top;\n",
       "    }\n",
       "\n",
       "    .dataframe thead th {\n",
       "        text-align: right;\n",
       "    }\n",
       "</style>\n",
       "<table border=\"1\" class=\"dataframe\">\n",
       "  <thead>\n",
       "    <tr style=\"text-align: right;\">\n",
       "      <th></th>\n",
       "      <th>BIA_no</th>\n",
       "      <th>title</th>\n",
       "      <th>description</th>\n",
       "      <th>park</th>\n",
       "      <th>descr_clean</th>\n",
       "      <th>flesch_re</th>\n",
       "      <th>flesch_kin</th>\n",
       "      <th>dalechall</th>\n",
       "      <th>fog</th>\n",
       "    </tr>\n",
       "  </thead>\n",
       "  <tbody>\n",
       "    <tr>\n",
       "      <th>10</th>\n",
       "      <td>271</td>\n",
       "      <td>Culvert Replacement with Larger Diameter</td>\n",
       "      <td>A new culvert needs to be installed on the bo...</td>\n",
       "      <td>Elk Island National Park of Canada</td>\n",
       "      <td>A new culvert needs to be installed on the bo...</td>\n",
       "      <td>83.055682</td>\n",
       "      <td>5.773788</td>\n",
       "      <td>8.641642</td>\n",
       "      <td>7.812121</td>\n",
       "    </tr>\n",
       "  </tbody>\n",
       "</table>\n",
       "</div>"
      ],
      "text/plain": [
       "    BIA_no                                     title  \\\n",
       "10     271  Culvert Replacement with Larger Diameter   \n",
       "\n",
       "                                          description  \\\n",
       "10   A new culvert needs to be installed on the bo...   \n",
       "\n",
       "                                  park  \\\n",
       "10  Elk Island National Park of Canada   \n",
       "\n",
       "                                          descr_clean  flesch_re  flesch_kin  \\\n",
       "10   A new culvert needs to be installed on the bo...  83.055682    5.773788   \n",
       "\n",
       "    dalechall       fog  \n",
       "10   8.641642  7.812121  "
      ]
     },
     "execution_count": 17,
     "metadata": {},
     "output_type": "execute_result"
    }
   ],
   "source": [
    "# What is the text with the maximum score of ~ 83 on Flesch reading ease?\n",
    "data[data.flesch_re == data.flesch_re.max()]"
   ]
  },
  {
   "cell_type": "code",
   "execution_count": 18,
   "metadata": {},
   "outputs": [
    {
     "data": {
      "text/plain": [
       "' A new culvert needs to be installed on the boundary road north of Osten Lake Camping access on RR 205. The culvert has collapsed and completely rusted out  and the site is currently flooded due to beaver activity and Strathcona County culvert failure on RR 205.Currently beavers have a deep run/washout through the boundary road making it impassable. The new culvert will be a larger diameter (600mm) due to the sizes that are currently kept in stock for replacements.  The old culvert was 450mm.  The work will take place when there is no water flow through the boundary road. Three inch minus pit run gravel will be used to fill the road base on the top and sides of the new culvert. Strathcona County plans to repair the culvert through RR 205.'"
      ]
     },
     "execution_count": 18,
     "metadata": {},
     "output_type": "execute_result"
    }
   ],
   "source": [
    "data.iloc[10]['description']"
   ]
  },
  {
   "cell_type": "code",
   "execution_count": 21,
   "metadata": {},
   "outputs": [
    {
     "data": {
      "text/plain": [
       "50.76092307692309"
      ]
     },
     "execution_count": 21,
     "metadata": {},
     "output_type": "execute_result"
    }
   ],
   "source": [
    "#What is the text with the median FRE score? \n",
    "#There are 46 texts, so just say we will look at text #13 in a sorted list of FRE scores.\n",
    "\n",
    "sorted_FRE = sorted(data.flesch_re)\n",
    "sorted_FRE[12]\n",
    "\n"
   ]
  },
  {
   "cell_type": "code",
   "execution_count": 22,
   "metadata": {
    "scrolled": true
   },
   "outputs": [
    {
     "data": {
      "text/html": [
       "<div>\n",
       "<style scoped>\n",
       "    .dataframe tbody tr th:only-of-type {\n",
       "        vertical-align: middle;\n",
       "    }\n",
       "\n",
       "    .dataframe tbody tr th {\n",
       "        vertical-align: top;\n",
       "    }\n",
       "\n",
       "    .dataframe thead th {\n",
       "        text-align: right;\n",
       "    }\n",
       "</style>\n",
       "<table border=\"1\" class=\"dataframe\">\n",
       "  <thead>\n",
       "    <tr style=\"text-align: right;\">\n",
       "      <th></th>\n",
       "      <th>BIA_no</th>\n",
       "      <th>title</th>\n",
       "      <th>description</th>\n",
       "      <th>park</th>\n",
       "      <th>descr_clean</th>\n",
       "      <th>flesch_re</th>\n",
       "      <th>flesch_kin</th>\n",
       "      <th>dalechall</th>\n",
       "      <th>fog</th>\n",
       "    </tr>\n",
       "  </thead>\n",
       "  <tbody>\n",
       "    <tr>\n",
       "      <th>45</th>\n",
       "      <td>274</td>\n",
       "      <td>Artificial Turtle Nest Site Creation</td>\n",
       "      <td>In an effort to reduce road mortality and nest...</td>\n",
       "      <td>Thousand Islands National Park of Canada</td>\n",
       "      <td>In an effort to reduce road mortality and nest...</td>\n",
       "      <td>50.760923</td>\n",
       "      <td>11.99241</td>\n",
       "      <td>9.925516</td>\n",
       "      <td>15.171966</td>\n",
       "    </tr>\n",
       "  </tbody>\n",
       "</table>\n",
       "</div>"
      ],
      "text/plain": [
       "    BIA_no                                 title  \\\n",
       "45     274  Artificial Turtle Nest Site Creation   \n",
       "\n",
       "                                          description  \\\n",
       "45  In an effort to reduce road mortality and nest...   \n",
       "\n",
       "                                        park  \\\n",
       "45  Thousand Islands National Park of Canada   \n",
       "\n",
       "                                          descr_clean  flesch_re  flesch_kin  \\\n",
       "45  In an effort to reduce road mortality and nest...  50.760923    11.99241   \n",
       "\n",
       "    dalechall        fog  \n",
       "45   9.925516  15.171966  "
      ]
     },
     "execution_count": 22,
     "metadata": {},
     "output_type": "execute_result"
    }
   ],
   "source": [
    "data[data.flesch_re == 50.76092307692309]"
   ]
  },
  {
   "cell_type": "code",
   "execution_count": 23,
   "metadata": {},
   "outputs": [
    {
     "data": {
      "text/plain": [
       "'In an effort to reduce road mortality and nest predation for rare turtles, Thousand Islands National Park is planning to build a small artificial nesting site near Polly Creek.  The site will be approximately 5m x 5m large and 1m deep, consisting of sand and gravel surrounded by cedar logs.  Turtles in the area are experiencing significant road mortality and are primarily nesting on road shoulders where near complete nest predation has been documented.  The artificial nest site should reduce the number of turtles coming onto and alongside the road.  Materials will be brought to the site using a small tractor and / or a motorised wheelbarrow and construction is planned for October 10, before turtle hibernation begins. '"
      ]
     },
     "execution_count": 23,
     "metadata": {},
     "output_type": "execute_result"
    }
   ],
   "source": [
    "data.iloc[45]['description']"
   ]
  },
  {
   "cell_type": "markdown",
   "metadata": {},
   "source": [
    "### Flesch-Kincaid grade level"
   ]
  },
  {
   "cell_type": "code",
   "execution_count": 19,
   "metadata": {},
   "outputs": [
    {
     "data": {
      "text/plain": [
       "count    46.000000\n",
       "mean     11.219487\n",
       "std       2.340706\n",
       "min       5.773788\n",
       "25%       9.926090\n",
       "50%      11.022567\n",
       "75%      12.063938\n",
       "max      18.650000\n",
       "Name: flesch_kin, dtype: float64"
      ]
     },
     "execution_count": 19,
     "metadata": {},
     "output_type": "execute_result"
    }
   ],
   "source": [
    "data[\"flesch_kin\"].describe()"
   ]
  },
  {
   "cell_type": "markdown",
   "metadata": {},
   "source": [
    "The average score is 11.2, which is grade 11.\n",
    "The worst score is 18.7, which is college grad level.\n",
    "The best score is 5.8 which is about grade 6."
   ]
  },
  {
   "cell_type": "code",
   "execution_count": 20,
   "metadata": {},
   "outputs": [
    {
     "data": {
      "text/html": [
       "<div>\n",
       "<style scoped>\n",
       "    .dataframe tbody tr th:only-of-type {\n",
       "        vertical-align: middle;\n",
       "    }\n",
       "\n",
       "    .dataframe tbody tr th {\n",
       "        vertical-align: top;\n",
       "    }\n",
       "\n",
       "    .dataframe thead th {\n",
       "        text-align: right;\n",
       "    }\n",
       "</style>\n",
       "<table border=\"1\" class=\"dataframe\">\n",
       "  <thead>\n",
       "    <tr style=\"text-align: right;\">\n",
       "      <th></th>\n",
       "      <th>BIA_no</th>\n",
       "      <th>title</th>\n",
       "      <th>description</th>\n",
       "      <th>park</th>\n",
       "      <th>descr_clean</th>\n",
       "      <th>flesch_re</th>\n",
       "      <th>flesch_kin</th>\n",
       "      <th>dalechall</th>\n",
       "      <th>fog</th>\n",
       "    </tr>\n",
       "  </thead>\n",
       "  <tbody>\n",
       "    <tr>\n",
       "      <th>10</th>\n",
       "      <td>271</td>\n",
       "      <td>Culvert Replacement with Larger Diameter</td>\n",
       "      <td>A new culvert needs to be installed on the bo...</td>\n",
       "      <td>Elk Island National Park of Canada</td>\n",
       "      <td>A new culvert needs to be installed on the bo...</td>\n",
       "      <td>83.055682</td>\n",
       "      <td>5.773788</td>\n",
       "      <td>8.641642</td>\n",
       "      <td>7.812121</td>\n",
       "    </tr>\n",
       "  </tbody>\n",
       "</table>\n",
       "</div>"
      ],
      "text/plain": [
       "    BIA_no                                     title  \\\n",
       "10     271  Culvert Replacement with Larger Diameter   \n",
       "\n",
       "                                          description  \\\n",
       "10   A new culvert needs to be installed on the bo...   \n",
       "\n",
       "                                  park  \\\n",
       "10  Elk Island National Park of Canada   \n",
       "\n",
       "                                          descr_clean  flesch_re  flesch_kin  \\\n",
       "10   A new culvert needs to be installed on the bo...  83.055682    5.773788   \n",
       "\n",
       "    dalechall       fog  \n",
       "10   8.641642  7.812121  "
      ]
     },
     "execution_count": 20,
     "metadata": {},
     "output_type": "execute_result"
    }
   ],
   "source": [
    "# What is the text with the minimum Flesch-Kincaid grade level (easiest to read)?\n",
    "data[data.flesch_kin == data.flesch_kin.min()]"
   ]
  },
  {
   "cell_type": "code",
   "execution_count": 21,
   "metadata": {},
   "outputs": [
    {
     "data": {
      "text/html": [
       "<div>\n",
       "<style scoped>\n",
       "    .dataframe tbody tr th:only-of-type {\n",
       "        vertical-align: middle;\n",
       "    }\n",
       "\n",
       "    .dataframe tbody tr th {\n",
       "        vertical-align: top;\n",
       "    }\n",
       "\n",
       "    .dataframe thead th {\n",
       "        text-align: right;\n",
       "    }\n",
       "</style>\n",
       "<table border=\"1\" class=\"dataframe\">\n",
       "  <thead>\n",
       "    <tr style=\"text-align: right;\">\n",
       "      <th></th>\n",
       "      <th>BIA_no</th>\n",
       "      <th>title</th>\n",
       "      <th>description</th>\n",
       "      <th>park</th>\n",
       "      <th>descr_clean</th>\n",
       "      <th>flesch_re</th>\n",
       "      <th>flesch_kin</th>\n",
       "      <th>dalechall</th>\n",
       "      <th>fog</th>\n",
       "    </tr>\n",
       "  </thead>\n",
       "  <tbody>\n",
       "    <tr>\n",
       "      <th>27</th>\n",
       "      <td>115</td>\n",
       "      <td>Junior Commissariat Officers' Quarters - Recap...</td>\n",
       "      <td>The recapitalization of the Junior Commissaria...</td>\n",
       "      <td>Niagara National Historic Sites</td>\n",
       "      <td>The recapitalization of the Junior Commissaria...</td>\n",
       "      <td>20.721667</td>\n",
       "      <td>18.65</td>\n",
       "      <td>11.921633</td>\n",
       "      <td>22.533333</td>\n",
       "    </tr>\n",
       "  </tbody>\n",
       "</table>\n",
       "</div>"
      ],
      "text/plain": [
       "    BIA_no                                              title  \\\n",
       "27     115  Junior Commissariat Officers' Quarters - Recap...   \n",
       "\n",
       "                                          description  \\\n",
       "27  The recapitalization of the Junior Commissaria...   \n",
       "\n",
       "                               park  \\\n",
       "27  Niagara National Historic Sites   \n",
       "\n",
       "                                          descr_clean  flesch_re  flesch_kin  \\\n",
       "27  The recapitalization of the Junior Commissaria...  20.721667       18.65   \n",
       "\n",
       "    dalechall        fog  \n",
       "27  11.921633  22.533333  "
      ]
     },
     "execution_count": 21,
     "metadata": {},
     "output_type": "execute_result"
    }
   ],
   "source": [
    "data[data.flesch_kin == data.flesch_kin.max()]"
   ]
  },
  {
   "cell_type": "code",
   "execution_count": 24,
   "metadata": {},
   "outputs": [
    {
     "data": {
      "text/plain": [
       "10.139285714285716"
      ]
     },
     "execution_count": 24,
     "metadata": {},
     "output_type": "execute_result"
    }
   ],
   "source": [
    "# Get the middle (13th) F-K text\n",
    "\n",
    "sorted_FK = sorted(data.flesch_kin)\n",
    "sorted_FK[12]"
   ]
  },
  {
   "cell_type": "code",
   "execution_count": 25,
   "metadata": {
    "scrolled": true
   },
   "outputs": [
    {
     "data": {
      "text/html": [
       "<div>\n",
       "<style scoped>\n",
       "    .dataframe tbody tr th:only-of-type {\n",
       "        vertical-align: middle;\n",
       "    }\n",
       "\n",
       "    .dataframe tbody tr th {\n",
       "        vertical-align: top;\n",
       "    }\n",
       "\n",
       "    .dataframe thead th {\n",
       "        text-align: right;\n",
       "    }\n",
       "</style>\n",
       "<table border=\"1\" class=\"dataframe\">\n",
       "  <thead>\n",
       "    <tr style=\"text-align: right;\">\n",
       "      <th></th>\n",
       "      <th>BIA_no</th>\n",
       "      <th>title</th>\n",
       "      <th>description</th>\n",
       "      <th>park</th>\n",
       "      <th>descr_clean</th>\n",
       "      <th>flesch_re</th>\n",
       "      <th>flesch_kin</th>\n",
       "      <th>dalechall</th>\n",
       "      <th>fog</th>\n",
       "    </tr>\n",
       "  </thead>\n",
       "  <tbody>\n",
       "    <tr>\n",
       "      <th>44</th>\n",
       "      <td>243</td>\n",
       "      <td>SaskPower Pole Replacement near Rec Hall</td>\n",
       "      <td>SaskPower is proposing to replace an urban pow...</td>\n",
       "      <td>Prince Albert National Park of Canada</td>\n",
       "      <td>SaskPower is proposing to replace an urban pow...</td>\n",
       "      <td>63.08</td>\n",
       "      <td>10.139286</td>\n",
       "      <td>10.198027</td>\n",
       "      <td>12.892857</td>\n",
       "    </tr>\n",
       "  </tbody>\n",
       "</table>\n",
       "</div>"
      ],
      "text/plain": [
       "    BIA_no                                     title  \\\n",
       "44     243  SaskPower Pole Replacement near Rec Hall   \n",
       "\n",
       "                                          description  \\\n",
       "44  SaskPower is proposing to replace an urban pow...   \n",
       "\n",
       "                                     park  \\\n",
       "44  Prince Albert National Park of Canada   \n",
       "\n",
       "                                          descr_clean  flesch_re  flesch_kin  \\\n",
       "44  SaskPower is proposing to replace an urban pow...      63.08   10.139286   \n",
       "\n",
       "    dalechall        fog  \n",
       "44  10.198027  12.892857  "
      ]
     },
     "execution_count": 25,
     "metadata": {},
     "output_type": "execute_result"
    }
   ],
   "source": [
    "data[data.flesch_kin == 10.139285714285716]"
   ]
  },
  {
   "cell_type": "code",
   "execution_count": 27,
   "metadata": {},
   "outputs": [
    {
     "data": {
      "text/plain": [
       "'SaskPower is proposing to replace an urban power pole, transformer, and take off equipment, then trench and lay approximately 30 metres (m) of secondary cable to a customer owned splitter, at which point the customer will be responsible to connections.  Ground disturbance will be limited to the base of the pole and the short run of trenching.   The work will take place near an existing underground cable, within a developed area and existing roadways in NW-10-057-01 W3M, within the Waskesiu Townsite in Prince Albert National Park (the Project).  The Project is required to provide an additional service point near the library/recreation hall.\\n\\nEquipment that is expected to be used for completion of the Project includes: a digger truck, back-hoe, trenching equipment, and crew trucks.  Access to components of the Project will make use of existing roads and trails.  Surface disturbance is expected to be minimized to the base of the pole and 30 m of trenching.  \\n'"
      ]
     },
     "execution_count": 27,
     "metadata": {},
     "output_type": "execute_result"
    }
   ],
   "source": [
    "data.iloc[44]['description'] # middle scoring F-K text"
   ]
  },
  {
   "cell_type": "markdown",
   "metadata": {},
   "source": [
    "Okay, so the Flesch reading ease and the Flesch-Kincaid scores agree on what the most and least readable texts, as we would expect.\n",
    "\n",
    "### Gunning Fog index\n",
    "\n",
    "The Fog index is on a scale from 6 to 20+, with 6 meaning 6th-grade reading level and 20+ meaning a post-graduate reading level."
   ]
  },
  {
   "cell_type": "code",
   "execution_count": 22,
   "metadata": {
    "scrolled": true
   },
   "outputs": [
    {
     "data": {
      "text/plain": [
       "count    46.000000\n",
       "mean     13.948139\n",
       "std       2.716629\n",
       "min       7.812121\n",
       "25%      12.243517\n",
       "50%      13.831072\n",
       "75%      15.385849\n",
       "max      22.533333\n",
       "Name: fog, dtype: float64"
      ]
     },
     "execution_count": 22,
     "metadata": {},
     "output_type": "execute_result"
    }
   ],
   "source": [
    "data[\"fog\"].describe()"
   ]
  },
  {
   "cell_type": "markdown",
   "metadata": {},
   "source": [
    "The average is 13.9, which is a college freshman. \n",
    "The worst score is 22.5, which is college graduate.\n",
    "The best score is 7.8 which is 8th grade. So, here the Gunning Fog thinks BIA 27 is two grade levels harder than the Flesch scores suggest."
   ]
  },
  {
   "cell_type": "code",
   "execution_count": 23,
   "metadata": {},
   "outputs": [
    {
     "data": {
      "text/html": [
       "<div>\n",
       "<style scoped>\n",
       "    .dataframe tbody tr th:only-of-type {\n",
       "        vertical-align: middle;\n",
       "    }\n",
       "\n",
       "    .dataframe tbody tr th {\n",
       "        vertical-align: top;\n",
       "    }\n",
       "\n",
       "    .dataframe thead th {\n",
       "        text-align: right;\n",
       "    }\n",
       "</style>\n",
       "<table border=\"1\" class=\"dataframe\">\n",
       "  <thead>\n",
       "    <tr style=\"text-align: right;\">\n",
       "      <th></th>\n",
       "      <th>BIA_no</th>\n",
       "      <th>title</th>\n",
       "      <th>description</th>\n",
       "      <th>park</th>\n",
       "      <th>descr_clean</th>\n",
       "      <th>flesch_re</th>\n",
       "      <th>flesch_kin</th>\n",
       "      <th>dalechall</th>\n",
       "      <th>fog</th>\n",
       "    </tr>\n",
       "  </thead>\n",
       "  <tbody>\n",
       "    <tr>\n",
       "      <th>10</th>\n",
       "      <td>271</td>\n",
       "      <td>Culvert Replacement with Larger Diameter</td>\n",
       "      <td>A new culvert needs to be installed on the bo...</td>\n",
       "      <td>Elk Island National Park of Canada</td>\n",
       "      <td>A new culvert needs to be installed on the bo...</td>\n",
       "      <td>83.055682</td>\n",
       "      <td>5.773788</td>\n",
       "      <td>8.641642</td>\n",
       "      <td>7.812121</td>\n",
       "    </tr>\n",
       "  </tbody>\n",
       "</table>\n",
       "</div>"
      ],
      "text/plain": [
       "    BIA_no                                     title  \\\n",
       "10     271  Culvert Replacement with Larger Diameter   \n",
       "\n",
       "                                          description  \\\n",
       "10   A new culvert needs to be installed on the bo...   \n",
       "\n",
       "                                  park  \\\n",
       "10  Elk Island National Park of Canada   \n",
       "\n",
       "                                          descr_clean  flesch_re  flesch_kin  \\\n",
       "10   A new culvert needs to be installed on the bo...  83.055682    5.773788   \n",
       "\n",
       "    dalechall       fog  \n",
       "10   8.641642  7.812121  "
      ]
     },
     "execution_count": 23,
     "metadata": {},
     "output_type": "execute_result"
    }
   ],
   "source": [
    "# What text has the minimum Fog level (is easiest to read)?\n",
    "data[data.fog == data.fog.min()]"
   ]
  },
  {
   "cell_type": "markdown",
   "metadata": {},
   "source": [
    "We have agreement with the Flesch tests here."
   ]
  },
  {
   "cell_type": "code",
   "execution_count": 24,
   "metadata": {},
   "outputs": [
    {
     "data": {
      "text/html": [
       "<div>\n",
       "<style scoped>\n",
       "    .dataframe tbody tr th:only-of-type {\n",
       "        vertical-align: middle;\n",
       "    }\n",
       "\n",
       "    .dataframe tbody tr th {\n",
       "        vertical-align: top;\n",
       "    }\n",
       "\n",
       "    .dataframe thead th {\n",
       "        text-align: right;\n",
       "    }\n",
       "</style>\n",
       "<table border=\"1\" class=\"dataframe\">\n",
       "  <thead>\n",
       "    <tr style=\"text-align: right;\">\n",
       "      <th></th>\n",
       "      <th>BIA_no</th>\n",
       "      <th>title</th>\n",
       "      <th>description</th>\n",
       "      <th>park</th>\n",
       "      <th>descr_clean</th>\n",
       "      <th>flesch_re</th>\n",
       "      <th>flesch_kin</th>\n",
       "      <th>dalechall</th>\n",
       "      <th>fog</th>\n",
       "    </tr>\n",
       "  </thead>\n",
       "  <tbody>\n",
       "    <tr>\n",
       "      <th>27</th>\n",
       "      <td>115</td>\n",
       "      <td>Junior Commissariat Officers' Quarters - Recap...</td>\n",
       "      <td>The recapitalization of the Junior Commissaria...</td>\n",
       "      <td>Niagara National Historic Sites</td>\n",
       "      <td>The recapitalization of the Junior Commissaria...</td>\n",
       "      <td>20.721667</td>\n",
       "      <td>18.65</td>\n",
       "      <td>11.921633</td>\n",
       "      <td>22.533333</td>\n",
       "    </tr>\n",
       "  </tbody>\n",
       "</table>\n",
       "</div>"
      ],
      "text/plain": [
       "    BIA_no                                              title  \\\n",
       "27     115  Junior Commissariat Officers' Quarters - Recap...   \n",
       "\n",
       "                                          description  \\\n",
       "27  The recapitalization of the Junior Commissaria...   \n",
       "\n",
       "                               park  \\\n",
       "27  Niagara National Historic Sites   \n",
       "\n",
       "                                          descr_clean  flesch_re  flesch_kin  \\\n",
       "27  The recapitalization of the Junior Commissaria...  20.721667       18.65   \n",
       "\n",
       "    dalechall        fog  \n",
       "27  11.921633  22.533333  "
      ]
     },
     "execution_count": 24,
     "metadata": {},
     "output_type": "execute_result"
    }
   ],
   "source": [
    "# What text has the maximum Fog level (hardest to read)?\n",
    "data[data.fog == data.fog.max()]"
   ]
  },
  {
   "cell_type": "code",
   "execution_count": 28,
   "metadata": {},
   "outputs": [
    {
     "data": {
      "text/plain": [
       "12.273446327683615"
      ]
     },
     "execution_count": 28,
     "metadata": {},
     "output_type": "execute_result"
    }
   ],
   "source": [
    "# What is the middle scoring text according to Fog?\n",
    "sorted_GF = sorted(data.fog)\n",
    "sorted_GF[12]"
   ]
  },
  {
   "cell_type": "code",
   "execution_count": 29,
   "metadata": {},
   "outputs": [
    {
     "data": {
      "text/html": [
       "<div>\n",
       "<style scoped>\n",
       "    .dataframe tbody tr th:only-of-type {\n",
       "        vertical-align: middle;\n",
       "    }\n",
       "\n",
       "    .dataframe tbody tr th {\n",
       "        vertical-align: top;\n",
       "    }\n",
       "\n",
       "    .dataframe thead th {\n",
       "        text-align: right;\n",
       "    }\n",
       "</style>\n",
       "<table border=\"1\" class=\"dataframe\">\n",
       "  <thead>\n",
       "    <tr style=\"text-align: right;\">\n",
       "      <th></th>\n",
       "      <th>BIA_no</th>\n",
       "      <th>title</th>\n",
       "      <th>description</th>\n",
       "      <th>park</th>\n",
       "      <th>descr_clean</th>\n",
       "      <th>flesch_re</th>\n",
       "      <th>flesch_kin</th>\n",
       "      <th>dalechall</th>\n",
       "      <th>fog</th>\n",
       "    </tr>\n",
       "  </thead>\n",
       "  <tbody>\n",
       "    <tr>\n",
       "      <th>14</th>\n",
       "      <td>205</td>\n",
       "      <td>Agricultural License for Grazing Former Mankot...</td>\n",
       "      <td>Grasslands National Park proposes to issue a l...</td>\n",
       "      <td>Grasslands National Park of Canada</td>\n",
       "      <td>Grasslands National Park proposes to issue a l...</td>\n",
       "      <td>53.520791</td>\n",
       "      <td>10.68</td>\n",
       "      <td>10.499763</td>\n",
       "      <td>12.273446</td>\n",
       "    </tr>\n",
       "  </tbody>\n",
       "</table>\n",
       "</div>"
      ],
      "text/plain": [
       "    BIA_no                                              title  \\\n",
       "14     205  Agricultural License for Grazing Former Mankot...   \n",
       "\n",
       "                                          description  \\\n",
       "14  Grasslands National Park proposes to issue a l...   \n",
       "\n",
       "                                  park  \\\n",
       "14  Grasslands National Park of Canada   \n",
       "\n",
       "                                          descr_clean  flesch_re  flesch_kin  \\\n",
       "14  Grasslands National Park proposes to issue a l...  53.520791       10.68   \n",
       "\n",
       "    dalechall        fog  \n",
       "14  10.499763  12.273446  "
      ]
     },
     "execution_count": 29,
     "metadata": {},
     "output_type": "execute_result"
    }
   ],
   "source": [
    "data[data.fog == 12.273446327683615]"
   ]
  },
  {
   "cell_type": "code",
   "execution_count": 30,
   "metadata": {},
   "outputs": [
    {
     "data": {
      "text/plain": [
       "'Grasslands National Park proposes to issue a license of occupation to graze cattle over 8 sections in the Former Mankota Community Pasture area of the East Block of the park. Cattle grazing has occurred in this area previously under a grazing permit, and before acquisition by Parks Canada was used for grazing livestock. Domestic livestock grazing is used in this area to maintain a disturbance regime supporting habitat maintenance for species at risk and for prairie ecosystem function. No new infrastructure will be constructed as part of this program. Activities will include moving cattle in and out of grazing paddocks, maintaining/repairing fences and watering systems, and checking cattle. This project will be assessed with a basic impact assessment. '"
      ]
     },
     "execution_count": 30,
     "metadata": {},
     "output_type": "execute_result"
    }
   ],
   "source": [
    "data.iloc[14]['description'] # middle scoring text for Fog"
   ]
  },
  {
   "cell_type": "markdown",
   "metadata": {},
   "source": [
    "Again we have agreement with the Flesch tests.\n",
    "\n",
    "### Dale-Chall score\n",
    "\n",
    "On the Dale-Chall index, 4.9 or lower is easily read by a fourth-grader. A score of 9.0 to 9.9 is college level."
   ]
  },
  {
   "cell_type": "code",
   "execution_count": 25,
   "metadata": {
    "scrolled": true
   },
   "outputs": [
    {
     "data": {
      "text/plain": [
       "count    46.000000\n",
       "mean     10.636148\n",
       "std       1.031821\n",
       "min       8.641642\n",
       "25%       9.991736\n",
       "50%      10.531973\n",
       "75%      11.217013\n",
       "max      13.142302\n",
       "Name: dalechall, dtype: float64"
      ]
     },
     "execution_count": 25,
     "metadata": {},
     "output_type": "execute_result"
    }
   ],
   "source": [
    "data[\"dalechall\"].describe()"
   ]
  },
  {
   "cell_type": "markdown",
   "metadata": {},
   "source": [
    "The average score is 10.6, which is college level. So the Dale-Chall and Gunning-Fog are in agreement that the average is college level. The Flesch scores put it a little lower, at high school level.\n",
    "\n",
    "The worst score is 13 -- post graduate.\n",
    "The best score is 8.6 -- understood by an 11-12th grade student. \n",
    "\n",
    "Overall, the Dale-Chall thinks the texts are harder to read than the other scores suggest. Especially the Flesch-Kincaid grade level, which found a text appropriate for a 6th grader -- six grade levels of variation among scores for the \"easiest\" text."
   ]
  },
  {
   "cell_type": "code",
   "execution_count": 26,
   "metadata": {
    "scrolled": true
   },
   "outputs": [
    {
     "data": {
      "text/html": [
       "<div>\n",
       "<style scoped>\n",
       "    .dataframe tbody tr th:only-of-type {\n",
       "        vertical-align: middle;\n",
       "    }\n",
       "\n",
       "    .dataframe tbody tr th {\n",
       "        vertical-align: top;\n",
       "    }\n",
       "\n",
       "    .dataframe thead th {\n",
       "        text-align: right;\n",
       "    }\n",
       "</style>\n",
       "<table border=\"1\" class=\"dataframe\">\n",
       "  <thead>\n",
       "    <tr style=\"text-align: right;\">\n",
       "      <th></th>\n",
       "      <th>BIA_no</th>\n",
       "      <th>title</th>\n",
       "      <th>description</th>\n",
       "      <th>park</th>\n",
       "      <th>descr_clean</th>\n",
       "      <th>flesch_re</th>\n",
       "      <th>flesch_kin</th>\n",
       "      <th>dalechall</th>\n",
       "      <th>fog</th>\n",
       "    </tr>\n",
       "  </thead>\n",
       "  <tbody>\n",
       "    <tr>\n",
       "      <th>10</th>\n",
       "      <td>271</td>\n",
       "      <td>Culvert Replacement with Larger Diameter</td>\n",
       "      <td>A new culvert needs to be installed on the bo...</td>\n",
       "      <td>Elk Island National Park of Canada</td>\n",
       "      <td>A new culvert needs to be installed on the bo...</td>\n",
       "      <td>83.055682</td>\n",
       "      <td>5.773788</td>\n",
       "      <td>8.641642</td>\n",
       "      <td>7.812121</td>\n",
       "    </tr>\n",
       "  </tbody>\n",
       "</table>\n",
       "</div>"
      ],
      "text/plain": [
       "    BIA_no                                     title  \\\n",
       "10     271  Culvert Replacement with Larger Diameter   \n",
       "\n",
       "                                          description  \\\n",
       "10   A new culvert needs to be installed on the bo...   \n",
       "\n",
       "                                  park  \\\n",
       "10  Elk Island National Park of Canada   \n",
       "\n",
       "                                          descr_clean  flesch_re  flesch_kin  \\\n",
       "10   A new culvert needs to be installed on the bo...  83.055682    5.773788   \n",
       "\n",
       "    dalechall       fog  \n",
       "10   8.641642  7.812121  "
      ]
     },
     "execution_count": 26,
     "metadata": {},
     "output_type": "execute_result"
    }
   ],
   "source": [
    "# What text has the minimum Dale-Chall score?\n",
    "data[data.dalechall == data.dalechall.min()]"
   ]
  },
  {
   "cell_type": "markdown",
   "metadata": {},
   "source": [
    "Agreement with the previous tests on which is easiest to read. \n",
    "\n",
    "This score (8.6) means that the text is readable by an 11th-12th grader."
   ]
  },
  {
   "cell_type": "code",
   "execution_count": 27,
   "metadata": {},
   "outputs": [
    {
     "data": {
      "text/html": [
       "<div>\n",
       "<style scoped>\n",
       "    .dataframe tbody tr th:only-of-type {\n",
       "        vertical-align: middle;\n",
       "    }\n",
       "\n",
       "    .dataframe tbody tr th {\n",
       "        vertical-align: top;\n",
       "    }\n",
       "\n",
       "    .dataframe thead th {\n",
       "        text-align: right;\n",
       "    }\n",
       "</style>\n",
       "<table border=\"1\" class=\"dataframe\">\n",
       "  <thead>\n",
       "    <tr style=\"text-align: right;\">\n",
       "      <th></th>\n",
       "      <th>BIA_no</th>\n",
       "      <th>title</th>\n",
       "      <th>description</th>\n",
       "      <th>park</th>\n",
       "      <th>descr_clean</th>\n",
       "      <th>flesch_re</th>\n",
       "      <th>flesch_kin</th>\n",
       "      <th>dalechall</th>\n",
       "      <th>fog</th>\n",
       "    </tr>\n",
       "  </thead>\n",
       "  <tbody>\n",
       "    <tr>\n",
       "      <th>29</th>\n",
       "      <td>39</td>\n",
       "      <td>Vegetation Management - Bennett Lake Dam &amp; Wol...</td>\n",
       "      <td>Fundy National Park intends to initiate a vege...</td>\n",
       "      <td>Fundy National Park of Canada</td>\n",
       "      <td>Fundy National Park intends to initiate a vege...</td>\n",
       "      <td>21.688684</td>\n",
       "      <td>17.252279</td>\n",
       "      <td>13.142302</td>\n",
       "      <td>21.211504</td>\n",
       "    </tr>\n",
       "  </tbody>\n",
       "</table>\n",
       "</div>"
      ],
      "text/plain": [
       "    BIA_no                                              title  \\\n",
       "29      39  Vegetation Management - Bennett Lake Dam & Wol...   \n",
       "\n",
       "                                          description  \\\n",
       "29  Fundy National Park intends to initiate a vege...   \n",
       "\n",
       "                             park  \\\n",
       "29  Fundy National Park of Canada   \n",
       "\n",
       "                                          descr_clean  flesch_re  flesch_kin  \\\n",
       "29  Fundy National Park intends to initiate a vege...  21.688684   17.252279   \n",
       "\n",
       "    dalechall        fog  \n",
       "29  13.142302  21.211504  "
      ]
     },
     "execution_count": 27,
     "metadata": {},
     "output_type": "execute_result"
    }
   ],
   "source": [
    "# What text has the max Dale-Chall score?\n",
    "data[data.dalechall == data.dalechall.max()]"
   ]
  },
  {
   "cell_type": "code",
   "execution_count": 28,
   "metadata": {},
   "outputs": [
    {
     "data": {
      "text/plain": [
       "'Fundy National Park intends to initiate a vegetation management plan to reduce the potential hazards of excessive vegetation growth (seepage caused by deep roots, cavities created by decaying roots, erosion caused by uprooted trees, competition from undesired vegetation, dense vegetation obscure the ability to observe deficiencies, etc) on the Bennett Lake Dam and the Wolfe Lake Water Retaining Structure.  If left unchecked, the existing vegetation could pose a serious threat to the strength and stabilize to both of these structures. The proposed vegetation management activities will be conducted periodically during the growing season and repeated annually. A Basic Impact Assessment is required to investigate the potential impacts of the proposed vegetation management activities. '"
      ]
     },
     "execution_count": 28,
     "metadata": {},
     "output_type": "execute_result"
    }
   ],
   "source": [
    "data.iloc[29][\"description\"]"
   ]
  },
  {
   "cell_type": "code",
   "execution_count": 31,
   "metadata": {},
   "outputs": [
    {
     "data": {
      "text/plain": [
       "9.994865217391304"
      ]
     },
     "execution_count": 31,
     "metadata": {},
     "output_type": "execute_result"
    }
   ],
   "source": [
    "# What is the middle scoring by Dale-Chall?\n",
    "sorted_DC = sorted(data.dalechall)\n",
    "sorted_DC[12]"
   ]
  },
  {
   "cell_type": "code",
   "execution_count": 32,
   "metadata": {},
   "outputs": [
    {
     "data": {
      "text/html": [
       "<div>\n",
       "<style scoped>\n",
       "    .dataframe tbody tr th:only-of-type {\n",
       "        vertical-align: middle;\n",
       "    }\n",
       "\n",
       "    .dataframe tbody tr th {\n",
       "        vertical-align: top;\n",
       "    }\n",
       "\n",
       "    .dataframe thead th {\n",
       "        text-align: right;\n",
       "    }\n",
       "</style>\n",
       "<table border=\"1\" class=\"dataframe\">\n",
       "  <thead>\n",
       "    <tr style=\"text-align: right;\">\n",
       "      <th></th>\n",
       "      <th>BIA_no</th>\n",
       "      <th>title</th>\n",
       "      <th>description</th>\n",
       "      <th>park</th>\n",
       "      <th>descr_clean</th>\n",
       "      <th>flesch_re</th>\n",
       "      <th>flesch_kin</th>\n",
       "      <th>dalechall</th>\n",
       "      <th>fog</th>\n",
       "    </tr>\n",
       "  </thead>\n",
       "  <tbody>\n",
       "    <tr>\n",
       "      <th>8</th>\n",
       "      <td>273</td>\n",
       "      <td>SaskPower Pole Mount Transformer Replacement f...</td>\n",
       "      <td>SaskPower is proposing to replace a pole mount...</td>\n",
       "      <td>Prince Albert National Park of Canada</td>\n",
       "      <td>SaskPower is proposing to replace a pole mount...</td>\n",
       "      <td>62.843043</td>\n",
       "      <td>10.207826</td>\n",
       "      <td>9.994865</td>\n",
       "      <td>13.721739</td>\n",
       "    </tr>\n",
       "  </tbody>\n",
       "</table>\n",
       "</div>"
      ],
      "text/plain": [
       "   BIA_no                                              title  \\\n",
       "8     273  SaskPower Pole Mount Transformer Replacement f...   \n",
       "\n",
       "                                         description  \\\n",
       "8  SaskPower is proposing to replace a pole mount...   \n",
       "\n",
       "                                    park  \\\n",
       "8  Prince Albert National Park of Canada   \n",
       "\n",
       "                                         descr_clean  flesch_re  flesch_kin  \\\n",
       "8  SaskPower is proposing to replace a pole mount...  62.843043   10.207826   \n",
       "\n",
       "   dalechall        fog  \n",
       "8   9.994865  13.721739  "
      ]
     },
     "execution_count": 32,
     "metadata": {},
     "output_type": "execute_result"
    }
   ],
   "source": [
    "data[data.dalechall == 9.994865217391304]"
   ]
  },
  {
   "cell_type": "code",
   "execution_count": 33,
   "metadata": {},
   "outputs": [
    {
     "data": {
      "text/plain": [
       "'SaskPower is proposing to replace a pole mount transformer on an existing wooden pole, and directionally drill 65 m to a customer supplied metering point in SE-16-57-01 W3M within Prince Albert National Park. The project is required to increase the capacity of the line and maintain the quality of service to an existing customer.  Equipment that is expected to be used for completion of the project includes: a digger truck, back-hoe, bucket truck, directional boring equipment, and crew trucks.  access to components of the project will make use of existing roads and trails. Surface disturbance is expected to be minimized to the bell holes at the existing pole and metering point.'"
      ]
     },
     "execution_count": 33,
     "metadata": {},
     "output_type": "execute_result"
    }
   ],
   "source": [
    "data.iloc[8]['description']"
   ]
  },
  {
   "cell_type": "markdown",
   "metadata": {},
   "source": [
    "### Step 4: Graph the scores \n",
    "\n",
    "Graph the scores. Each formula is going to need it's own graph.\n",
    "\n",
    "It doesn't make sense to standardize the data and compare scores that way, because that emphasizes the relationship between the formulas, rather than the scores for these texts. The 0-1 or normal scale is hard to interpret as reading difficulty. Also, you need to know either the min and max observable points for each formula, or the mean and SD of the population for each formula. Both are difficult to estimate. "
   ]
  },
  {
   "cell_type": "code",
   "execution_count": 29,
   "metadata": {},
   "outputs": [],
   "source": [
    "import seaborn as sns\n",
    "import matplotlib as mpl\n",
    "from matplotlib import pyplot as plt\n",
    "from pandas import DataFrame"
   ]
  },
  {
   "cell_type": "code",
   "execution_count": 32,
   "metadata": {},
   "outputs": [
    {
     "data": {
      "image/png": "[encoded data removed]",
      "text/plain": [
       "<Figure size 504x504 with 4 Axes>"
      ]
     },
     "metadata": {},
     "output_type": "display_data"
    }
   ],
   "source": [
    "sns.set(style=\"darkgrid\")\n",
    "\n",
    "\n",
    "fig, axs = plt.subplots(2, 2, figsize=(7, 7), sharey = True)\n",
    "\n",
    "sns.histplot(data=data, x=\"flesch_kin\", kde=True, color=\"skyblue\", \n",
    "             ax=axs[0, 0]).set(xlabel = \"Flesch Kincaid\")\n",
    "sns.histplot(data=data, x=\"dalechall\", kde=True, color=\"olive\", \n",
    "             ax=axs[0, 1]).set(xlabel = \"Dale Chall\")\n",
    "sns.histplot(data=data, x=\"fog\", kde=True, color=\"gold\", \n",
    "             ax=axs[1, 0]).set(xlabel = \"Gunning Fog\")\n",
    "sns.histplot(data=data, x=\"flesch_re\", kde=True, color=\"teal\", \n",
    "             ax=axs[1, 1]).set(xlabel = \"Flesch Reading Ease\")\n",
    "\n",
    "\n",
    "fig.tight_layout(pad = 2, rect=[0, 0.03, 1, 0.95]) # add space between subplot rows and main title\n",
    "\n",
    "for ax in axs: # make the y axis the same for all subplots\n",
    "    plt.setp(ax, ylim=(0,15))\n",
    "    \n",
    "axs[0,0].set_xlim(5,18)  # flesch-kincaid x-axis\n",
    "axs[1,0].set_xlim(5, 22) # gunning fog x-axis\n",
    "axs[0,1].set_xlim(5, 14) # dale chall\n",
    "axs[1,1].set_xlim(20, 100) # flesch reading ease\n",
    "    \n",
    "fig.suptitle(\"Parks Canada\")\n",
    "#plt.show()\n",
    "\n",
    "plt.savefig(\"output/parks_histogram.png\")"
   ]
  },
  {
   "cell_type": "markdown",
   "metadata": {},
   "source": [
    "### Step 5 : Save data for use in agency comparative analysis"
   ]
  },
  {
   "cell_type": "code",
   "execution_count": 31,
   "metadata": {},
   "outputs": [],
   "source": [
    "#data.to_excel(\"data/processed/parks_scores.xlsx\", index = False)"
   ]
  },
  {
   "cell_type": "code",
   "execution_count": null,
   "metadata": {},
   "outputs": [],
   "source": []
  }
 ],
 "metadata": {
  "kernelspec": {
   "display_name": "Python 3",
   "language": "python",
   "name": "python3"
  },
  "language_info": {
   "codemirror_mode": {
    "name": "ipython",
    "version": 3
   },
   "file_extension": ".py",
   "mimetype": "text/x-python",
   "name": "python",
   "nbconvert_exporter": "python",
   "pygments_lexer": "ipython3",
   "version": "3.8.5"
  }
 },
 "nbformat": 4,
 "nbformat_minor": 4
}
