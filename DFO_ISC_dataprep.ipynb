{
 "cells": [
  {
   "cell_type": "markdown",
   "metadata": {},
   "source": [
    "Load libraries and dataset."
   ]
  },
  {
   "cell_type": "code",
   "execution_count": 1,
   "metadata": {},
   "outputs": [],
   "source": [
    "import pandas as pd\n",
    "import numpy as np"
   ]
  },
  {
   "cell_type": "code",
   "execution_count": 2,
   "metadata": {},
   "outputs": [
    {
     "data": {
      "text/html": [
       "<div>\n",
       "<style scoped>\n",
       "    .dataframe tbody tr th:only-of-type {\n",
       "        vertical-align: middle;\n",
       "    }\n",
       "\n",
       "    .dataframe tbody tr th {\n",
       "        vertical-align: top;\n",
       "    }\n",
       "\n",
       "    .dataframe thead th {\n",
       "        text-align: right;\n",
       "    }\n",
       "</style>\n",
       "<table border=\"1\" class=\"dataframe\">\n",
       "  <thead>\n",
       "    <tr style=\"text-align: right;\">\n",
       "      <th></th>\n",
       "      <th>project number</th>\n",
       "      <th>project_name_en</th>\n",
       "      <th>project_name_fr</th>\n",
       "      <th>RA_ID</th>\n",
       "      <th>description_en</th>\n",
       "      <th>description_fr</th>\n",
       "      <th>status_en</th>\n",
       "      <th>created_at</th>\n",
       "      <th>eaStartDate</th>\n",
       "      <th>responsible_authorities_en</th>\n",
       "      <th>responsible_authorities_fr</th>\n",
       "    </tr>\n",
       "  </thead>\n",
       "  <tbody>\n",
       "    <tr>\n",
       "      <th>0</th>\n",
       "      <td>82935</td>\n",
       "      <td>North Lake Dredge Zone Expansion</td>\n",
       "      <td>Expansion de la zone de dragage de North Lake</td>\n",
       "      <td>DFO</td>\n",
       "      <td>Dredging of the entrance channel at North Lake...</td>\n",
       "      <td>Le dragage du chenal d&amp;#39;entr&amp;eacute;e &amp;agra...</td>\n",
       "      <td>In progress</td>\n",
       "      <td>2021-08-27 14:03:28.737</td>\n",
       "      <td>2021-08-27</td>\n",
       "      <td>Fisheries and Oceans Canada</td>\n",
       "      <td>Pêches et Océans Canada</td>\n",
       "    </tr>\n",
       "    <tr>\n",
       "      <th>1</th>\n",
       "      <td>82934</td>\n",
       "      <td>Graham Pond Basin Dredge</td>\n",
       "      <td>Drague du bassin de l'étang Graham</td>\n",
       "      <td>DFO</td>\n",
       "      <td>The Department of Fisheries and Oceans Canada ...</td>\n",
       "      <td>L&amp;#39;&amp;eacute;tang Graham, g&amp;eacute;r&amp;eacute; ...</td>\n",
       "      <td>In progress</td>\n",
       "      <td>2021-08-26 14:25:25.193</td>\n",
       "      <td>2021-08-26</td>\n",
       "      <td>Fisheries and Oceans Canada</td>\n",
       "      <td>Pêches et Océans Canada</td>\n",
       "    </tr>\n",
       "    <tr>\n",
       "      <th>2</th>\n",
       "      <td>82932</td>\n",
       "      <td>Atikameg Healing Shelter for Women and Children</td>\n",
       "      <td>Refuge de guérison d'Atikameg pour femmes et e...</td>\n",
       "      <td>ISC</td>\n",
       "      <td>Construction of Atikameg Healing Shelter for W...</td>\n",
       "      <td>Construction d&amp;#39;un refuge de gu&amp;eacute;riso...</td>\n",
       "      <td>In progress</td>\n",
       "      <td>2021-08-25 11:15:38.867</td>\n",
       "      <td>2021-08-25</td>\n",
       "      <td>Indigenous Services Canada</td>\n",
       "      <td>Services aux Autochtones Canada</td>\n",
       "    </tr>\n",
       "    <tr>\n",
       "      <th>3</th>\n",
       "      <td>82930</td>\n",
       "      <td>Peepeekisis Community Centre</td>\n",
       "      <td>Centre communautaire de Peepeekisis</td>\n",
       "      <td>ISC</td>\n",
       "      <td>The new Community Hub for Peepeekisis Cree Nat...</td>\n",
       "      <td>Le nouveau centre communautaire de la Nation c...</td>\n",
       "      <td>In progress</td>\n",
       "      <td>2021-08-24 18:00:40.273</td>\n",
       "      <td>2021-09-24</td>\n",
       "      <td>Indigenous Services Canada</td>\n",
       "      <td>Services aux Autochtones Canada</td>\n",
       "    </tr>\n",
       "    <tr>\n",
       "      <th>4</th>\n",
       "      <td>82929</td>\n",
       "      <td>Kehewin Lift Station Project</td>\n",
       "      <td>Projet de station de relèvement de Kehewin</td>\n",
       "      <td>ISC</td>\n",
       "      <td>Kehewin Cree Nation plans to construct a new l...</td>\n",
       "      <td>La Nation Crie de Kehewin pr&amp;eacute;voit de co...</td>\n",
       "      <td>In progress</td>\n",
       "      <td>2021-08-24 17:20:09.440</td>\n",
       "      <td>2021-08-24</td>\n",
       "      <td>Indigenous Services Canada</td>\n",
       "      <td>Services aux Autochtones Canada</td>\n",
       "    </tr>\n",
       "  </tbody>\n",
       "</table>\n",
       "</div>"
      ],
      "text/plain": [
       "   project number                                  project_name_en  \\\n",
       "0           82935                 North Lake Dredge Zone Expansion   \n",
       "1           82934                         Graham Pond Basin Dredge   \n",
       "2           82932  Atikameg Healing Shelter for Women and Children   \n",
       "3           82930                     Peepeekisis Community Centre   \n",
       "4           82929                     Kehewin Lift Station Project   \n",
       "\n",
       "                                     project_name_fr RA_ID  \\\n",
       "0      Expansion de la zone de dragage de North Lake   DFO   \n",
       "1                 Drague du bassin de l'étang Graham   DFO   \n",
       "2  Refuge de guérison d'Atikameg pour femmes et e...   ISC   \n",
       "3                Centre communautaire de Peepeekisis   ISC   \n",
       "4         Projet de station de relèvement de Kehewin   ISC   \n",
       "\n",
       "                                      description_en  \\\n",
       "0  Dredging of the entrance channel at North Lake...   \n",
       "1  The Department of Fisheries and Oceans Canada ...   \n",
       "2  Construction of Atikameg Healing Shelter for W...   \n",
       "3  The new Community Hub for Peepeekisis Cree Nat...   \n",
       "4  Kehewin Cree Nation plans to construct a new l...   \n",
       "\n",
       "                                      description_fr    status_en  \\\n",
       "0  Le dragage du chenal d&#39;entr&eacute;e &agra...  In progress   \n",
       "1  L&#39;&eacute;tang Graham, g&eacute;r&eacute; ...  In progress   \n",
       "2  Construction d&#39;un refuge de gu&eacute;riso...  In progress   \n",
       "3  Le nouveau centre communautaire de la Nation c...  In progress   \n",
       "4  La Nation Crie de Kehewin pr&eacute;voit de co...  In progress   \n",
       "\n",
       "               created_at eaStartDate   responsible_authorities_en  \\\n",
       "0 2021-08-27 14:03:28.737  2021-08-27  Fisheries and Oceans Canada   \n",
       "1 2021-08-26 14:25:25.193  2021-08-26  Fisheries and Oceans Canada   \n",
       "2 2021-08-25 11:15:38.867  2021-08-25   Indigenous Services Canada   \n",
       "3 2021-08-24 18:00:40.273  2021-09-24   Indigenous Services Canada   \n",
       "4 2021-08-24 17:20:09.440  2021-08-24   Indigenous Services Canada   \n",
       "\n",
       "        responsible_authorities_fr  \n",
       "0          Pêches et Océans Canada  \n",
       "1          Pêches et Océans Canada  \n",
       "2  Services aux Autochtones Canada  \n",
       "3  Services aux Autochtones Canada  \n",
       "4  Services aux Autochtones Canada  "
      ]
     },
     "execution_count": 2,
     "metadata": {},
     "output_type": "execute_result"
    }
   ],
   "source": [
    "project_list = pd.read_excel(\"data/raw/DFO_and_ISC_report.xlsx\")\n",
    "project_list.head()"
   ]
  },
  {
   "cell_type": "code",
   "execution_count": 6,
   "metadata": {},
   "outputs": [
    {
     "data": {
      "text/plain": [
       "(611, 11)"
      ]
     },
     "execution_count": 6,
     "metadata": {},
     "output_type": "execute_result"
    }
   ],
   "source": [
    "project_list.shape"
   ]
  },
  {
   "cell_type": "markdown",
   "metadata": {},
   "source": [
    "Take only projects that are completed."
   ]
  },
  {
   "cell_type": "code",
   "execution_count": 9,
   "metadata": {},
   "outputs": [
    {
     "data": {
      "text/plain": [
       "(389, 11)"
      ]
     },
     "execution_count": 9,
     "metadata": {},
     "output_type": "execute_result"
    }
   ],
   "source": [
    "project_list = project_list[project_list.status_en == \"Completed\"].copy()\n",
    "project_list.shape"
   ]
  },
  {
   "cell_type": "markdown",
   "metadata": {},
   "source": [
    "Split the project list into DFO projects and ISC projects.  \n",
    "For DFO, choose only projects where Fisheries and Oceans Canada is the sole responsible authority.\n",
    "For ISC, choose only projects where ISC is the sole responsible authority."
   ]
  },
  {
   "cell_type": "code",
   "execution_count": 16,
   "metadata": {},
   "outputs": [
    {
     "data": {
      "text/html": [
       "<div>\n",
       "<style scoped>\n",
       "    .dataframe tbody tr th:only-of-type {\n",
       "        vertical-align: middle;\n",
       "    }\n",
       "\n",
       "    .dataframe tbody tr th {\n",
       "        vertical-align: top;\n",
       "    }\n",
       "\n",
       "    .dataframe thead th {\n",
       "        text-align: right;\n",
       "    }\n",
       "</style>\n",
       "<table border=\"1\" class=\"dataframe\">\n",
       "  <thead>\n",
       "    <tr style=\"text-align: right;\">\n",
       "      <th></th>\n",
       "      <th>project number</th>\n",
       "      <th>project_name_en</th>\n",
       "      <th>project_name_fr</th>\n",
       "      <th>RA_ID</th>\n",
       "      <th>description_en</th>\n",
       "      <th>description_fr</th>\n",
       "      <th>status_en</th>\n",
       "      <th>created_at</th>\n",
       "      <th>eaStartDate</th>\n",
       "      <th>responsible_authorities_en</th>\n",
       "      <th>responsible_authorities_fr</th>\n",
       "    </tr>\n",
       "  </thead>\n",
       "  <tbody>\n",
       "    <tr>\n",
       "      <th>43</th>\n",
       "      <td>82825</td>\n",
       "      <td>Sharbot Lake Harbour Repairs 2021</td>\n",
       "      <td>Réparations du port de Sharbot Lake 2021</td>\n",
       "      <td>DFO</td>\n",
       "      <td>Central Frontenac Township intends to complete...</td>\n",
       "      <td>Le canton de Central Frontenac a l&amp;#39;intenti...</td>\n",
       "      <td>Completed</td>\n",
       "      <td>2021-07-22 16:37:56.220</td>\n",
       "      <td>2021-07-22</td>\n",
       "      <td>Fisheries and Oceans Canada</td>\n",
       "      <td>Pêches et Océans Canada</td>\n",
       "    </tr>\n",
       "    <tr>\n",
       "      <th>45</th>\n",
       "      <td>82821</td>\n",
       "      <td>Michipicoten River Boat Launch 2021</td>\n",
       "      <td>Rampe de mise à l'eau de la rivière Michipicot...</td>\n",
       "      <td>DFO</td>\n",
       "      <td>The Municipality of Wawa intends to construct ...</td>\n",
       "      <td>La municipalit&amp;eacute; de Wawa a l&amp;#39;intenti...</td>\n",
       "      <td>Completed</td>\n",
       "      <td>2021-07-22 14:28:56.150</td>\n",
       "      <td>2021-07-22</td>\n",
       "      <td>Fisheries and Oceans Canada</td>\n",
       "      <td>Pêches et Océans Canada</td>\n",
       "    </tr>\n",
       "    <tr>\n",
       "      <th>47</th>\n",
       "      <td>82811</td>\n",
       "      <td>Thunder Bay (Current River) Harbour Rehabilita...</td>\n",
       "      <td>Réhabilitation du port de Thunder Bay (Current...</td>\n",
       "      <td>DFO</td>\n",
       "      <td>Fisheries and Oceans Canada intends to complet...</td>\n",
       "      <td>P&amp;ecirc;ches et Oc&amp;eacute;ans Canada a l&amp;#39;i...</td>\n",
       "      <td>Completed</td>\n",
       "      <td>2021-07-21 14:29:14.647</td>\n",
       "      <td>2021-07-21</td>\n",
       "      <td>Fisheries and Oceans Canada</td>\n",
       "      <td>Pêches et Océans Canada</td>\n",
       "    </tr>\n",
       "    <tr>\n",
       "      <th>49</th>\n",
       "      <td>82806</td>\n",
       "      <td>Whitby West Pier Repairs 2021</td>\n",
       "      <td>Réparation de la jetée ouest de Whitby 2021</td>\n",
       "      <td>DFO</td>\n",
       "      <td>Fisheries and Oceans Canada intends to complet...</td>\n",
       "      <td>P&amp;ecirc;ches et Oc&amp;eacute;ans Canada a l&amp;#39;i...</td>\n",
       "      <td>Completed</td>\n",
       "      <td>2021-07-20 09:17:01.060</td>\n",
       "      <td>2021-07-20</td>\n",
       "      <td>Fisheries and Oceans Canada</td>\n",
       "      <td>Pêches et Océans Canada</td>\n",
       "    </tr>\n",
       "    <tr>\n",
       "      <th>50</th>\n",
       "      <td>82801</td>\n",
       "      <td>Gros Cap Wharf Rehabilitation 2021</td>\n",
       "      <td>Réhabilitation du quai de Gros Cap 2021</td>\n",
       "      <td>DFO</td>\n",
       "      <td>Fisheries and Oceans Canada Small Craft Harbou...</td>\n",
       "      <td>P&amp;ecirc;ches et Oc&amp;eacute;ans Canada,&amp;nbsp;Dir...</td>\n",
       "      <td>Completed</td>\n",
       "      <td>2021-07-19 14:33:57.357</td>\n",
       "      <td>2021-07-19</td>\n",
       "      <td>Fisheries and Oceans Canada</td>\n",
       "      <td>Pêches et Océans Canada</td>\n",
       "    </tr>\n",
       "  </tbody>\n",
       "</table>\n",
       "</div>"
      ],
      "text/plain": [
       "    project number                                    project_name_en  \\\n",
       "43           82825                  Sharbot Lake Harbour Repairs 2021   \n",
       "45           82821                Michipicoten River Boat Launch 2021   \n",
       "47           82811  Thunder Bay (Current River) Harbour Rehabilita...   \n",
       "49           82806                      Whitby West Pier Repairs 2021   \n",
       "50           82801                 Gros Cap Wharf Rehabilitation 2021   \n",
       "\n",
       "                                      project_name_fr RA_ID  \\\n",
       "43           Réparations du port de Sharbot Lake 2021   DFO   \n",
       "45  Rampe de mise à l'eau de la rivière Michipicot...   DFO   \n",
       "47  Réhabilitation du port de Thunder Bay (Current...   DFO   \n",
       "49        Réparation de la jetée ouest de Whitby 2021   DFO   \n",
       "50            Réhabilitation du quai de Gros Cap 2021   DFO   \n",
       "\n",
       "                                       description_en  \\\n",
       "43  Central Frontenac Township intends to complete...   \n",
       "45  The Municipality of Wawa intends to construct ...   \n",
       "47  Fisheries and Oceans Canada intends to complet...   \n",
       "49  Fisheries and Oceans Canada intends to complet...   \n",
       "50  Fisheries and Oceans Canada Small Craft Harbou...   \n",
       "\n",
       "                                       description_fr  status_en  \\\n",
       "43  Le canton de Central Frontenac a l&#39;intenti...  Completed   \n",
       "45  La municipalit&eacute; de Wawa a l&#39;intenti...  Completed   \n",
       "47  P&ecirc;ches et Oc&eacute;ans Canada a l&#39;i...  Completed   \n",
       "49  P&ecirc;ches et Oc&eacute;ans Canada a l&#39;i...  Completed   \n",
       "50  P&ecirc;ches et Oc&eacute;ans Canada,&nbsp;Dir...  Completed   \n",
       "\n",
       "                created_at eaStartDate   responsible_authorities_en  \\\n",
       "43 2021-07-22 16:37:56.220  2021-07-22  Fisheries and Oceans Canada   \n",
       "45 2021-07-22 14:28:56.150  2021-07-22  Fisheries and Oceans Canada   \n",
       "47 2021-07-21 14:29:14.647  2021-07-21  Fisheries and Oceans Canada   \n",
       "49 2021-07-20 09:17:01.060  2021-07-20  Fisheries and Oceans Canada   \n",
       "50 2021-07-19 14:33:57.357  2021-07-19  Fisheries and Oceans Canada   \n",
       "\n",
       "   responsible_authorities_fr  \n",
       "43    Pêches et Océans Canada  \n",
       "45    Pêches et Océans Canada  \n",
       "47    Pêches et Océans Canada  \n",
       "49    Pêches et Océans Canada  \n",
       "50    Pêches et Océans Canada  "
      ]
     },
     "execution_count": 16,
     "metadata": {},
     "output_type": "execute_result"
    }
   ],
   "source": [
    "DFO_reps = project_list[(project_list.RA_ID == \"DFO\") & \n",
    "                        (project_list.responsible_authorities_en == \"Fisheries and Oceans Canada\")].copy()\n",
    "DFO_reps.head()"
   ]
  },
  {
   "cell_type": "code",
   "execution_count": 19,
   "metadata": {},
   "outputs": [
    {
     "data": {
      "text/html": [
       "<div>\n",
       "<style scoped>\n",
       "    .dataframe tbody tr th:only-of-type {\n",
       "        vertical-align: middle;\n",
       "    }\n",
       "\n",
       "    .dataframe tbody tr th {\n",
       "        vertical-align: top;\n",
       "    }\n",
       "\n",
       "    .dataframe thead th {\n",
       "        text-align: right;\n",
       "    }\n",
       "</style>\n",
       "<table border=\"1\" class=\"dataframe\">\n",
       "  <thead>\n",
       "    <tr style=\"text-align: right;\">\n",
       "      <th></th>\n",
       "      <th>project number</th>\n",
       "      <th>project_name_en</th>\n",
       "      <th>project_name_fr</th>\n",
       "      <th>RA_ID</th>\n",
       "      <th>description_en</th>\n",
       "      <th>description_fr</th>\n",
       "      <th>status_en</th>\n",
       "      <th>created_at</th>\n",
       "      <th>eaStartDate</th>\n",
       "      <th>responsible_authorities_en</th>\n",
       "      <th>responsible_authorities_fr</th>\n",
       "    </tr>\n",
       "  </thead>\n",
       "  <tbody>\n",
       "    <tr>\n",
       "      <th>57</th>\n",
       "      <td>82779</td>\n",
       "      <td>Mishkeegogamang Ojibway Nation Broadband Tower...</td>\n",
       "      <td>Construction d'une tour à large bande pour la ...</td>\n",
       "      <td>ISC</td>\n",
       "      <td>Keewaytinook Okimakanak and KNet are working w...</td>\n",
       "      <td>Keewaytinook Okimakanak et KNet travaillent av...</td>\n",
       "      <td>Completed</td>\n",
       "      <td>2021-07-11 22:58:34.397</td>\n",
       "      <td>2021-07-11</td>\n",
       "      <td>Indigenous Services Canada</td>\n",
       "      <td>Services aux Autochtones Canada</td>\n",
       "    </tr>\n",
       "    <tr>\n",
       "      <th>64</th>\n",
       "      <td>81763</td>\n",
       "      <td>Tsuut'ina Nation Automotive Dealership Project</td>\n",
       "      <td>Projet de concessionnaire automobile de la nat...</td>\n",
       "      <td>ISC</td>\n",
       "      <td>Construction of an approximately 76,000 square...</td>\n",
       "      <td>Le projet comprendra la construction d&amp;#39;une...</td>\n",
       "      <td>Completed</td>\n",
       "      <td>2021-07-05 16:39:20.107</td>\n",
       "      <td>2021-07-05</td>\n",
       "      <td>Indigenous Services Canada</td>\n",
       "      <td>Services aux Autochtones Canada</td>\n",
       "    </tr>\n",
       "    <tr>\n",
       "      <th>67</th>\n",
       "      <td>81741</td>\n",
       "      <td>Family Services Building</td>\n",
       "      <td>Bâtiment des services aux familles</td>\n",
       "      <td>ISC</td>\n",
       "      <td>The project will include all preperation and c...</td>\n",
       "      <td>Le projet comprendra tous les travaux de pr&amp;ea...</td>\n",
       "      <td>Completed</td>\n",
       "      <td>2021-06-24 16:57:59.023</td>\n",
       "      <td>2021-06-24</td>\n",
       "      <td>Indigenous Services Canada</td>\n",
       "      <td>Services aux Autochtones Canada</td>\n",
       "    </tr>\n",
       "    <tr>\n",
       "      <th>81</th>\n",
       "      <td>81712</td>\n",
       "      <td>Biigtigong Nishnaabeg New K4-8 School</td>\n",
       "      <td>Nouvelle école Biigtigong Nishnaabeg K4-8</td>\n",
       "      <td>ISC</td>\n",
       "      <td>The Project involves the construction of a new...</td>\n",
       "      <td>Le projet pr&amp;eacute;voit la construction d&amp;#39...</td>\n",
       "      <td>Completed</td>\n",
       "      <td>2021-06-16 22:13:41.117</td>\n",
       "      <td>2021-06-16</td>\n",
       "      <td>Indigenous Services Canada</td>\n",
       "      <td>Services aux Autochtones Canada</td>\n",
       "    </tr>\n",
       "    <tr>\n",
       "      <th>86</th>\n",
       "      <td>81699</td>\n",
       "      <td>Grasswoods Reserve Septage Receiving Station, ...</td>\n",
       "      <td>Station de réception des boues de fosses septi...</td>\n",
       "      <td>ISC</td>\n",
       "      <td>The Proposed Project\\r\\n\\r\\nEnglish River Ente...</td>\n",
       "      <td>Le projet propos&amp;eacute;\\r\\n\\r\\nEnglish River ...</td>\n",
       "      <td>Completed</td>\n",
       "      <td>2021-06-11 10:06:07.060</td>\n",
       "      <td>2021-06-11</td>\n",
       "      <td>Indigenous Services Canada</td>\n",
       "      <td>Services aux Autochtones Canada</td>\n",
       "    </tr>\n",
       "  </tbody>\n",
       "</table>\n",
       "</div>"
      ],
      "text/plain": [
       "    project number                                    project_name_en  \\\n",
       "57           82779  Mishkeegogamang Ojibway Nation Broadband Tower...   \n",
       "64           81763     Tsuut'ina Nation Automotive Dealership Project   \n",
       "67           81741                           Family Services Building   \n",
       "81           81712              Biigtigong Nishnaabeg New K4-8 School   \n",
       "86           81699  Grasswoods Reserve Septage Receiving Station, ...   \n",
       "\n",
       "                                      project_name_fr RA_ID  \\\n",
       "57  Construction d'une tour à large bande pour la ...   ISC   \n",
       "64  Projet de concessionnaire automobile de la nat...   ISC   \n",
       "67                 Bâtiment des services aux familles   ISC   \n",
       "81          Nouvelle école Biigtigong Nishnaabeg K4-8   ISC   \n",
       "86  Station de réception des boues de fosses septi...   ISC   \n",
       "\n",
       "                                       description_en  \\\n",
       "57  Keewaytinook Okimakanak and KNet are working w...   \n",
       "64  Construction of an approximately 76,000 square...   \n",
       "67  The project will include all preperation and c...   \n",
       "81  The Project involves the construction of a new...   \n",
       "86  The Proposed Project\\r\\n\\r\\nEnglish River Ente...   \n",
       "\n",
       "                                       description_fr  status_en  \\\n",
       "57  Keewaytinook Okimakanak et KNet travaillent av...  Completed   \n",
       "64  Le projet comprendra la construction d&#39;une...  Completed   \n",
       "67  Le projet comprendra tous les travaux de pr&ea...  Completed   \n",
       "81  Le projet pr&eacute;voit la construction d&#39...  Completed   \n",
       "86  Le projet propos&eacute;\\r\\n\\r\\nEnglish River ...  Completed   \n",
       "\n",
       "                created_at eaStartDate  responsible_authorities_en  \\\n",
       "57 2021-07-11 22:58:34.397  2021-07-11  Indigenous Services Canada   \n",
       "64 2021-07-05 16:39:20.107  2021-07-05  Indigenous Services Canada   \n",
       "67 2021-06-24 16:57:59.023  2021-06-24  Indigenous Services Canada   \n",
       "81 2021-06-16 22:13:41.117  2021-06-16  Indigenous Services Canada   \n",
       "86 2021-06-11 10:06:07.060  2021-06-11  Indigenous Services Canada   \n",
       "\n",
       "         responsible_authorities_fr  \n",
       "57  Services aux Autochtones Canada  \n",
       "64  Services aux Autochtones Canada  \n",
       "67  Services aux Autochtones Canada  \n",
       "81  Services aux Autochtones Canada  \n",
       "86  Services aux Autochtones Canada  "
      ]
     },
     "execution_count": 19,
     "metadata": {},
     "output_type": "execute_result"
    }
   ],
   "source": [
    "ISC_reps = project_list[(project_list.RA_ID == \"ISC\") &\n",
    "                        (project_list.responsible_authorities_en == \"Indigenous Services Canada\")].copy()\n",
    "ISC_reps.head()"
   ]
  },
  {
   "cell_type": "code",
   "execution_count": 23,
   "metadata": {},
   "outputs": [
    {
     "name": "stdout",
     "output_type": "stream",
     "text": [
      "(123, 11)\n",
      "(212, 11)\n"
     ]
    }
   ],
   "source": [
    "print(DFO_reps.shape)\n",
    "print(ISC_reps.shape)"
   ]
  },
  {
   "cell_type": "markdown",
   "metadata": {},
   "source": [
    "There are now 123 DFO reports and 212 ISC reports to select from.\n",
    "\n",
    "Do a word count on the project descriptions and add a column called wordcount to both dataframes."
   ]
  },
  {
   "cell_type": "code",
   "execution_count": 25,
   "metadata": {},
   "outputs": [
    {
     "data": {
      "text/plain": [
       "<AxesSubplot:>"
      ]
     },
     "execution_count": 25,
     "metadata": {},
     "output_type": "execute_result"
    },
    {
     "data": {
      "image/png": "[encoded data removed]",
      "text/plain": [
       "<Figure size 432x288 with 1 Axes>"
      ]
     },
     "metadata": {
      "needs_background": "light"
     },
     "output_type": "display_data"
    }
   ],
   "source": [
    "wordcount_DFO = DFO_reps[\"description_en\"].str.split().str.len()\n",
    "DFO_reps[\"wordcount\"] = wordcount_DFO.values\n",
    "DFO_reps[\"wordcount\"].hist() # graph distribution of wordcount in the DFO reports"
   ]
  },
  {
   "cell_type": "code",
   "execution_count": 27,
   "metadata": {},
   "outputs": [
    {
     "data": {
      "text/plain": [
       "<AxesSubplot:>"
      ]
     },
     "execution_count": 27,
     "metadata": {},
     "output_type": "execute_result"
    },
    {
     "data": {
      "image/png": "[encoded data removed]",
      "text/plain": [
       "<Figure size 432x288 with 1 Axes>"
      ]
     },
     "metadata": {
      "needs_background": "light"
     },
     "output_type": "display_data"
    }
   ],
   "source": [
    "wordcount_ISC = ISC_reps[\"description_en\"].str.split().str.len()\n",
    "ISC_reps[\"wordcount\"] = wordcount_ISC.values\n",
    "ISC_reps[\"wordcount\"].hist(bins=15)# graph distribution of wordcount in the ISC reports"
   ]
  },
  {
   "cell_type": "markdown",
   "metadata": {},
   "source": [
    "Some of the ISC reports are much longer than any of the DFO or Parks reports. I will limit the random selection for both DFO and ISC to reports between 100 and 500 words, to ensure the selection of texts is comparable to the Parks texts.\n",
    "\n",
    "Select the reports that are between 100 and 500 words."
   ]
  },
  {
   "cell_type": "code",
   "execution_count": 28,
   "metadata": {},
   "outputs": [],
   "source": [
    "DFO_100 = DFO_reps[(DFO_reps.wordcount > 100) & (DFO_reps.wordcount < 500)].copy()\n",
    "\n",
    "ISC_100 = ISC_reps[(ISC_reps.wordcount > 100) & (ISC_reps.wordcount < 500)].copy()"
   ]
  },
  {
   "cell_type": "markdown",
   "metadata": {},
   "source": [
    "Now randomly select 50 reports from each dataset."
   ]
  },
  {
   "cell_type": "code",
   "execution_count": 29,
   "metadata": {},
   "outputs": [],
   "source": [
    "#DFO_select = DFO_100.sample(n = 50)\n",
    "\n",
    "\n",
    "#ISC_select = ISC_100.sample(n = 50)\n"
   ]
  },
  {
   "cell_type": "markdown",
   "metadata": {},
   "source": [
    "Clean the HTML entities from the project descriptions.\n",
    "First, define a function to strip the tags."
   ]
  },
  {
   "cell_type": "code",
   "execution_count": 35,
   "metadata": {},
   "outputs": [],
   "source": [
    "from io import StringIO\n",
    "from html.parser import HTMLParser\n",
    "\n",
    "class MLStripper(HTMLParser):\n",
    "    def __init__(self):\n",
    "        super().__init__()\n",
    "        self.reset()\n",
    "        self.fed = []\n",
    "        self.strict = False\n",
    "        self.convert_charrefs= True\n",
    "        self.text = StringIO()\n",
    "    def handle_data(self, d):\n",
    "        self.text.write(d)\n",
    "    def get_data(self):\n",
    "        return self.text.getvalue()\n",
    "\n",
    "def strip_tags(html):\n",
    "    s = MLStripper()\n",
    "    s.feed(html)\n",
    "    return s.get_data()"
   ]
  },
  {
   "cell_type": "code",
   "execution_count": 33,
   "metadata": {},
   "outputs": [
    {
     "name": "stdout",
     "output_type": "stream",
     "text": [
      "Dene Tha&#39; First Nation is proposing to design and commission a water system for Bushe River Reserve #207, immediately east of the town High Level. The water system will consist of (1) A new regional water supply line to the reserve along the east boundary of Highway 58 and down to South Central Road to a new truckfill pumphouse and reservoir; (2) A new truckfill pumphouse and reservoir located on the south side of South Central Road, along with associated civil, structural, mechanical, electrical, process, instrumentation, and control works; (3) A water distribution system to service specific First Nation facilities and homes fed by the new pumphouse; and (4) Connecting the rental subdivision located immediately south of Highway 58 directly to the town of High Level water system.\n"
     ]
    }
   ],
   "source": [
    "#Try it out on a single cell of text.\n",
    "\n",
    "sample_text = ISC_select.iloc[0,4]\n",
    "print(sample_text)"
   ]
  },
  {
   "cell_type": "code",
   "execution_count": 36,
   "metadata": {},
   "outputs": [
    {
     "name": "stdout",
     "output_type": "stream",
     "text": [
      "Dene Tha' First Nation is proposing to design and commission a water system for Bushe River Reserve #207, immediately east of the town High Level. The water system will consist of (1) A new regional water supply line to the reserve along the east boundary of Highway 58 and down to South Central Road to a new truckfill pumphouse and reservoir; (2) A new truckfill pumphouse and reservoir located on the south side of South Central Road, along with associated civil, structural, mechanical, electrical, process, instrumentation, and control works; (3) A water distribution system to service specific First Nation facilities and homes fed by the new pumphouse; and (4) Connecting the rental subdivision located immediately south of Highway 58 directly to the town of High Level water system.\n"
     ]
    }
   ],
   "source": [
    "clean_text = strip_tags(sample_text)\n",
    "print(clean_text)"
   ]
  },
  {
   "cell_type": "code",
   "execution_count": 39,
   "metadata": {},
   "outputs": [],
   "source": [
    "# Now apply to entire column and send results to a new column called descript_clean\n",
    "\n",
    "ISC_select[\"descript_clean\"] = ISC_select[\"description_en\"].apply(strip_tags)\n",
    "DFO_select[\"descript_clean\"] = DFO_select[\"description_en\"].apply(strip_tags)"
   ]
  },
  {
   "cell_type": "code",
   "execution_count": 40,
   "metadata": {},
   "outputs": [],
   "source": [
    "# Save the select reports.\n",
    "\n",
    "#DFO_select.to_excel(\"data/processed/DFO_50select.xlsx\")\n",
    "#ISC_select.to_excel(\"data/processed/ISC_50select.xlsx\")"
   ]
  },
  {
   "cell_type": "code",
   "execution_count": null,
   "metadata": {},
   "outputs": [],
   "source": []
  }
 ],
 "metadata": {
  "kernelspec": {
   "display_name": "Python 3",
   "language": "python",
   "name": "python3"
  },
  "language_info": {
   "codemirror_mode": {
    "name": "ipython",
    "version": 3
   },
   "file_extension": ".py",
   "mimetype": "text/x-python",
   "name": "python",
   "nbconvert_exporter": "python",
   "pygments_lexer": "ipython3",
   "version": "3.8.5"
  }
 },
 "nbformat": 4,
 "nbformat_minor": 4
}
