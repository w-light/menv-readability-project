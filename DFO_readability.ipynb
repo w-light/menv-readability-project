{
 "cells": [
  {
   "cell_type": "markdown",
   "metadata": {},
   "source": [
    "## Readability of Fisheries and Oceans Canada project descriptions\n",
    "\n",
    "### Step 1: Prepare and clean project descriptions for analysis\n",
    "\n",
    "Load libraries and dataset. \n",
    "Clean the project descriptions with Textatistic's tool punct_clean. The data has already been manually reviewed and updated to eliminate bullet points and non-sentence ending full stops."
   ]
  },
  {
   "cell_type": "code",
   "execution_count": 1,
   "metadata": {},
   "outputs": [],
   "source": [
    "import pandas as pd\n",
    "\n",
    "#readability library\n",
    "import textatistic\n",
    "from textatistic import Textatistic\n",
    "\n",
    "#graph libraries\n",
    "import seaborn as sns\n",
    "import matplotlib as mpl\n",
    "from matplotlib import pyplot as plt"
   ]
  },
  {
   "cell_type": "code",
   "execution_count": 2,
   "metadata": {},
   "outputs": [
    {
     "data": {
      "text/html": [
       "<div>\n",
       "<style scoped>\n",
       "    .dataframe tbody tr th:only-of-type {\n",
       "        vertical-align: middle;\n",
       "    }\n",
       "\n",
       "    .dataframe tbody tr th {\n",
       "        vertical-align: top;\n",
       "    }\n",
       "\n",
       "    .dataframe thead th {\n",
       "        text-align: right;\n",
       "    }\n",
       "</style>\n",
       "<table border=\"1\" class=\"dataframe\">\n",
       "  <thead>\n",
       "    <tr style=\"text-align: right;\">\n",
       "      <th></th>\n",
       "      <th>Unnamed: 0</th>\n",
       "      <th>project number</th>\n",
       "      <th>project_name_en</th>\n",
       "      <th>project_name_fr</th>\n",
       "      <th>RA_ID</th>\n",
       "      <th>description_en</th>\n",
       "      <th>description_fr</th>\n",
       "      <th>status_en</th>\n",
       "      <th>created_at</th>\n",
       "      <th>eaStartDate</th>\n",
       "      <th>responsible_authorities_en</th>\n",
       "      <th>responsible_authorities_fr</th>\n",
       "      <th>wordcount</th>\n",
       "      <th>descript_clean</th>\n",
       "    </tr>\n",
       "  </thead>\n",
       "  <tbody>\n",
       "    <tr>\n",
       "      <th>0</th>\n",
       "      <td>447</td>\n",
       "      <td>80569</td>\n",
       "      <td>L'Orignal Marina - Floating Breakwater Replace...</td>\n",
       "      <td>Marina de L'Orignal - Remplacement du brise-la...</td>\n",
       "      <td>DFO</td>\n",
       "      <td>L&amp;#39;Orignal Marina is located on the south s...</td>\n",
       "      <td>La Marina L&amp;#39;Orignal est situ&amp;eacute;e sur ...</td>\n",
       "      <td>Completed</td>\n",
       "      <td>2020-03-26 14:30:45.497</td>\n",
       "      <td>2021-03-01</td>\n",
       "      <td>Fisheries and Oceans Canada</td>\n",
       "      <td>Pêches et Océans Canada</td>\n",
       "      <td>147</td>\n",
       "      <td>L'Orignal Marina is located on the south shore...</td>\n",
       "    </tr>\n",
       "    <tr>\n",
       "      <th>1</th>\n",
       "      <td>60</td>\n",
       "      <td>81778</td>\n",
       "      <td>Howards Cove Wharf Upgrades</td>\n",
       "      <td>Améliorations du quai de Howards Cove</td>\n",
       "      <td>DFO</td>\n",
       "      <td>The marginal wharf #402 at Howards Cove Small ...</td>\n",
       "      <td>Le quai longitudinal 402 &amp;agrave; le port pour...</td>\n",
       "      <td>Completed</td>\n",
       "      <td>2021-07-08 14:35:52.940</td>\n",
       "      <td>2021-07-08</td>\n",
       "      <td>Fisheries and Oceans Canada</td>\n",
       "      <td>Pêches et Océans Canada</td>\n",
       "      <td>223</td>\n",
       "      <td>The marginal wharf #402 at Howards Cove Small ...</td>\n",
       "    </tr>\n",
       "    <tr>\n",
       "      <th>2</th>\n",
       "      <td>71</td>\n",
       "      <td>81735</td>\n",
       "      <td>Launch Ramp Reconstruction - Whitefish Point, ...</td>\n",
       "      <td>Reconstruction de rampe de mise à l'eau  - Whi...</td>\n",
       "      <td>DFO</td>\n",
       "      <td>Whitefish Point Harbour, Manitoba is located i...</td>\n",
       "      <td>Le port de Whitefish Point, au Manitoba, est s...</td>\n",
       "      <td>Completed</td>\n",
       "      <td>2021-06-29 09:23:00.337</td>\n",
       "      <td>2021-06-29</td>\n",
       "      <td>Fisheries and Oceans Canada</td>\n",
       "      <td>Pêches et Océans Canada</td>\n",
       "      <td>122</td>\n",
       "      <td>Whitefish Point Harbour, Manitoba is located i...</td>\n",
       "    </tr>\n",
       "  </tbody>\n",
       "</table>\n",
       "</div>"
      ],
      "text/plain": [
       "   Unnamed: 0  project number  \\\n",
       "0         447           80569   \n",
       "1          60           81778   \n",
       "2          71           81735   \n",
       "\n",
       "                                     project_name_en  \\\n",
       "0  L'Orignal Marina - Floating Breakwater Replace...   \n",
       "1                        Howards Cove Wharf Upgrades   \n",
       "2  Launch Ramp Reconstruction - Whitefish Point, ...   \n",
       "\n",
       "                                     project_name_fr RA_ID  \\\n",
       "0  Marina de L'Orignal - Remplacement du brise-la...   DFO   \n",
       "1              Améliorations du quai de Howards Cove   DFO   \n",
       "2  Reconstruction de rampe de mise à l'eau  - Whi...   DFO   \n",
       "\n",
       "                                      description_en  \\\n",
       "0  L&#39;Orignal Marina is located on the south s...   \n",
       "1  The marginal wharf #402 at Howards Cove Small ...   \n",
       "2  Whitefish Point Harbour, Manitoba is located i...   \n",
       "\n",
       "                                      description_fr  status_en  \\\n",
       "0  La Marina L&#39;Orignal est situ&eacute;e sur ...  Completed   \n",
       "1  Le quai longitudinal 402 &agrave; le port pour...  Completed   \n",
       "2  Le port de Whitefish Point, au Manitoba, est s...  Completed   \n",
       "\n",
       "               created_at eaStartDate   responsible_authorities_en  \\\n",
       "0 2020-03-26 14:30:45.497  2021-03-01  Fisheries and Oceans Canada   \n",
       "1 2021-07-08 14:35:52.940  2021-07-08  Fisheries and Oceans Canada   \n",
       "2 2021-06-29 09:23:00.337  2021-06-29  Fisheries and Oceans Canada   \n",
       "\n",
       "  responsible_authorities_fr  wordcount  \\\n",
       "0    Pêches et Océans Canada        147   \n",
       "1    Pêches et Océans Canada        223   \n",
       "2    Pêches et Océans Canada        122   \n",
       "\n",
       "                                      descript_clean  \n",
       "0  L'Orignal Marina is located on the south shore...  \n",
       "1  The marginal wharf #402 at Howards Cove Small ...  \n",
       "2  Whitefish Point Harbour, Manitoba is located i...  "
      ]
     },
     "execution_count": 2,
     "metadata": {},
     "output_type": "execute_result"
    }
   ],
   "source": [
    "DFO = pd.read_excel(\"data/processed/DFO_50select_clean.xlsx\")\n",
    "DFO.head(3)"
   ]
  },
  {
   "cell_type": "code",
   "execution_count": 3,
   "metadata": {},
   "outputs": [],
   "source": [
    "# reduce the table\n",
    "\n",
    "DFO_data = DFO[[\"project number\", \"descript_clean\"]].copy()"
   ]
  },
  {
   "cell_type": "code",
   "execution_count": 4,
   "metadata": {},
   "outputs": [],
   "source": [
    "#clean the project description text and create a new column with the ready-to-analyse text\n",
    "DFO_data[\"descr_ready\"] = DFO_data[\"descript_clean\"].apply(textatistic.punct_clean)"
   ]
  },
  {
   "cell_type": "markdown",
   "metadata": {},
   "source": [
    "### Step 2: Readability scores\n",
    "\n",
    "Calculate the scores and send to new columns."
   ]
  },
  {
   "cell_type": "code",
   "execution_count": 5,
   "metadata": {},
   "outputs": [
    {
     "data": {
      "text/html": [
       "<div>\n",
       "<style scoped>\n",
       "    .dataframe tbody tr th:only-of-type {\n",
       "        vertical-align: middle;\n",
       "    }\n",
       "\n",
       "    .dataframe tbody tr th {\n",
       "        vertical-align: top;\n",
       "    }\n",
       "\n",
       "    .dataframe thead th {\n",
       "        text-align: right;\n",
       "    }\n",
       "</style>\n",
       "<table border=\"1\" class=\"dataframe\">\n",
       "  <thead>\n",
       "    <tr style=\"text-align: right;\">\n",
       "      <th></th>\n",
       "      <th>project number</th>\n",
       "      <th>descript_clean</th>\n",
       "      <th>descr_ready</th>\n",
       "      <th>flesch_re</th>\n",
       "      <th>flesch_kin</th>\n",
       "      <th>dalechall</th>\n",
       "      <th>fog</th>\n",
       "    </tr>\n",
       "  </thead>\n",
       "  <tbody>\n",
       "    <tr>\n",
       "      <th>0</th>\n",
       "      <td>80569</td>\n",
       "      <td>L'Orignal Marina is located on the south shore...</td>\n",
       "      <td>L'Orignal Marina is located on the south shore...</td>\n",
       "      <td>53.183468</td>\n",
       "      <td>11.969189</td>\n",
       "      <td>10.727872</td>\n",
       "      <td>15.272072</td>\n",
       "    </tr>\n",
       "    <tr>\n",
       "      <th>1</th>\n",
       "      <td>81778</td>\n",
       "      <td>The marginal wharf #402 at Howards Cove Small ...</td>\n",
       "      <td>The marginal wharf #402 at Howards Cove Small ...</td>\n",
       "      <td>68.544187</td>\n",
       "      <td>8.848022</td>\n",
       "      <td>10.135669</td>\n",
       "      <td>11.097927</td>\n",
       "    </tr>\n",
       "    <tr>\n",
       "      <th>2</th>\n",
       "      <td>81735</td>\n",
       "      <td>Whitefish Point Harbour, Manitoba is located i...</td>\n",
       "      <td>Whitefish Point Harbour, Manitoba is located i...</td>\n",
       "      <td>63.188367</td>\n",
       "      <td>9.621400</td>\n",
       "      <td>12.122713</td>\n",
       "      <td>12.173333</td>\n",
       "    </tr>\n",
       "    <tr>\n",
       "      <th>3</th>\n",
       "      <td>81727</td>\n",
       "      <td>Gull Harbour, Manitoba is located on Hecla Isl...</td>\n",
       "      <td>Gull Harbour, Manitoba is located on Hecla Isl...</td>\n",
       "      <td>63.231667</td>\n",
       "      <td>8.911481</td>\n",
       "      <td>11.547078</td>\n",
       "      <td>11.644444</td>\n",
       "    </tr>\n",
       "    <tr>\n",
       "      <th>4</th>\n",
       "      <td>80539</td>\n",
       "      <td>The Department of Fisheries and Oceans Canada ...</td>\n",
       "      <td>The Department of Fisheries and Oceans Canada ...</td>\n",
       "      <td>55.551040</td>\n",
       "      <td>12.156519</td>\n",
       "      <td>11.456384</td>\n",
       "      <td>14.438318</td>\n",
       "    </tr>\n",
       "  </tbody>\n",
       "</table>\n",
       "</div>"
      ],
      "text/plain": [
       "   project number                                     descript_clean  \\\n",
       "0           80569  L'Orignal Marina is located on the south shore...   \n",
       "1           81778  The marginal wharf #402 at Howards Cove Small ...   \n",
       "2           81735  Whitefish Point Harbour, Manitoba is located i...   \n",
       "3           81727  Gull Harbour, Manitoba is located on Hecla Isl...   \n",
       "4           80539  The Department of Fisheries and Oceans Canada ...   \n",
       "\n",
       "                                         descr_ready  flesch_re  flesch_kin  \\\n",
       "0  L'Orignal Marina is located on the south shore...  53.183468   11.969189   \n",
       "1  The marginal wharf #402 at Howards Cove Small ...  68.544187    8.848022   \n",
       "2  Whitefish Point Harbour, Manitoba is located i...  63.188367    9.621400   \n",
       "3  Gull Harbour, Manitoba is located on Hecla Isl...  63.231667    8.911481   \n",
       "4  The Department of Fisheries and Oceans Canada ...  55.551040   12.156519   \n",
       "\n",
       "   dalechall        fog  \n",
       "0  10.727872  15.272072  \n",
       "1  10.135669  11.097927  \n",
       "2  12.122713  12.173333  \n",
       "3  11.547078  11.644444  \n",
       "4  11.456384  14.438318  "
      ]
     },
     "execution_count": 5,
     "metadata": {},
     "output_type": "execute_result"
    }
   ],
   "source": [
    "DFO_data[\"flesch_re\"] = DFO_data[\"descr_ready\"].apply(textatistic.flesch_score)\n",
    "DFO_data[\"flesch_kin\"] = DFO_data[\"descr_ready\"].apply(textatistic.fleschkincaid_score)\n",
    "DFO_data[\"dalechall\"] = DFO_data[\"descr_ready\"].apply(textatistic.dalechall_score)\n",
    "DFO_data[\"fog\"] = DFO_data[\"descr_ready\"].apply(textatistic.gunningfog_score)\n",
    "DFO_data.head()"
   ]
  },
  {
   "cell_type": "markdown",
   "metadata": {},
   "source": [
    "### Step 3: Analyse the results\n",
    "\n",
    "Start with basic descriptive statistics.\n",
    "\n",
    "### Flesch reading ease\n",
    "\n",
    "In Flesch reading ease, a score between 60 and 70 is considered \"plain English,\" according to R. Flesch."
   ]
  },
  {
   "cell_type": "code",
   "execution_count": 6,
   "metadata": {},
   "outputs": [
    {
     "data": {
      "text/plain": [
       "count    47.000000\n",
       "mean     56.179123\n",
       "std       9.863078\n",
       "min      29.471422\n",
       "25%      48.099923\n",
       "50%      56.681479\n",
       "75%      63.519167\n",
       "max      73.891951\n",
       "Name: flesch_re, dtype: float64"
      ]
     },
     "execution_count": 6,
     "metadata": {},
     "output_type": "execute_result"
    }
   ],
   "source": [
    "DFO_data[\"flesch_re\"].describe()"
   ]
  },
  {
   "cell_type": "markdown",
   "metadata": {},
   "source": [
    "What is the text with the minimum (worst) Flesch reading ease score?"
   ]
  },
  {
   "cell_type": "code",
   "execution_count": 7,
   "metadata": {},
   "outputs": [
    {
     "data": {
      "text/html": [
       "<div>\n",
       "<style scoped>\n",
       "    .dataframe tbody tr th:only-of-type {\n",
       "        vertical-align: middle;\n",
       "    }\n",
       "\n",
       "    .dataframe tbody tr th {\n",
       "        vertical-align: top;\n",
       "    }\n",
       "\n",
       "    .dataframe thead th {\n",
       "        text-align: right;\n",
       "    }\n",
       "</style>\n",
       "<table border=\"1\" class=\"dataframe\">\n",
       "  <thead>\n",
       "    <tr style=\"text-align: right;\">\n",
       "      <th></th>\n",
       "      <th>project number</th>\n",
       "      <th>descript_clean</th>\n",
       "      <th>descr_ready</th>\n",
       "      <th>flesch_re</th>\n",
       "      <th>flesch_kin</th>\n",
       "      <th>dalechall</th>\n",
       "      <th>fog</th>\n",
       "    </tr>\n",
       "  </thead>\n",
       "  <tbody>\n",
       "    <tr>\n",
       "      <th>22</th>\n",
       "      <td>81254</td>\n",
       "      <td>The Real Property, Safety and Security Branch ...</td>\n",
       "      <td>The Real Property, Safety and Security Branch ...</td>\n",
       "      <td>29.471422</td>\n",
       "      <td>17.251226</td>\n",
       "      <td>11.696841</td>\n",
       "      <td>20.687663</td>\n",
       "    </tr>\n",
       "  </tbody>\n",
       "</table>\n",
       "</div>"
      ],
      "text/plain": [
       "    project number                                     descript_clean  \\\n",
       "22           81254  The Real Property, Safety and Security Branch ...   \n",
       "\n",
       "                                          descr_ready  flesch_re  flesch_kin  \\\n",
       "22  The Real Property, Safety and Security Branch ...  29.471422   17.251226   \n",
       "\n",
       "    dalechall        fog  \n",
       "22  11.696841  20.687663  "
      ]
     },
     "execution_count": 7,
     "metadata": {},
     "output_type": "execute_result"
    }
   ],
   "source": [
    "DFO_data[DFO_data.flesch_re == DFO_data.flesch_re.min()]"
   ]
  },
  {
   "cell_type": "code",
   "execution_count": 8,
   "metadata": {},
   "outputs": [
    {
     "name": "stdout",
     "output_type": "stream",
     "text": [
      "The Real Property, Safety and Security Branch of Fisheries and Oceans Canada (DFO-RPSS) plan to repurpose an existing building at the Bedford Institute of Oceanography (BIO) in Dartmouth, Halifax Regional Municipality to provide more efficient use and newly renovated space to accommodate the Facility for Intelligent Marine Systems (FIMS) and Fish Lab Renovation (FLR).  Conceptual design includes wet laboratory space, shared large field prep areas, and Workplace 2+0 office accommodations.  The building will benefit from an improved building envelope, sustainability features, and a better working environment for occupants.\r\n",
      "\r\n",
      " \r\n",
      "\r\n",
      "The existing Fish Lab building is a 3,073 m2 two-story building that was originally constructed in 1965 with an addition completed in 1998. The building is deteriorating, and due to its age and nature of its renovations and additions over the years, the interior configuration is less than ideal.  Many of the building systems are also nearing the end of life and will require replacement. The current building houses a mix of offices and labs integrated into the humid salt atmosphere of a wet-lab aquarium facility.  These conditions result in a poor working environment, including persistent mold issues.  Minor renovations were carried out in 1998-99 to address mold concerns and to accommodate the transfer of program employees resulting from the closure of the DFO Halifax Lab Complex, however there remains an unacceptable mix of space use and environmental conditions that require more permanent solutions.\r\n",
      "\r\n",
      " \r\n",
      "\r\n",
      "The proposed project will include the removal and storage of all reusable lab equipment and tanks from the existing building, demolition of the existing building interior, abatement of any hazardous materials, installation of new building envelop, extension of building envelop to enclose corridor to Quarantine Lab, fit-up for DFO Aquatic Science labs and operations, fit-up for FIMS labs and operations, new building layout with architectural finishes to suit stated use, Workplace 2+0 workstations, installation of an elevator, mechanical and electrical systems to suit stated use, forklift, overhead gantry crane, shared space between DFO Aquatic Science and FIMS Program, sustainable features, to be determined during design.\r\n",
      "\r\n",
      " \r\n",
      "\r\n",
      "The FIMS will support interdepartmental collaborative use of state-of-the-art unmanned surface and underwater data collection platforms and nurture the development testing of new systems to observe Canada's marine environment.  The Fish Lab Renovation (FLR) will improve the delivery of the DFO fisheries science program mandate.   \r\n",
      "\r\n",
      " \r\n",
      "\r\n",
      "Demolition of the existing building interior is expected to be carried out between February 1, 2021 and April 30, 2021 while the reconstruction will run from September 1, 2021 until February 28, 2023.\n"
     ]
    }
   ],
   "source": [
    "print(DFO_data.iloc[22, 2])"
   ]
  },
  {
   "cell_type": "markdown",
   "metadata": {},
   "source": [
    "What is the text with the highest (best) Flesch reading ease score?"
   ]
  },
  {
   "cell_type": "code",
   "execution_count": 9,
   "metadata": {},
   "outputs": [
    {
     "data": {
      "text/html": [
       "<div>\n",
       "<style scoped>\n",
       "    .dataframe tbody tr th:only-of-type {\n",
       "        vertical-align: middle;\n",
       "    }\n",
       "\n",
       "    .dataframe tbody tr th {\n",
       "        vertical-align: top;\n",
       "    }\n",
       "\n",
       "    .dataframe thead th {\n",
       "        text-align: right;\n",
       "    }\n",
       "</style>\n",
       "<table border=\"1\" class=\"dataframe\">\n",
       "  <thead>\n",
       "    <tr style=\"text-align: right;\">\n",
       "      <th></th>\n",
       "      <th>project number</th>\n",
       "      <th>descript_clean</th>\n",
       "      <th>descr_ready</th>\n",
       "      <th>flesch_re</th>\n",
       "      <th>flesch_kin</th>\n",
       "      <th>dalechall</th>\n",
       "      <th>fog</th>\n",
       "    </tr>\n",
       "  </thead>\n",
       "  <tbody>\n",
       "    <tr>\n",
       "      <th>23</th>\n",
       "      <td>80359</td>\n",
       "      <td>The Dalhousie Yacht Club located at 74 Lightho...</td>\n",
       "      <td>The Dalhousie Yacht Club located at 74 Lightho...</td>\n",
       "      <td>73.891951</td>\n",
       "      <td>9.014525</td>\n",
       "      <td>9.247232</td>\n",
       "      <td>11.727213</td>\n",
       "    </tr>\n",
       "  </tbody>\n",
       "</table>\n",
       "</div>"
      ],
      "text/plain": [
       "    project number                                     descript_clean  \\\n",
       "23           80359  The Dalhousie Yacht Club located at 74 Lightho...   \n",
       "\n",
       "                                          descr_ready  flesch_re  flesch_kin  \\\n",
       "23  The Dalhousie Yacht Club located at 74 Lightho...  73.891951    9.014525   \n",
       "\n",
       "    dalechall        fog  \n",
       "23   9.247232  11.727213  "
      ]
     },
     "execution_count": 9,
     "metadata": {},
     "output_type": "execute_result"
    }
   ],
   "source": [
    "DFO_data[DFO_data.flesch_re == DFO_data.flesch_re.max()]"
   ]
  },
  {
   "cell_type": "code",
   "execution_count": 10,
   "metadata": {},
   "outputs": [
    {
     "name": "stdout",
     "output_type": "stream",
     "text": [
      "The Dalhousie Yacht Club located at 74 Lighthouse Rd, Saint Catharine's, ON on the Twelve Mile Creek, plans to install a travel lift dock. The project will take place on federal lands located in Port Dalhousie Small Craft Harbour, owned by Fisheries and Oceans Canada, Small Craft Harbours. The travel lift dock will be installed over an existing concrete boat ramp to facilitate boat launching. The project will consist of driving two rows of in water steel piles to support the travel lift's steel frame and wooden docks connecting to shore. Each row of piles will have 5 piles spaced approximately 12 feet apart, projecting approximately 50 feet from the waters' edge and will have a 20 foot width between dock frames.\n"
     ]
    }
   ],
   "source": [
    "print(DFO_data.iloc[23, 2])"
   ]
  },
  {
   "cell_type": "markdown",
   "metadata": {},
   "source": [
    "### Flesch Kincaid grade level"
   ]
  },
  {
   "cell_type": "code",
   "execution_count": 11,
   "metadata": {},
   "outputs": [
    {
     "data": {
      "text/plain": [
       "count    47.000000\n",
       "mean     11.625887\n",
       "std       2.451914\n",
       "min       7.987704\n",
       "25%       9.713598\n",
       "50%      11.351158\n",
       "75%      13.286648\n",
       "max      17.562500\n",
       "Name: flesch_kin, dtype: float64"
      ]
     },
     "execution_count": 11,
     "metadata": {},
     "output_type": "execute_result"
    }
   ],
   "source": [
    "DFO_data[\"flesch_kin\"].describe()"
   ]
  },
  {
   "cell_type": "markdown",
   "metadata": {},
   "source": [
    "What is the text with the max (worst) FK grade level score?"
   ]
  },
  {
   "cell_type": "code",
   "execution_count": 12,
   "metadata": {},
   "outputs": [
    {
     "data": {
      "text/html": [
       "<div>\n",
       "<style scoped>\n",
       "    .dataframe tbody tr th:only-of-type {\n",
       "        vertical-align: middle;\n",
       "    }\n",
       "\n",
       "    .dataframe tbody tr th {\n",
       "        vertical-align: top;\n",
       "    }\n",
       "\n",
       "    .dataframe thead th {\n",
       "        text-align: right;\n",
       "    }\n",
       "</style>\n",
       "<table border=\"1\" class=\"dataframe\">\n",
       "  <thead>\n",
       "    <tr style=\"text-align: right;\">\n",
       "      <th></th>\n",
       "      <th>project number</th>\n",
       "      <th>descript_clean</th>\n",
       "      <th>descr_ready</th>\n",
       "      <th>flesch_re</th>\n",
       "      <th>flesch_kin</th>\n",
       "      <th>dalechall</th>\n",
       "      <th>fog</th>\n",
       "    </tr>\n",
       "  </thead>\n",
       "  <tbody>\n",
       "    <tr>\n",
       "      <th>36</th>\n",
       "      <td>81053</td>\n",
       "      <td>Small Craft Harbours (SCH) is undertaking main...</td>\n",
       "      <td>Small Craft Harbours (SCH) is undertaking main...</td>\n",
       "      <td>40.3925</td>\n",
       "      <td>17.5625</td>\n",
       "      <td>12.726</td>\n",
       "      <td>19.75</td>\n",
       "    </tr>\n",
       "  </tbody>\n",
       "</table>\n",
       "</div>"
      ],
      "text/plain": [
       "    project number                                     descript_clean  \\\n",
       "36           81053  Small Craft Harbours (SCH) is undertaking main...   \n",
       "\n",
       "                                          descr_ready  flesch_re  flesch_kin  \\\n",
       "36  Small Craft Harbours (SCH) is undertaking main...    40.3925     17.5625   \n",
       "\n",
       "    dalechall    fog  \n",
       "36     12.726  19.75  "
      ]
     },
     "execution_count": 12,
     "metadata": {},
     "output_type": "execute_result"
    }
   ],
   "source": [
    "DFO_data[DFO_data.flesch_kin == DFO_data.flesch_kin.max()]"
   ]
  },
  {
   "cell_type": "code",
   "execution_count": 13,
   "metadata": {},
   "outputs": [
    {
     "name": "stdout",
     "output_type": "stream",
     "text": [
      "Small Craft Harbours (SCH) is undertaking maintenance dredging of the Port Simpson (Lax Kw'alaams) Small Craft Harbours site, located on the Tsmpsean Peninsula coast, approximately 35km north of Prince Rupert, British Columbia in the Skeena-Queen Charlotte Regional District.\n",
      "\n",
      "The proposed project involves will require a dredge cut of up to -3+5m Chart Datum (CD), resulting in removal of up to 6,800 m3 of material, to return the elevation of the mudline within the harbour entrance channel to the original design grade for safe navigation of fishing vessels.  A barge mounted clamshell or excavator, with scow will be loaded with dredge material and towed offsite to a disposal at sea site where it will be offloaded under a disposal at sea (DAS) permit.\n",
      "\n",
      "Environmental monitoring by a Qualified Environmental Professional (QEP) and a silt curtain will be employed during all in-water work which will occur during windows of least risk to fish as defined by Fisheries and Oceans Canada.\n"
     ]
    }
   ],
   "source": [
    "print(DFO_data.iloc[36, 2])"
   ]
  },
  {
   "cell_type": "markdown",
   "metadata": {},
   "source": [
    "What is the text with the min (best) FK grade level score?"
   ]
  },
  {
   "cell_type": "code",
   "execution_count": 14,
   "metadata": {},
   "outputs": [
    {
     "data": {
      "text/html": [
       "<div>\n",
       "<style scoped>\n",
       "    .dataframe tbody tr th:only-of-type {\n",
       "        vertical-align: middle;\n",
       "    }\n",
       "\n",
       "    .dataframe tbody tr th {\n",
       "        vertical-align: top;\n",
       "    }\n",
       "\n",
       "    .dataframe thead th {\n",
       "        text-align: right;\n",
       "    }\n",
       "</style>\n",
       "<table border=\"1\" class=\"dataframe\">\n",
       "  <thead>\n",
       "    <tr style=\"text-align: right;\">\n",
       "      <th></th>\n",
       "      <th>project number</th>\n",
       "      <th>descript_clean</th>\n",
       "      <th>descr_ready</th>\n",
       "      <th>flesch_re</th>\n",
       "      <th>flesch_kin</th>\n",
       "      <th>dalechall</th>\n",
       "      <th>fog</th>\n",
       "    </tr>\n",
       "  </thead>\n",
       "  <tbody>\n",
       "    <tr>\n",
       "      <th>46</th>\n",
       "      <td>80323</td>\n",
       "      <td>Cormorant Lake Harbour is located on the East ...</td>\n",
       "      <td>Cormorant Lake Harbour is located on the East ...</td>\n",
       "      <td>71.858419</td>\n",
       "      <td>7.987704</td>\n",
       "      <td>9.229218</td>\n",
       "      <td>10.002941</td>\n",
       "    </tr>\n",
       "  </tbody>\n",
       "</table>\n",
       "</div>"
      ],
      "text/plain": [
       "    project number                                     descript_clean  \\\n",
       "46           80323  Cormorant Lake Harbour is located on the East ...   \n",
       "\n",
       "                                          descr_ready  flesch_re  flesch_kin  \\\n",
       "46  Cormorant Lake Harbour is located on the East ...  71.858419    7.987704   \n",
       "\n",
       "    dalechall        fog  \n",
       "46   9.229218  10.002941  "
      ]
     },
     "execution_count": 14,
     "metadata": {},
     "output_type": "execute_result"
    }
   ],
   "source": [
    "DFO_data[DFO_data.flesch_kin == DFO_data.flesch_kin.min()]"
   ]
  },
  {
   "cell_type": "code",
   "execution_count": 15,
   "metadata": {},
   "outputs": [
    {
     "name": "stdout",
     "output_type": "stream",
     "text": [
      "Cormorant Lake Harbour is located on the East side of Cormorant Lake in Cormorant Manitoba. It is approximately 78km Northeast of The Pas, MB and is accessible via Provincial Road 287. The harbour is under the administration of Fisheries and Oceans Canada (DFO), Small Craft Harbours Branch (SCH).\r\n",
      "\r\n",
      "Small Craft Harbours is proposing to cut exiting steel piles to the lake bottom. The scope of the project includes cutting of three existing steel piles that are currently submerged underwater and disposing of them off site. Small Craft Harbours requires that the piles are removed to allow for vessels to have safe access to the harbour. The proposed work will be done in winter of 2019/2020 from the ice. SCH is proposing for a team of underwater divers to cut the steel piles off at lake bottom, pull the excess of the steel piles from the water and have them disposed of off site.\n"
     ]
    }
   ],
   "source": [
    "print(DFO_data.iloc[46, 2])"
   ]
  },
  {
   "cell_type": "markdown",
   "metadata": {},
   "source": [
    "Note that the Flesch RE and the Flesch Kincaid scores are not in agreement about the most and least readable texts."
   ]
  },
  {
   "cell_type": "markdown",
   "metadata": {},
   "source": [
    "### Dale-Chall scores"
   ]
  },
  {
   "cell_type": "code",
   "execution_count": 16,
   "metadata": {},
   "outputs": [
    {
     "data": {
      "text/plain": [
       "count    47.000000\n",
       "mean     10.980001\n",
       "std       1.021423\n",
       "min       8.893699\n",
       "25%      10.140271\n",
       "50%      11.161244\n",
       "75%      11.694977\n",
       "max      12.726000\n",
       "Name: dalechall, dtype: float64"
      ]
     },
     "execution_count": 16,
     "metadata": {},
     "output_type": "execute_result"
    }
   ],
   "source": [
    "DFO_data[\"dalechall\"].describe()"
   ]
  },
  {
   "cell_type": "code",
   "execution_count": 17,
   "metadata": {},
   "outputs": [
    {
     "data": {
      "text/html": [
       "<div>\n",
       "<style scoped>\n",
       "    .dataframe tbody tr th:only-of-type {\n",
       "        vertical-align: middle;\n",
       "    }\n",
       "\n",
       "    .dataframe tbody tr th {\n",
       "        vertical-align: top;\n",
       "    }\n",
       "\n",
       "    .dataframe thead th {\n",
       "        text-align: right;\n",
       "    }\n",
       "</style>\n",
       "<table border=\"1\" class=\"dataframe\">\n",
       "  <thead>\n",
       "    <tr style=\"text-align: right;\">\n",
       "      <th></th>\n",
       "      <th>project number</th>\n",
       "      <th>descript_clean</th>\n",
       "      <th>descr_ready</th>\n",
       "      <th>flesch_re</th>\n",
       "      <th>flesch_kin</th>\n",
       "      <th>dalechall</th>\n",
       "      <th>fog</th>\n",
       "    </tr>\n",
       "  </thead>\n",
       "  <tbody>\n",
       "    <tr>\n",
       "      <th>38</th>\n",
       "      <td>81216</td>\n",
       "      <td>Fisheries and Oceans Canada owns and operates ...</td>\n",
       "      <td>Fisheries and Oceans Canada owns and operates ...</td>\n",
       "      <td>65.900793</td>\n",
       "      <td>9.685782</td>\n",
       "      <td>8.893699</td>\n",
       "      <td>12.039351</td>\n",
       "    </tr>\n",
       "  </tbody>\n",
       "</table>\n",
       "</div>"
      ],
      "text/plain": [
       "    project number                                     descript_clean  \\\n",
       "38           81216  Fisheries and Oceans Canada owns and operates ...   \n",
       "\n",
       "                                          descr_ready  flesch_re  flesch_kin  \\\n",
       "38  Fisheries and Oceans Canada owns and operates ...  65.900793    9.685782   \n",
       "\n",
       "    dalechall        fog  \n",
       "38   8.893699  12.039351  "
      ]
     },
     "execution_count": 17,
     "metadata": {},
     "output_type": "execute_result"
    }
   ],
   "source": [
    "DFO_data[DFO_data.dalechall == DFO_data.dalechall.min()]"
   ]
  },
  {
   "cell_type": "code",
   "execution_count": 18,
   "metadata": {},
   "outputs": [
    {
     "data": {
      "text/html": [
       "<div>\n",
       "<style scoped>\n",
       "    .dataframe tbody tr th:only-of-type {\n",
       "        vertical-align: middle;\n",
       "    }\n",
       "\n",
       "    .dataframe tbody tr th {\n",
       "        vertical-align: top;\n",
       "    }\n",
       "\n",
       "    .dataframe thead th {\n",
       "        text-align: right;\n",
       "    }\n",
       "</style>\n",
       "<table border=\"1\" class=\"dataframe\">\n",
       "  <thead>\n",
       "    <tr style=\"text-align: right;\">\n",
       "      <th></th>\n",
       "      <th>project number</th>\n",
       "      <th>descript_clean</th>\n",
       "      <th>descr_ready</th>\n",
       "      <th>flesch_re</th>\n",
       "      <th>flesch_kin</th>\n",
       "      <th>dalechall</th>\n",
       "      <th>fog</th>\n",
       "    </tr>\n",
       "  </thead>\n",
       "  <tbody>\n",
       "    <tr>\n",
       "      <th>36</th>\n",
       "      <td>81053</td>\n",
       "      <td>Small Craft Harbours (SCH) is undertaking main...</td>\n",
       "      <td>Small Craft Harbours (SCH) is undertaking main...</td>\n",
       "      <td>40.3925</td>\n",
       "      <td>17.5625</td>\n",
       "      <td>12.726</td>\n",
       "      <td>19.75</td>\n",
       "    </tr>\n",
       "  </tbody>\n",
       "</table>\n",
       "</div>"
      ],
      "text/plain": [
       "    project number                                     descript_clean  \\\n",
       "36           81053  Small Craft Harbours (SCH) is undertaking main...   \n",
       "\n",
       "                                          descr_ready  flesch_re  flesch_kin  \\\n",
       "36  Small Craft Harbours (SCH) is undertaking main...    40.3925     17.5625   \n",
       "\n",
       "    dalechall    fog  \n",
       "36     12.726  19.75  "
      ]
     },
     "execution_count": 18,
     "metadata": {},
     "output_type": "execute_result"
    }
   ],
   "source": [
    "DFO_data[DFO_data.dalechall == DFO_data.dalechall.max()]"
   ]
  },
  {
   "cell_type": "markdown",
   "metadata": {},
   "source": [
    "The Dale-Chall and Flesch Kincaid agree that the least readable text is 81053 (Small Craft Harbours...)\n",
    "\n",
    "The most readable is different from above."
   ]
  },
  {
   "cell_type": "code",
   "execution_count": 19,
   "metadata": {},
   "outputs": [
    {
     "name": "stdout",
     "output_type": "stream",
     "text": [
      "Fisheries and Oceans Canada owns and operates a Canadian Coast Guard Search and Rescue Station on land known as the Port Dover Recreational Harbour in Port Dover, Ontario. This land is leased by Fisheries and Oceans Canada long-term from the Corporation of Norfolk County. Municipal address of the site is 55 Passmore Avenue, Port Dover, Ontario. Approximate GPS coordinates are 42°46'54+59\" North, 80°11'41+17\" West. A floating dock structure, measuring 13+69 metres in length with a width of 1+84 metres, is installed adjacent to the property into Lake Erie. This dock is used by the Canadian Coast Guard to provide a place to berth their rigid inflatable boat used in marine search and rescue operations. Constructed in two halves, the floating dock structure consists of wood deck planks fastened to galvanized steel support members supported by two floating galvanized pontoons. The floating dock is secured in the water by driven steel piles at the east and west ends of the floating dock.\r\n",
      "\r\n",
      "The floating dock is in good condition. However, the west end of the floating dock can only rise to the top of the piling where it becomes pinned during periods of high water levels on Lake Erie.\r\n",
      "\r\n",
      "To restore movement of the floating dock to an unrestricted state, Fisheries and Oceans Canada, Real Property Ontario and Prairie Region, Engineering and Technical Support is proposing to drive two new 200mm diameter steel piles on the north side of the floating dock and install two new brackets that would allow unrestricted movement of the floating dock with high water levels. After driving the piling, they will be filled with concrete and painted. The existing east pile connection will remain as is, but the west pile connection will be removed as part of this work.\n"
     ]
    }
   ],
   "source": [
    "print(DFO_data.iloc[38, 2]) #most readable according to Dale-Chall"
   ]
  },
  {
   "cell_type": "markdown",
   "metadata": {},
   "source": [
    "### Fog scores"
   ]
  },
  {
   "cell_type": "code",
   "execution_count": 20,
   "metadata": {},
   "outputs": [
    {
     "data": {
      "text/plain": [
       "count    47.000000\n",
       "mean     14.329367\n",
       "std       2.650604\n",
       "min      10.002941\n",
       "25%      12.106342\n",
       "50%      14.266667\n",
       "75%      16.400000\n",
       "max      20.687663\n",
       "Name: fog, dtype: float64"
      ]
     },
     "execution_count": 20,
     "metadata": {},
     "output_type": "execute_result"
    }
   ],
   "source": [
    "DFO_data[\"fog\"].describe()"
   ]
  },
  {
   "cell_type": "code",
   "execution_count": 21,
   "metadata": {},
   "outputs": [
    {
     "data": {
      "text/html": [
       "<div>\n",
       "<style scoped>\n",
       "    .dataframe tbody tr th:only-of-type {\n",
       "        vertical-align: middle;\n",
       "    }\n",
       "\n",
       "    .dataframe tbody tr th {\n",
       "        vertical-align: top;\n",
       "    }\n",
       "\n",
       "    .dataframe thead th {\n",
       "        text-align: right;\n",
       "    }\n",
       "</style>\n",
       "<table border=\"1\" class=\"dataframe\">\n",
       "  <thead>\n",
       "    <tr style=\"text-align: right;\">\n",
       "      <th></th>\n",
       "      <th>project number</th>\n",
       "      <th>descript_clean</th>\n",
       "      <th>descr_ready</th>\n",
       "      <th>flesch_re</th>\n",
       "      <th>flesch_kin</th>\n",
       "      <th>dalechall</th>\n",
       "      <th>fog</th>\n",
       "    </tr>\n",
       "  </thead>\n",
       "  <tbody>\n",
       "    <tr>\n",
       "      <th>46</th>\n",
       "      <td>80323</td>\n",
       "      <td>Cormorant Lake Harbour is located on the East ...</td>\n",
       "      <td>Cormorant Lake Harbour is located on the East ...</td>\n",
       "      <td>71.858419</td>\n",
       "      <td>7.987704</td>\n",
       "      <td>9.229218</td>\n",
       "      <td>10.002941</td>\n",
       "    </tr>\n",
       "  </tbody>\n",
       "</table>\n",
       "</div>"
      ],
      "text/plain": [
       "    project number                                     descript_clean  \\\n",
       "46           80323  Cormorant Lake Harbour is located on the East ...   \n",
       "\n",
       "                                          descr_ready  flesch_re  flesch_kin  \\\n",
       "46  Cormorant Lake Harbour is located on the East ...  71.858419    7.987704   \n",
       "\n",
       "    dalechall        fog  \n",
       "46   9.229218  10.002941  "
      ]
     },
     "execution_count": 21,
     "metadata": {},
     "output_type": "execute_result"
    }
   ],
   "source": [
    "DFO_data[DFO_data.fog == DFO_data.fog.min()] # most readable"
   ]
  },
  {
   "cell_type": "code",
   "execution_count": 22,
   "metadata": {},
   "outputs": [
    {
     "data": {
      "text/html": [
       "<div>\n",
       "<style scoped>\n",
       "    .dataframe tbody tr th:only-of-type {\n",
       "        vertical-align: middle;\n",
       "    }\n",
       "\n",
       "    .dataframe tbody tr th {\n",
       "        vertical-align: top;\n",
       "    }\n",
       "\n",
       "    .dataframe thead th {\n",
       "        text-align: right;\n",
       "    }\n",
       "</style>\n",
       "<table border=\"1\" class=\"dataframe\">\n",
       "  <thead>\n",
       "    <tr style=\"text-align: right;\">\n",
       "      <th></th>\n",
       "      <th>project number</th>\n",
       "      <th>descript_clean</th>\n",
       "      <th>descr_ready</th>\n",
       "      <th>flesch_re</th>\n",
       "      <th>flesch_kin</th>\n",
       "      <th>dalechall</th>\n",
       "      <th>fog</th>\n",
       "    </tr>\n",
       "  </thead>\n",
       "  <tbody>\n",
       "    <tr>\n",
       "      <th>22</th>\n",
       "      <td>81254</td>\n",
       "      <td>The Real Property, Safety and Security Branch ...</td>\n",
       "      <td>The Real Property, Safety and Security Branch ...</td>\n",
       "      <td>29.471422</td>\n",
       "      <td>17.251226</td>\n",
       "      <td>11.696841</td>\n",
       "      <td>20.687663</td>\n",
       "    </tr>\n",
       "  </tbody>\n",
       "</table>\n",
       "</div>"
      ],
      "text/plain": [
       "    project number                                     descript_clean  \\\n",
       "22           81254  The Real Property, Safety and Security Branch ...   \n",
       "\n",
       "                                          descr_ready  flesch_re  flesch_kin  \\\n",
       "22  The Real Property, Safety and Security Branch ...  29.471422   17.251226   \n",
       "\n",
       "    dalechall        fog  \n",
       "22  11.696841  20.687663  "
      ]
     },
     "execution_count": 22,
     "metadata": {},
     "output_type": "execute_result"
    }
   ],
   "source": [
    "DFO_data[DFO_data.fog == DFO_data.fog.max()] # least readable"
   ]
  },
  {
   "cell_type": "markdown",
   "metadata": {},
   "source": [
    "The Fog index agrees with Flesch-Kincaid that 80323 (Cormorant Lake Harbour...) is most readable.  \n",
    "The Fog index agrees with Flesch reading ease that 81254 (Real Property...) is least readable.\n"
   ]
  },
  {
   "cell_type": "markdown",
   "metadata": {},
   "source": [
    "### Step 4: Graph the results"
   ]
  },
  {
   "cell_type": "code",
   "execution_count": 63,
   "metadata": {},
   "outputs": [
    {
     "data": {
      "image/png": "[encoded data removed]",
      "text/plain": [
       "<Figure size 504x504 with 4 Axes>"
      ]
     },
     "metadata": {},
     "output_type": "display_data"
    }
   ],
   "source": [
    "sns.set(style=\"darkgrid\")\n",
    "\n",
    "\n",
    "fig, axs = plt.subplots(2, 2, figsize=(7, 7), sharey=True)\n",
    "\n",
    "\n",
    "sns.histplot(data=DFO_data, x=\"flesch_kin\", kde=True, color=\"skyblue\", \n",
    "             ax=axs[0, 0]).set(xlabel=\"Flesch Kincaid\")\n",
    "sns.histplot(data=DFO_data, x=\"dalechall\", kde=True, color=\"olive\", \n",
    "             ax=axs[0, 1]).set(xlabel = \"Dale Chall\")\n",
    "sns.histplot(data=DFO_data, x=\"fog\", kde=True, color=\"gold\", \n",
    "             ax=axs[1, 0]).set(xlabel = \"Gunning Fog\")\n",
    "sns.histplot(data=DFO_data, x=\"flesch_re\", kde=True, color=\"teal\", \n",
    "             ax=axs[1, 1]).set(xlabel = \"Flesch Reading Ease\")\n",
    "\n",
    "\n",
    "fig.tight_layout(pad = 2, rect=[0, 0.03, 1, 0.95]) # add space between subplot rows and main title\n",
    "\n",
    "for ax in axs: # make the y axis the same for all subplots\n",
    "    plt.setp(ax, ylim=(0,15))\n",
    "\n",
    "axs[0,0].set_xlim(5,18)  # flesch-kincaid x-axis\n",
    "axs[1,0].set_xlim(5, 22) # gunning fog x-axis\n",
    "axs[0,1].set_xlim(5, 14) # dale chall\n",
    "axs[1,1].set_xlim(20, 100) # flesch reading ease\n",
    "    \n",
    "fig.suptitle(\"Fisheries and Oceans Canada\")\n",
    "plt.show()"
   ]
  },
  {
   "cell_type": "markdown",
   "metadata": {},
   "source": [
    "### Step 5 : Save the results"
   ]
  },
  {
   "cell_type": "code",
   "execution_count": 64,
   "metadata": {},
   "outputs": [],
   "source": [
    "#DFO_data.to_excel(\"data/processed/DFO_scores.xlsx\", index = False)"
   ]
  },
  {
   "cell_type": "code",
   "execution_count": null,
   "metadata": {},
   "outputs": [],
   "source": []
  }
 ],
 "metadata": {
  "kernelspec": {
   "display_name": "Python 3",
   "language": "python",
   "name": "python3"
  },
  "language_info": {
   "codemirror_mode": {
    "name": "ipython",
    "version": 3
   },
   "file_extension": ".py",
   "mimetype": "text/x-python",
   "name": "python",
   "nbconvert_exporter": "python",
   "pygments_lexer": "ipython3",
   "version": "3.8.5"
  }
 },
 "nbformat": 4,
 "nbformat_minor": 4
}
