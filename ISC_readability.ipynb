{
 "cells": [
  {
   "cell_type": "markdown",
   "metadata": {},
   "source": [
    "## Readability of Indigenous Services Canada project descriptions\n",
    "\n",
    "### Step 1: Prepare and clean project descriptions for analysis\n",
    "\n",
    "Load libraries and dataset. \n",
    "Clean the project descriptions with Textatistic's tool punct_clean. The data has already been manually reviewed and updated to eliminate bullet points and non-sentence ending full stops."
   ]
  },
  {
   "cell_type": "code",
   "execution_count": 1,
   "metadata": {},
   "outputs": [],
   "source": [
    "import pandas as pd\n",
    "\n",
    "#readability library\n",
    "import textatistic\n",
    "from textatistic import Textatistic\n",
    "\n",
    "#graph libraries\n",
    "import seaborn as sns\n",
    "import matplotlib as mpl\n",
    "from matplotlib import pyplot as plt"
   ]
  },
  {
   "cell_type": "code",
   "execution_count": 3,
   "metadata": {},
   "outputs": [
    {
     "data": {
      "text/html": [
       "<div>\n",
       "<style scoped>\n",
       "    .dataframe tbody tr th:only-of-type {\n",
       "        vertical-align: middle;\n",
       "    }\n",
       "\n",
       "    .dataframe tbody tr th {\n",
       "        vertical-align: top;\n",
       "    }\n",
       "\n",
       "    .dataframe thead th {\n",
       "        text-align: right;\n",
       "    }\n",
       "</style>\n",
       "<table border=\"1\" class=\"dataframe\">\n",
       "  <thead>\n",
       "    <tr style=\"text-align: right;\">\n",
       "      <th></th>\n",
       "      <th>Unnamed: 0</th>\n",
       "      <th>project number</th>\n",
       "      <th>project_name_en</th>\n",
       "      <th>project_name_fr</th>\n",
       "      <th>RA_ID</th>\n",
       "      <th>description_en</th>\n",
       "      <th>description_fr</th>\n",
       "      <th>status_en</th>\n",
       "      <th>created_at</th>\n",
       "      <th>eaStartDate</th>\n",
       "      <th>responsible_authorities_en</th>\n",
       "      <th>responsible_authorities_fr</th>\n",
       "      <th>wordcount</th>\n",
       "      <th>descript_clean</th>\n",
       "    </tr>\n",
       "  </thead>\n",
       "  <tbody>\n",
       "    <tr>\n",
       "      <th>0</th>\n",
       "      <td>348</td>\n",
       "      <td>80868</td>\n",
       "      <td>Pipeline Riser on Sunchild IR 202</td>\n",
       "      <td>Riser de pipeline sur Réserve indienne Sunchil...</td>\n",
       "      <td>ISC</td>\n",
       "      <td>The proposed pipeline riser is associated with...</td>\n",
       "      <td>La colonne montante propose est associ&amp;eacute;...</td>\n",
       "      <td>Completed</td>\n",
       "      <td>2020-08-11 14:46:41.720</td>\n",
       "      <td>2020-07-25</td>\n",
       "      <td>Indigenous Services Canada</td>\n",
       "      <td>Services aux Autochtones Canada</td>\n",
       "      <td>129</td>\n",
       "      <td>The proposed pipeline riser is associated with...</td>\n",
       "    </tr>\n",
       "    <tr>\n",
       "      <th>1</th>\n",
       "      <td>152</td>\n",
       "      <td>81467</td>\n",
       "      <td>Muskoday Convenience Store Remediation</td>\n",
       "      <td>Assainissement du dépanneur Muskoday</td>\n",
       "      <td>ISC</td>\n",
       "      <td>&amp;nbsp;The Proposed Project\\r\\n\\r\\nAn environme...</td>\n",
       "      <td>Le projet propos&amp;eacute;\\r\\n\\r\\n\\r\\nUn consult...</td>\n",
       "      <td>Completed</td>\n",
       "      <td>2021-03-22 16:35:13.957</td>\n",
       "      <td>2021-05-01</td>\n",
       "      <td>Indigenous Services Canada</td>\n",
       "      <td>Services aux Autochtones Canada</td>\n",
       "      <td>159</td>\n",
       "      <td>\\n\\nAn environmental consultant has identified...</td>\n",
       "    </tr>\n",
       "    <tr>\n",
       "      <th>2</th>\n",
       "      <td>547</td>\n",
       "      <td>80223</td>\n",
       "      <td>Basadinaa - Crooked Lake Cottage Lots</td>\n",
       "      <td>Basadinaa - Lots de chalets du lac Crooked</td>\n",
       "      <td>ISC</td>\n",
       "      <td>The project area is comprised of the Designate...</td>\n",
       "      <td>La zone du projet comprend la zone des chalets...</td>\n",
       "      <td>Completed</td>\n",
       "      <td>2019-09-30 09:58:11.057</td>\n",
       "      <td>2019-09-30</td>\n",
       "      <td>Indigenous Services Canada</td>\n",
       "      <td>Services aux Autochtones Canada</td>\n",
       "      <td>151</td>\n",
       "      <td>The project area is comprised of the Designate...</td>\n",
       "    </tr>\n",
       "  </tbody>\n",
       "</table>\n",
       "</div>"
      ],
      "text/plain": [
       "   Unnamed: 0  project number                         project_name_en  \\\n",
       "0         348           80868       Pipeline Riser on Sunchild IR 202   \n",
       "1         152           81467  Muskoday Convenience Store Remediation   \n",
       "2         547           80223   Basadinaa - Crooked Lake Cottage Lots   \n",
       "\n",
       "                                     project_name_fr RA_ID  \\\n",
       "0  Riser de pipeline sur Réserve indienne Sunchil...   ISC   \n",
       "1               Assainissement du dépanneur Muskoday   ISC   \n",
       "2         Basadinaa - Lots de chalets du lac Crooked   ISC   \n",
       "\n",
       "                                      description_en  \\\n",
       "0  The proposed pipeline riser is associated with...   \n",
       "1  &nbsp;The Proposed Project\\r\\n\\r\\nAn environme...   \n",
       "2  The project area is comprised of the Designate...   \n",
       "\n",
       "                                      description_fr  status_en  \\\n",
       "0  La colonne montante propose est associ&eacute;...  Completed   \n",
       "1  Le projet propos&eacute;\\r\\n\\r\\n\\r\\nUn consult...  Completed   \n",
       "2  La zone du projet comprend la zone des chalets...  Completed   \n",
       "\n",
       "               created_at eaStartDate  responsible_authorities_en  \\\n",
       "0 2020-08-11 14:46:41.720  2020-07-25  Indigenous Services Canada   \n",
       "1 2021-03-22 16:35:13.957  2021-05-01  Indigenous Services Canada   \n",
       "2 2019-09-30 09:58:11.057  2019-09-30  Indigenous Services Canada   \n",
       "\n",
       "        responsible_authorities_fr  wordcount  \\\n",
       "0  Services aux Autochtones Canada        129   \n",
       "1  Services aux Autochtones Canada        159   \n",
       "2  Services aux Autochtones Canada        151   \n",
       "\n",
       "                                      descript_clean  \n",
       "0  The proposed pipeline riser is associated with...  \n",
       "1  \\n\\nAn environmental consultant has identified...  \n",
       "2  The project area is comprised of the Designate...  "
      ]
     },
     "execution_count": 3,
     "metadata": {},
     "output_type": "execute_result"
    }
   ],
   "source": [
    "ISC = pd.read_excel(\"data/processed/ISC_50select_clean.xlsx\")\n",
    "ISC.head(3)"
   ]
  },
  {
   "cell_type": "code",
   "execution_count": 4,
   "metadata": {},
   "outputs": [],
   "source": [
    "# reduce the table\n",
    "\n",
    "ISC_data = ISC[[\"project number\", \"descript_clean\"]].copy()"
   ]
  },
  {
   "cell_type": "code",
   "execution_count": 5,
   "metadata": {},
   "outputs": [],
   "source": [
    "#clean the project description text and create a new column with the ready-to-analyse text\n",
    "ISC_data[\"descr_ready\"] = ISC_data[\"descript_clean\"].apply(textatistic.punct_clean)"
   ]
  },
  {
   "cell_type": "markdown",
   "metadata": {},
   "source": [
    "### Step 2: Readability scores\n",
    "\n",
    "Calculate the scores and send to new columns."
   ]
  },
  {
   "cell_type": "code",
   "execution_count": 6,
   "metadata": {},
   "outputs": [
    {
     "data": {
      "text/html": [
       "<div>\n",
       "<style scoped>\n",
       "    .dataframe tbody tr th:only-of-type {\n",
       "        vertical-align: middle;\n",
       "    }\n",
       "\n",
       "    .dataframe tbody tr th {\n",
       "        vertical-align: top;\n",
       "    }\n",
       "\n",
       "    .dataframe thead th {\n",
       "        text-align: right;\n",
       "    }\n",
       "</style>\n",
       "<table border=\"1\" class=\"dataframe\">\n",
       "  <thead>\n",
       "    <tr style=\"text-align: right;\">\n",
       "      <th></th>\n",
       "      <th>project number</th>\n",
       "      <th>descript_clean</th>\n",
       "      <th>descr_ready</th>\n",
       "      <th>flesch_re</th>\n",
       "      <th>flesch_kin</th>\n",
       "      <th>dalechall</th>\n",
       "      <th>fog</th>\n",
       "    </tr>\n",
       "  </thead>\n",
       "  <tbody>\n",
       "    <tr>\n",
       "      <th>0</th>\n",
       "      <td>80868</td>\n",
       "      <td>The proposed pipeline riser is associated with...</td>\n",
       "      <td>The proposed pipeline riser is associated with...</td>\n",
       "      <td>51.247452</td>\n",
       "      <td>11.866583</td>\n",
       "      <td>11.260603</td>\n",
       "      <td>14.446523</td>\n",
       "    </tr>\n",
       "    <tr>\n",
       "      <th>1</th>\n",
       "      <td>81467</td>\n",
       "      <td>\\n\\nAn environmental consultant has identified...</td>\n",
       "      <td>\\n\\nAn environmental consultant has identified...</td>\n",
       "      <td>48.534536</td>\n",
       "      <td>11.303024</td>\n",
       "      <td>10.811629</td>\n",
       "      <td>14.459677</td>\n",
       "    </tr>\n",
       "    <tr>\n",
       "      <th>2</th>\n",
       "      <td>80223</td>\n",
       "      <td>The project area is comprised of the Designate...</td>\n",
       "      <td>The project area is comprised of the Designate...</td>\n",
       "      <td>31.875714</td>\n",
       "      <td>15.769286</td>\n",
       "      <td>13.484229</td>\n",
       "      <td>18.342857</td>\n",
       "    </tr>\n",
       "    <tr>\n",
       "      <th>3</th>\n",
       "      <td>81206</td>\n",
       "      <td>Construction of a new solid waste transfer sta...</td>\n",
       "      <td>Construction of a new solid waste transfer sta...</td>\n",
       "      <td>70.599712</td>\n",
       "      <td>7.449038</td>\n",
       "      <td>9.867782</td>\n",
       "      <td>11.423077</td>\n",
       "    </tr>\n",
       "    <tr>\n",
       "      <th>4</th>\n",
       "      <td>80796</td>\n",
       "      <td>The Water Treatment Plant (WTP) in Garden Vill...</td>\n",
       "      <td>The Water Treatment Plant (WTP) in Garden Vill...</td>\n",
       "      <td>53.420093</td>\n",
       "      <td>12.217736</td>\n",
       "      <td>10.057110</td>\n",
       "      <td>14.040930</td>\n",
       "    </tr>\n",
       "  </tbody>\n",
       "</table>\n",
       "</div>"
      ],
      "text/plain": [
       "   project number                                     descript_clean  \\\n",
       "0           80868  The proposed pipeline riser is associated with...   \n",
       "1           81467  \\n\\nAn environmental consultant has identified...   \n",
       "2           80223  The project area is comprised of the Designate...   \n",
       "3           81206  Construction of a new solid waste transfer sta...   \n",
       "4           80796  The Water Treatment Plant (WTP) in Garden Vill...   \n",
       "\n",
       "                                         descr_ready  flesch_re  flesch_kin  \\\n",
       "0  The proposed pipeline riser is associated with...  51.247452   11.866583   \n",
       "1  \\n\\nAn environmental consultant has identified...  48.534536   11.303024   \n",
       "2  The project area is comprised of the Designate...  31.875714   15.769286   \n",
       "3  Construction of a new solid waste transfer sta...  70.599712    7.449038   \n",
       "4  The Water Treatment Plant (WTP) in Garden Vill...  53.420093   12.217736   \n",
       "\n",
       "   dalechall        fog  \n",
       "0  11.260603  14.446523  \n",
       "1  10.811629  14.459677  \n",
       "2  13.484229  18.342857  \n",
       "3   9.867782  11.423077  \n",
       "4  10.057110  14.040930  "
      ]
     },
     "execution_count": 6,
     "metadata": {},
     "output_type": "execute_result"
    }
   ],
   "source": [
    "ISC_data[\"flesch_re\"] = ISC_data[\"descr_ready\"].apply(textatistic.flesch_score)\n",
    "ISC_data[\"flesch_kin\"] = ISC_data[\"descr_ready\"].apply(textatistic.fleschkincaid_score)\n",
    "ISC_data[\"dalechall\"] = ISC_data[\"descr_ready\"].apply(textatistic.dalechall_score)\n",
    "ISC_data[\"fog\"] = ISC_data[\"descr_ready\"].apply(textatistic.gunningfog_score)\n",
    "ISC_data.head()"
   ]
  },
  {
   "cell_type": "markdown",
   "metadata": {},
   "source": [
    "### Step 3: Analyse the results\n",
    "\n",
    "Start with basic descriptive statistics.\n",
    "\n",
    "### Flesch reading ease\n",
    "\n",
    "In Flesch reading ease, a score between 60 and 70 is considered \"plain English,\" according to R. Flesch."
   ]
  },
  {
   "cell_type": "code",
   "execution_count": 7,
   "metadata": {},
   "outputs": [
    {
     "data": {
      "text/plain": [
       "count    43.000000\n",
       "mean     55.546068\n",
       "std      10.957013\n",
       "min      31.875714\n",
       "25%      49.592361\n",
       "50%      55.819354\n",
       "75%      62.394625\n",
       "max      78.488716\n",
       "Name: flesch_re, dtype: float64"
      ]
     },
     "execution_count": 7,
     "metadata": {},
     "output_type": "execute_result"
    }
   ],
   "source": [
    "ISC_data[\"flesch_re\"].describe()"
   ]
  },
  {
   "cell_type": "markdown",
   "metadata": {},
   "source": [
    "What is the most readable text (max score)?"
   ]
  },
  {
   "cell_type": "code",
   "execution_count": 8,
   "metadata": {},
   "outputs": [
    {
     "data": {
      "text/html": [
       "<div>\n",
       "<style scoped>\n",
       "    .dataframe tbody tr th:only-of-type {\n",
       "        vertical-align: middle;\n",
       "    }\n",
       "\n",
       "    .dataframe tbody tr th {\n",
       "        vertical-align: top;\n",
       "    }\n",
       "\n",
       "    .dataframe thead th {\n",
       "        text-align: right;\n",
       "    }\n",
       "</style>\n",
       "<table border=\"1\" class=\"dataframe\">\n",
       "  <thead>\n",
       "    <tr style=\"text-align: right;\">\n",
       "      <th></th>\n",
       "      <th>project number</th>\n",
       "      <th>descript_clean</th>\n",
       "      <th>descr_ready</th>\n",
       "      <th>flesch_re</th>\n",
       "      <th>flesch_kin</th>\n",
       "      <th>dalechall</th>\n",
       "      <th>fog</th>\n",
       "    </tr>\n",
       "  </thead>\n",
       "  <tbody>\n",
       "    <tr>\n",
       "      <th>5</th>\n",
       "      <td>81079</td>\n",
       "      <td>\\n\\nDesign and construct a new water treatment...</td>\n",
       "      <td>\\n\\nDesign and construct a new water treatment...</td>\n",
       "      <td>78.488716</td>\n",
       "      <td>6.180105</td>\n",
       "      <td>9.623889</td>\n",
       "      <td>7.696461</td>\n",
       "    </tr>\n",
       "  </tbody>\n",
       "</table>\n",
       "</div>"
      ],
      "text/plain": [
       "   project number                                     descript_clean  \\\n",
       "5           81079  \\n\\nDesign and construct a new water treatment...   \n",
       "\n",
       "                                         descr_ready  flesch_re  flesch_kin  \\\n",
       "5  \\n\\nDesign and construct a new water treatment...  78.488716    6.180105   \n",
       "\n",
       "   dalechall       fog  \n",
       "5   9.623889  7.696461  "
      ]
     },
     "execution_count": 8,
     "metadata": {},
     "output_type": "execute_result"
    }
   ],
   "source": [
    "ISC_data[ISC_data.flesch_re == ISC_data.flesch_re.max()] # most readable"
   ]
  },
  {
   "cell_type": "code",
   "execution_count": 11,
   "metadata": {},
   "outputs": [
    {
     "name": "stdout",
     "output_type": "stream",
     "text": [
      "\n",
      "\n",
      "Design and construct a new water treatment plant for Star Blanket First Nation to be located on S10 TP23 R11 W2M. The new plant will include concrete reservoir with a capacity of 420,000 liters, one new well with pump and raw water supply line, bio-filter pre-treatment, membrane final treatment and distribution pumping. The plant will provide 2.0 lps of treated water. The buiding size is approximately 500 m2. The new building is located just north west of the old water plant in the main core area. New three phase power line approximately 5.2 km in length. The life span is expected to be 50 to 100 years.\n"
     ]
    }
   ],
   "source": [
    "print(ISC_data.iloc[5,1])"
   ]
  },
  {
   "cell_type": "markdown",
   "metadata": {},
   "source": [
    "The \"most readable\" text suggests to me that Flesch RE rewards brevity, even if the brevity impairs communication. \n",
    "This will support my recommendation that Parks instruct writers to above all consider the reader when they're preparing these briefs.  \n",
    "\n",
    "What is the least readable (min score)?"
   ]
  },
  {
   "cell_type": "code",
   "execution_count": 12,
   "metadata": {},
   "outputs": [
    {
     "data": {
      "text/html": [
       "<div>\n",
       "<style scoped>\n",
       "    .dataframe tbody tr th:only-of-type {\n",
       "        vertical-align: middle;\n",
       "    }\n",
       "\n",
       "    .dataframe tbody tr th {\n",
       "        vertical-align: top;\n",
       "    }\n",
       "\n",
       "    .dataframe thead th {\n",
       "        text-align: right;\n",
       "    }\n",
       "</style>\n",
       "<table border=\"1\" class=\"dataframe\">\n",
       "  <thead>\n",
       "    <tr style=\"text-align: right;\">\n",
       "      <th></th>\n",
       "      <th>project number</th>\n",
       "      <th>descript_clean</th>\n",
       "      <th>descr_ready</th>\n",
       "      <th>flesch_re</th>\n",
       "      <th>flesch_kin</th>\n",
       "      <th>dalechall</th>\n",
       "      <th>fog</th>\n",
       "    </tr>\n",
       "  </thead>\n",
       "  <tbody>\n",
       "    <tr>\n",
       "      <th>2</th>\n",
       "      <td>80223</td>\n",
       "      <td>The project area is comprised of the Designate...</td>\n",
       "      <td>The project area is comprised of the Designate...</td>\n",
       "      <td>31.875714</td>\n",
       "      <td>15.769286</td>\n",
       "      <td>13.484229</td>\n",
       "      <td>18.342857</td>\n",
       "    </tr>\n",
       "  </tbody>\n",
       "</table>\n",
       "</div>"
      ],
      "text/plain": [
       "   project number                                     descript_clean  \\\n",
       "2           80223  The project area is comprised of the Designate...   \n",
       "\n",
       "                                         descr_ready  flesch_re  flesch_kin  \\\n",
       "2  The project area is comprised of the Designate...  31.875714   15.769286   \n",
       "\n",
       "   dalechall        fog  \n",
       "2  13.484229  18.342857  "
      ]
     },
     "execution_count": 12,
     "metadata": {},
     "output_type": "execute_result"
    }
   ],
   "source": [
    "ISC_data[ISC_data.flesch_re == ISC_data.flesch_re.min()] # least readable"
   ]
  },
  {
   "cell_type": "code",
   "execution_count": 13,
   "metadata": {},
   "outputs": [
    {
     "name": "stdout",
     "output_type": "stream",
     "text": [
      "The project area is comprised of the Designated Cottage Area within Shesheep IR 74A and Sakimay IR 74. The area is not a new development, but the renewal of leases on a previously developed cottage lot area. The scope of the project includes the continued construction (as applicable), operation and maintenance of a cottage and/or other dwellings (i.e. mobile home, camper trailer), on a cottage lot (residential/recreational lease) situated on Sakimay First Nation Reserve lands (the project). The environmental assessment framework was designed to satisfy Zagime's environmental management responsibilities under the Delegated Authority level of the Reserve Land and Environmental Management Program (RLEMP) and ISC's responsibilities under the Impact Assessment Act.\n",
      "\n",
      "\n"
     ]
    }
   ],
   "source": [
    "print(ISC_data.iloc[2, 1])"
   ]
  },
  {
   "cell_type": "markdown",
   "metadata": {},
   "source": [
    "These are long sentences and big, abstract, words."
   ]
  },
  {
   "cell_type": "markdown",
   "metadata": {},
   "source": [
    "### Flesch Kincaid grade level\n"
   ]
  },
  {
   "cell_type": "code",
   "execution_count": 14,
   "metadata": {},
   "outputs": [
    {
     "data": {
      "text/plain": [
       "count    43.000000\n",
       "mean     11.026097\n",
       "std       2.962106\n",
       "min       6.180105\n",
       "25%       9.156215\n",
       "50%      10.680610\n",
       "75%      12.101725\n",
       "max      19.282308\n",
       "Name: flesch_kin, dtype: float64"
      ]
     },
     "execution_count": 14,
     "metadata": {},
     "output_type": "execute_result"
    }
   ],
   "source": [
    "ISC_data[\"flesch_kin\"].describe()"
   ]
  },
  {
   "cell_type": "code",
   "execution_count": 15,
   "metadata": {},
   "outputs": [
    {
     "data": {
      "text/html": [
       "<div>\n",
       "<style scoped>\n",
       "    .dataframe tbody tr th:only-of-type {\n",
       "        vertical-align: middle;\n",
       "    }\n",
       "\n",
       "    .dataframe tbody tr th {\n",
       "        vertical-align: top;\n",
       "    }\n",
       "\n",
       "    .dataframe thead th {\n",
       "        text-align: right;\n",
       "    }\n",
       "</style>\n",
       "<table border=\"1\" class=\"dataframe\">\n",
       "  <thead>\n",
       "    <tr style=\"text-align: right;\">\n",
       "      <th></th>\n",
       "      <th>project number</th>\n",
       "      <th>descript_clean</th>\n",
       "      <th>descr_ready</th>\n",
       "      <th>flesch_re</th>\n",
       "      <th>flesch_kin</th>\n",
       "      <th>dalechall</th>\n",
       "      <th>fog</th>\n",
       "    </tr>\n",
       "  </thead>\n",
       "  <tbody>\n",
       "    <tr>\n",
       "      <th>5</th>\n",
       "      <td>81079</td>\n",
       "      <td>\\n\\nDesign and construct a new water treatment...</td>\n",
       "      <td>\\n\\nDesign and construct a new water treatment...</td>\n",
       "      <td>78.488716</td>\n",
       "      <td>6.180105</td>\n",
       "      <td>9.623889</td>\n",
       "      <td>7.696461</td>\n",
       "    </tr>\n",
       "  </tbody>\n",
       "</table>\n",
       "</div>"
      ],
      "text/plain": [
       "   project number                                     descript_clean  \\\n",
       "5           81079  \\n\\nDesign and construct a new water treatment...   \n",
       "\n",
       "                                         descr_ready  flesch_re  flesch_kin  \\\n",
       "5  \\n\\nDesign and construct a new water treatment...  78.488716    6.180105   \n",
       "\n",
       "   dalechall       fog  \n",
       "5   9.623889  7.696461  "
      ]
     },
     "execution_count": 15,
     "metadata": {},
     "output_type": "execute_result"
    }
   ],
   "source": [
    "ISC_data[ISC_data.flesch_kin == ISC_data.flesch_kin.min()] # most readable"
   ]
  },
  {
   "cell_type": "code",
   "execution_count": 16,
   "metadata": {},
   "outputs": [
    {
     "data": {
      "text/html": [
       "<div>\n",
       "<style scoped>\n",
       "    .dataframe tbody tr th:only-of-type {\n",
       "        vertical-align: middle;\n",
       "    }\n",
       "\n",
       "    .dataframe tbody tr th {\n",
       "        vertical-align: top;\n",
       "    }\n",
       "\n",
       "    .dataframe thead th {\n",
       "        text-align: right;\n",
       "    }\n",
       "</style>\n",
       "<table border=\"1\" class=\"dataframe\">\n",
       "  <thead>\n",
       "    <tr style=\"text-align: right;\">\n",
       "      <th></th>\n",
       "      <th>project number</th>\n",
       "      <th>descript_clean</th>\n",
       "      <th>descr_ready</th>\n",
       "      <th>flesch_re</th>\n",
       "      <th>flesch_kin</th>\n",
       "      <th>dalechall</th>\n",
       "      <th>fog</th>\n",
       "    </tr>\n",
       "  </thead>\n",
       "  <tbody>\n",
       "    <tr>\n",
       "      <th>14</th>\n",
       "      <td>80238</td>\n",
       "      <td>The Animakee Wa Zing First Nation community of...</td>\n",
       "      <td>The Animakee Wa Zing First Nation community of...</td>\n",
       "      <td>33.999359</td>\n",
       "      <td>19.282308</td>\n",
       "      <td>11.980372</td>\n",
       "      <td>21.333333</td>\n",
       "    </tr>\n",
       "  </tbody>\n",
       "</table>\n",
       "</div>"
      ],
      "text/plain": [
       "    project number                                     descript_clean  \\\n",
       "14           80238  The Animakee Wa Zing First Nation community of...   \n",
       "\n",
       "                                          descr_ready  flesch_re  flesch_kin  \\\n",
       "14  The Animakee Wa Zing First Nation community of...  33.999359   19.282308   \n",
       "\n",
       "    dalechall        fog  \n",
       "14  11.980372  21.333333  "
      ]
     },
     "execution_count": 16,
     "metadata": {},
     "output_type": "execute_result"
    }
   ],
   "source": [
    "ISC_data[ISC_data.flesch_kin == ISC_data.flesch_kin.max()] # least readable"
   ]
  },
  {
   "cell_type": "markdown",
   "metadata": {},
   "source": [
    "Agreement with Flesch Reading Ease that 81079 is the most readable.\n",
    "Identifies different text for least readable."
   ]
  },
  {
   "cell_type": "code",
   "execution_count": 17,
   "metadata": {},
   "outputs": [
    {
     "name": "stdout",
     "output_type": "stream",
     "text": [
      "The Animakee Wa Zing First Nation community of Windigo Island requires a new water treatment plant (WTP) and storage reservoir to replace the exsiting water treatment system currently in the community. The project will include installing two new water intake pipes into the Lake of the Woods approximately 150 m off of the shore, a new reject water outfall pipe approximately 100 m into the lake, constructing a new WTP building adjacent to the existing WTP, installing above ground water reservoir tanks, installinga marine crossing pipe between Windigo Island and Windfall Island, installing six dry hydrants into the lake for fire flows and extending the watermains to unserviced houses in the community. The water treatment system will be sized for the to design year 20, based on projected population growth.\r\n",
      "\r\n",
      " \n"
     ]
    }
   ],
   "source": [
    "print(ISC_data.iloc[14, 1])"
   ]
  },
  {
   "cell_type": "markdown",
   "metadata": {},
   "source": [
    "Very long sentence in the \"least readable\" text. It seems the author has not thought about the reader at all.\n",
    "\n",
    "### Dale Chall score"
   ]
  },
  {
   "cell_type": "code",
   "execution_count": 18,
   "metadata": {},
   "outputs": [
    {
     "data": {
      "text/plain": [
       "count    43.000000\n",
       "mean     10.814684\n",
       "std       1.026135\n",
       "min       8.824602\n",
       "25%      10.063590\n",
       "50%      10.795473\n",
       "75%      11.261567\n",
       "max      13.484229\n",
       "Name: dalechall, dtype: float64"
      ]
     },
     "execution_count": 18,
     "metadata": {},
     "output_type": "execute_result"
    }
   ],
   "source": [
    "ISC_data[\"dalechall\"].describe()"
   ]
  },
  {
   "cell_type": "code",
   "execution_count": 19,
   "metadata": {},
   "outputs": [
    {
     "data": {
      "text/html": [
       "<div>\n",
       "<style scoped>\n",
       "    .dataframe tbody tr th:only-of-type {\n",
       "        vertical-align: middle;\n",
       "    }\n",
       "\n",
       "    .dataframe tbody tr th {\n",
       "        vertical-align: top;\n",
       "    }\n",
       "\n",
       "    .dataframe thead th {\n",
       "        text-align: right;\n",
       "    }\n",
       "</style>\n",
       "<table border=\"1\" class=\"dataframe\">\n",
       "  <thead>\n",
       "    <tr style=\"text-align: right;\">\n",
       "      <th></th>\n",
       "      <th>project number</th>\n",
       "      <th>descript_clean</th>\n",
       "      <th>descr_ready</th>\n",
       "      <th>flesch_re</th>\n",
       "      <th>flesch_kin</th>\n",
       "      <th>dalechall</th>\n",
       "      <th>fog</th>\n",
       "    </tr>\n",
       "  </thead>\n",
       "  <tbody>\n",
       "    <tr>\n",
       "      <th>39</th>\n",
       "      <td>81259</td>\n",
       "      <td>The Carry The Kettle First Nation is building ...</td>\n",
       "      <td>The Carry The Kettle First Nation is building ...</td>\n",
       "      <td>71.731132</td>\n",
       "      <td>7.502392</td>\n",
       "      <td>8.824602</td>\n",
       "      <td>9.880936</td>\n",
       "    </tr>\n",
       "  </tbody>\n",
       "</table>\n",
       "</div>"
      ],
      "text/plain": [
       "    project number                                     descript_clean  \\\n",
       "39           81259  The Carry The Kettle First Nation is building ...   \n",
       "\n",
       "                                          descr_ready  flesch_re  flesch_kin  \\\n",
       "39  The Carry The Kettle First Nation is building ...  71.731132    7.502392   \n",
       "\n",
       "    dalechall       fog  \n",
       "39   8.824602  9.880936  "
      ]
     },
     "execution_count": 19,
     "metadata": {},
     "output_type": "execute_result"
    }
   ],
   "source": [
    "ISC_data[ISC_data.dalechall == ISC_data.dalechall.min()] # most readable"
   ]
  },
  {
   "cell_type": "code",
   "execution_count": 20,
   "metadata": {},
   "outputs": [
    {
     "name": "stdout",
     "output_type": "stream",
     "text": [
      "The Carry The Kettle First Nation is building a new convenience store and gas station . The First Nation will prepare the site for construction of the new structure on a surveyed lot located on Assiniboine IR 76. Business will be owned by the Carry The Kettle First Nation . The proposed site 5,500 square meters (1.36 acres), and offers easy access from Saskatchewan Grid #606. There will be 2 full-service pumps and a 2 story convenience store that measures 678 square meters, second floor is 74 square meter and public washroom facilities. The fuels will be contained in an above-ground 3 compartment split tank. Regular Unleaded (30,000 L), diesel (20,000L) and premium (10,000L). A separate propane tank will be on site for store use (heating and kitchen use).  During construction, all waste generated will be discarded to the local landfill situated on Carry The Kettle First Nation. All waste generated once the convenience store and Gas Station is operational will be placed at the Carry The Kettle First Nation Landfill.\r\n",
      " \n"
     ]
    }
   ],
   "source": [
    "print(ISC_data.iloc[39, 1])"
   ]
  },
  {
   "cell_type": "code",
   "execution_count": 21,
   "metadata": {},
   "outputs": [
    {
     "data": {
      "text/html": [
       "<div>\n",
       "<style scoped>\n",
       "    .dataframe tbody tr th:only-of-type {\n",
       "        vertical-align: middle;\n",
       "    }\n",
       "\n",
       "    .dataframe tbody tr th {\n",
       "        vertical-align: top;\n",
       "    }\n",
       "\n",
       "    .dataframe thead th {\n",
       "        text-align: right;\n",
       "    }\n",
       "</style>\n",
       "<table border=\"1\" class=\"dataframe\">\n",
       "  <thead>\n",
       "    <tr style=\"text-align: right;\">\n",
       "      <th></th>\n",
       "      <th>project number</th>\n",
       "      <th>descript_clean</th>\n",
       "      <th>descr_ready</th>\n",
       "      <th>flesch_re</th>\n",
       "      <th>flesch_kin</th>\n",
       "      <th>dalechall</th>\n",
       "      <th>fog</th>\n",
       "    </tr>\n",
       "  </thead>\n",
       "  <tbody>\n",
       "    <tr>\n",
       "      <th>2</th>\n",
       "      <td>80223</td>\n",
       "      <td>The project area is comprised of the Designate...</td>\n",
       "      <td>The project area is comprised of the Designate...</td>\n",
       "      <td>31.875714</td>\n",
       "      <td>15.769286</td>\n",
       "      <td>13.484229</td>\n",
       "      <td>18.342857</td>\n",
       "    </tr>\n",
       "  </tbody>\n",
       "</table>\n",
       "</div>"
      ],
      "text/plain": [
       "   project number                                     descript_clean  \\\n",
       "2           80223  The project area is comprised of the Designate...   \n",
       "\n",
       "                                         descr_ready  flesch_re  flesch_kin  \\\n",
       "2  The project area is comprised of the Designate...  31.875714   15.769286   \n",
       "\n",
       "   dalechall        fog  \n",
       "2  13.484229  18.342857  "
      ]
     },
     "execution_count": 21,
     "metadata": {},
     "output_type": "execute_result"
    }
   ],
   "source": [
    "ISC_data[ISC_data.dalechall == ISC_data.dalechall.max()] # least readable"
   ]
  },
  {
   "cell_type": "markdown",
   "metadata": {},
   "source": [
    "Agreement with Flesch Reading Ease that the least readable is 80223. \n",
    "New selection for most readable,81259, which uses simple language and is broken up into short sentences.\n",
    "\n",
    "### Fog index"
   ]
  },
  {
   "cell_type": "code",
   "execution_count": 22,
   "metadata": {},
   "outputs": [
    {
     "data": {
      "text/plain": [
       "count    43.000000\n",
       "mean     13.839003\n",
       "std       2.978173\n",
       "min       7.696461\n",
       "25%      11.545351\n",
       "50%      13.798870\n",
       "75%      14.834493\n",
       "max      21.333333\n",
       "Name: fog, dtype: float64"
      ]
     },
     "execution_count": 22,
     "metadata": {},
     "output_type": "execute_result"
    }
   ],
   "source": [
    "ISC_data[\"fog\"].describe()"
   ]
  },
  {
   "cell_type": "code",
   "execution_count": 24,
   "metadata": {},
   "outputs": [
    {
     "data": {
      "text/html": [
       "<div>\n",
       "<style scoped>\n",
       "    .dataframe tbody tr th:only-of-type {\n",
       "        vertical-align: middle;\n",
       "    }\n",
       "\n",
       "    .dataframe tbody tr th {\n",
       "        vertical-align: top;\n",
       "    }\n",
       "\n",
       "    .dataframe thead th {\n",
       "        text-align: right;\n",
       "    }\n",
       "</style>\n",
       "<table border=\"1\" class=\"dataframe\">\n",
       "  <thead>\n",
       "    <tr style=\"text-align: right;\">\n",
       "      <th></th>\n",
       "      <th>project number</th>\n",
       "      <th>descript_clean</th>\n",
       "      <th>descr_ready</th>\n",
       "      <th>flesch_re</th>\n",
       "      <th>flesch_kin</th>\n",
       "      <th>dalechall</th>\n",
       "      <th>fog</th>\n",
       "    </tr>\n",
       "  </thead>\n",
       "  <tbody>\n",
       "    <tr>\n",
       "      <th>5</th>\n",
       "      <td>81079</td>\n",
       "      <td>\\n\\nDesign and construct a new water treatment...</td>\n",
       "      <td>\\n\\nDesign and construct a new water treatment...</td>\n",
       "      <td>78.488716</td>\n",
       "      <td>6.180105</td>\n",
       "      <td>9.623889</td>\n",
       "      <td>7.696461</td>\n",
       "    </tr>\n",
       "  </tbody>\n",
       "</table>\n",
       "</div>"
      ],
      "text/plain": [
       "   project number                                     descript_clean  \\\n",
       "5           81079  \\n\\nDesign and construct a new water treatment...   \n",
       "\n",
       "                                         descr_ready  flesch_re  flesch_kin  \\\n",
       "5  \\n\\nDesign and construct a new water treatment...  78.488716    6.180105   \n",
       "\n",
       "   dalechall       fog  \n",
       "5   9.623889  7.696461  "
      ]
     },
     "execution_count": 24,
     "metadata": {},
     "output_type": "execute_result"
    }
   ],
   "source": [
    "ISC_data[ISC_data.fog == ISC_data.fog.min()] # most readable"
   ]
  },
  {
   "cell_type": "code",
   "execution_count": 25,
   "metadata": {},
   "outputs": [
    {
     "data": {
      "text/html": [
       "<div>\n",
       "<style scoped>\n",
       "    .dataframe tbody tr th:only-of-type {\n",
       "        vertical-align: middle;\n",
       "    }\n",
       "\n",
       "    .dataframe tbody tr th {\n",
       "        vertical-align: top;\n",
       "    }\n",
       "\n",
       "    .dataframe thead th {\n",
       "        text-align: right;\n",
       "    }\n",
       "</style>\n",
       "<table border=\"1\" class=\"dataframe\">\n",
       "  <thead>\n",
       "    <tr style=\"text-align: right;\">\n",
       "      <th></th>\n",
       "      <th>project number</th>\n",
       "      <th>descript_clean</th>\n",
       "      <th>descr_ready</th>\n",
       "      <th>flesch_re</th>\n",
       "      <th>flesch_kin</th>\n",
       "      <th>dalechall</th>\n",
       "      <th>fog</th>\n",
       "    </tr>\n",
       "  </thead>\n",
       "  <tbody>\n",
       "    <tr>\n",
       "      <th>14</th>\n",
       "      <td>80238</td>\n",
       "      <td>The Animakee Wa Zing First Nation community of...</td>\n",
       "      <td>The Animakee Wa Zing First Nation community of...</td>\n",
       "      <td>33.999359</td>\n",
       "      <td>19.282308</td>\n",
       "      <td>11.980372</td>\n",
       "      <td>21.333333</td>\n",
       "    </tr>\n",
       "  </tbody>\n",
       "</table>\n",
       "</div>"
      ],
      "text/plain": [
       "    project number                                     descript_clean  \\\n",
       "14           80238  The Animakee Wa Zing First Nation community of...   \n",
       "\n",
       "                                          descr_ready  flesch_re  flesch_kin  \\\n",
       "14  The Animakee Wa Zing First Nation community of...  33.999359   19.282308   \n",
       "\n",
       "    dalechall        fog  \n",
       "14  11.980372  21.333333  "
      ]
     },
     "execution_count": 25,
     "metadata": {},
     "output_type": "execute_result"
    }
   ],
   "source": [
    "ISC_data[ISC_data.fog == ISC_data.fog.max()] # least readable"
   ]
  },
  {
   "cell_type": "markdown",
   "metadata": {},
   "source": [
    "Agreement in both cases with the Flesch Kincaid grade level.\n",
    "\n",
    "### Step 4: Graph the results"
   ]
  },
  {
   "cell_type": "code",
   "execution_count": 26,
   "metadata": {},
   "outputs": [
    {
     "data": {
      "image/png": "[encoded data removed]",
      "text/plain": [
       "<Figure size 504x504 with 4 Axes>"
      ]
     },
     "metadata": {},
     "output_type": "display_data"
    }
   ],
   "source": [
    "sns.set(style=\"darkgrid\")\n",
    "\n",
    "\n",
    "fig, axs = plt.subplots(2, 2, figsize=(7, 7), sharey=True)\n",
    "\n",
    "\n",
    "sns.histplot(data=ISC_data, x=\"flesch_kin\", kde=True, color=\"skyblue\", \n",
    "             ax=axs[0, 0]).set(xlabel=\"Flesch Kincaid\")\n",
    "sns.histplot(data=ISC_data, x=\"dalechall\", kde=True, color=\"olive\", \n",
    "             ax=axs[0, 1]).set(xlabel = \"Dale Chall\")\n",
    "sns.histplot(data=ISC_data, x=\"fog\", kde=True, color=\"gold\", \n",
    "             ax=axs[1, 0]).set(xlabel = \"Gunning Fog\")\n",
    "sns.histplot(data=ISC_data, x=\"flesch_re\", kde=True, color=\"teal\", \n",
    "             ax=axs[1, 1]).set(xlabel = \"Flesch Reading Ease\")\n",
    "\n",
    "\n",
    "fig.tight_layout(pad = 2, rect=[0, 0.03, 1, 0.95]) # add space between subplot rows and main title\n",
    "\n",
    "for ax in axs: # make the y axis the same for all subplots\n",
    "    plt.setp(ax, ylim=(0,15))\n",
    "\n",
    "axs[0,0].set_xlim(5,18)  # flesch-kincaid x-axis\n",
    "axs[1,0].set_xlim(5, 22) # gunning fog x-axis\n",
    "axs[0,1].set_xlim(5, 14) # dale chall\n",
    "axs[1,1].set_xlim(20, 100) # flesch reading ease\n",
    "    \n",
    "fig.suptitle(\"Indigenous Services Canada\")\n",
    "plt.show()"
   ]
  },
  {
   "cell_type": "markdown",
   "metadata": {},
   "source": [
    "### Step 5: Save scores "
   ]
  },
  {
   "cell_type": "code",
   "execution_count": 27,
   "metadata": {},
   "outputs": [],
   "source": [
    "# ISC_data.to_excel(\"data/processed/ISC_scores.xlsx\", index = False)"
   ]
  },
  {
   "cell_type": "code",
   "execution_count": null,
   "metadata": {},
   "outputs": [],
   "source": []
  }
 ],
 "metadata": {
  "kernelspec": {
   "display_name": "Python 3",
   "language": "python",
   "name": "python3"
  },
  "language_info": {
   "codemirror_mode": {
    "name": "ipython",
    "version": 3
   },
   "file_extension": ".py",
   "mimetype": "text/x-python",
   "name": "python",
   "nbconvert_exporter": "python",
   "pygments_lexer": "ipython3",
   "version": "3.8.5"
  }
 },
 "nbformat": 4,
 "nbformat_minor": 4
}
